{
 "cells": [
  {
   "cell_type": "markdown",
   "metadata": {},
   "source": [
    "# Text Feature Engineering - No LSA"
   ]
  },
  {
   "cell_type": "code",
   "execution_count": 1,
   "metadata": {
    "collapsed": true
   },
   "outputs": [],
   "source": [
    "from __future__ import print_function\n",
    "\n",
    "import numpy as np\n",
    "import pandas as pd\n",
    "import matplotlib.pyplot as plt\n",
    "import seaborn as sns\n",
    "color = sns.color_palette()\n",
    "\n",
    "from sklearn.feature_extraction.text import TfidfVectorizer\n",
    "\n",
    "%matplotlib inline\n",
    "\n",
    "pd.options.mode.chained_assignment = None"
   ]
  },
  {
   "cell_type": "code",
   "execution_count": 6,
   "metadata": {
    "collapsed": false
   },
   "outputs": [
    {
     "data": {
      "text/html": [
       "<div>\n",
       "<table border=\"1\" class=\"dataframe\">\n",
       "  <thead>\n",
       "    <tr style=\"text-align: right;\">\n",
       "      <th></th>\n",
       "      <th>bathrooms</th>\n",
       "      <th>bedrooms</th>\n",
       "      <th>building_id</th>\n",
       "      <th>created</th>\n",
       "      <th>description</th>\n",
       "      <th>display_address</th>\n",
       "      <th>features</th>\n",
       "      <th>interest_level</th>\n",
       "      <th>latitude</th>\n",
       "      <th>listing_id</th>\n",
       "      <th>longitude</th>\n",
       "      <th>manager_id</th>\n",
       "      <th>photos</th>\n",
       "      <th>price</th>\n",
       "      <th>street_address</th>\n",
       "    </tr>\n",
       "  </thead>\n",
       "  <tbody>\n",
       "    <tr>\n",
       "      <th>10</th>\n",
       "      <td>1.5</td>\n",
       "      <td>3</td>\n",
       "      <td>53a5b119ba8f7b61d4e010512e0dfc85</td>\n",
       "      <td>2016-06-24 07:54:24</td>\n",
       "      <td>A Brand New 3 Bedroom 1.5 bath ApartmentEnjoy ...</td>\n",
       "      <td>Metropolitan Avenue</td>\n",
       "      <td>[]</td>\n",
       "      <td>medium</td>\n",
       "      <td>40.7145</td>\n",
       "      <td>7211212</td>\n",
       "      <td>-73.9425</td>\n",
       "      <td>5ba989232d0489da1b5f2c45f6688adc</td>\n",
       "      <td>[https://photos.renthop.com/2/7211212_1ed4542e...</td>\n",
       "      <td>3000</td>\n",
       "      <td>792 Metropolitan Avenue</td>\n",
       "    </tr>\n",
       "    <tr>\n",
       "      <th>10000</th>\n",
       "      <td>1.0</td>\n",
       "      <td>2</td>\n",
       "      <td>c5c8a357cba207596b04d1afd1e4f130</td>\n",
       "      <td>2016-06-12 12:19:27</td>\n",
       "      <td></td>\n",
       "      <td>Columbus Avenue</td>\n",
       "      <td>[Doorman, Elevator, Fitness Center, Cats Allow...</td>\n",
       "      <td>low</td>\n",
       "      <td>40.7947</td>\n",
       "      <td>7150865</td>\n",
       "      <td>-73.9667</td>\n",
       "      <td>7533621a882f71e25173b27e3139d83d</td>\n",
       "      <td>[https://photos.renthop.com/2/7150865_be3306c5...</td>\n",
       "      <td>5465</td>\n",
       "      <td>808 Columbus Avenue</td>\n",
       "    </tr>\n",
       "    <tr>\n",
       "      <th>100004</th>\n",
       "      <td>1.0</td>\n",
       "      <td>1</td>\n",
       "      <td>c3ba40552e2120b0acfc3cb5730bb2aa</td>\n",
       "      <td>2016-04-17 03:26:41</td>\n",
       "      <td>Top Top West Village location, beautiful Pre-w...</td>\n",
       "      <td>W 13 Street</td>\n",
       "      <td>[Laundry In Building, Dishwasher, Hardwood Flo...</td>\n",
       "      <td>high</td>\n",
       "      <td>40.7388</td>\n",
       "      <td>6887163</td>\n",
       "      <td>-74.0018</td>\n",
       "      <td>d9039c43983f6e564b1482b273bd7b01</td>\n",
       "      <td>[https://photos.renthop.com/2/6887163_de85c427...</td>\n",
       "      <td>2850</td>\n",
       "      <td>241 W 13 Street</td>\n",
       "    </tr>\n",
       "    <tr>\n",
       "      <th>100007</th>\n",
       "      <td>1.0</td>\n",
       "      <td>1</td>\n",
       "      <td>28d9ad350afeaab8027513a3e52ac8d5</td>\n",
       "      <td>2016-04-18 02:22:02</td>\n",
       "      <td>Building Amenities - Garage - Garden - fitness...</td>\n",
       "      <td>East 49th Street</td>\n",
       "      <td>[Hardwood Floors, No Fee]</td>\n",
       "      <td>low</td>\n",
       "      <td>40.7539</td>\n",
       "      <td>6888711</td>\n",
       "      <td>-73.9677</td>\n",
       "      <td>1067e078446a7897d2da493d2f741316</td>\n",
       "      <td>[https://photos.renthop.com/2/6888711_6e660cee...</td>\n",
       "      <td>3275</td>\n",
       "      <td>333 East 49th Street</td>\n",
       "    </tr>\n",
       "    <tr>\n",
       "      <th>100013</th>\n",
       "      <td>1.0</td>\n",
       "      <td>4</td>\n",
       "      <td>0</td>\n",
       "      <td>2016-04-28 01:32:41</td>\n",
       "      <td>Beautifully renovated 3 bedroom flex 4 bedroom...</td>\n",
       "      <td>West 143rd Street</td>\n",
       "      <td>[Pre-War]</td>\n",
       "      <td>low</td>\n",
       "      <td>40.8241</td>\n",
       "      <td>6934781</td>\n",
       "      <td>-73.9493</td>\n",
       "      <td>98e13ad4b495b9613cef886d79a6291f</td>\n",
       "      <td>[https://photos.renthop.com/2/6934781_1fa4b41a...</td>\n",
       "      <td>3350</td>\n",
       "      <td>500 West 143rd Street</td>\n",
       "    </tr>\n",
       "  </tbody>\n",
       "</table>\n",
       "</div>"
      ],
      "text/plain": [
       "        bathrooms  bedrooms                       building_id  \\\n",
       "10            1.5         3  53a5b119ba8f7b61d4e010512e0dfc85   \n",
       "10000         1.0         2  c5c8a357cba207596b04d1afd1e4f130   \n",
       "100004        1.0         1  c3ba40552e2120b0acfc3cb5730bb2aa   \n",
       "100007        1.0         1  28d9ad350afeaab8027513a3e52ac8d5   \n",
       "100013        1.0         4                                 0   \n",
       "\n",
       "                    created  \\\n",
       "10      2016-06-24 07:54:24   \n",
       "10000   2016-06-12 12:19:27   \n",
       "100004  2016-04-17 03:26:41   \n",
       "100007  2016-04-18 02:22:02   \n",
       "100013  2016-04-28 01:32:41   \n",
       "\n",
       "                                              description  \\\n",
       "10      A Brand New 3 Bedroom 1.5 bath ApartmentEnjoy ...   \n",
       "10000                                                       \n",
       "100004  Top Top West Village location, beautiful Pre-w...   \n",
       "100007  Building Amenities - Garage - Garden - fitness...   \n",
       "100013  Beautifully renovated 3 bedroom flex 4 bedroom...   \n",
       "\n",
       "            display_address  \\\n",
       "10      Metropolitan Avenue   \n",
       "10000       Columbus Avenue   \n",
       "100004          W 13 Street   \n",
       "100007     East 49th Street   \n",
       "100013    West 143rd Street   \n",
       "\n",
       "                                                 features interest_level  \\\n",
       "10                                                     []         medium   \n",
       "10000   [Doorman, Elevator, Fitness Center, Cats Allow...            low   \n",
       "100004  [Laundry In Building, Dishwasher, Hardwood Flo...           high   \n",
       "100007                          [Hardwood Floors, No Fee]            low   \n",
       "100013                                          [Pre-War]            low   \n",
       "\n",
       "        latitude  listing_id  longitude                        manager_id  \\\n",
       "10       40.7145     7211212   -73.9425  5ba989232d0489da1b5f2c45f6688adc   \n",
       "10000    40.7947     7150865   -73.9667  7533621a882f71e25173b27e3139d83d   \n",
       "100004   40.7388     6887163   -74.0018  d9039c43983f6e564b1482b273bd7b01   \n",
       "100007   40.7539     6888711   -73.9677  1067e078446a7897d2da493d2f741316   \n",
       "100013   40.8241     6934781   -73.9493  98e13ad4b495b9613cef886d79a6291f   \n",
       "\n",
       "                                                   photos  price  \\\n",
       "10      [https://photos.renthop.com/2/7211212_1ed4542e...   3000   \n",
       "10000   [https://photos.renthop.com/2/7150865_be3306c5...   5465   \n",
       "100004  [https://photos.renthop.com/2/6887163_de85c427...   2850   \n",
       "100007  [https://photos.renthop.com/2/6888711_6e660cee...   3275   \n",
       "100013  [https://photos.renthop.com/2/6934781_1fa4b41a...   3350   \n",
       "\n",
       "                 street_address  \n",
       "10      792 Metropolitan Avenue  \n",
       "10000       808 Columbus Avenue  \n",
       "100004          241 W 13 Street  \n",
       "100007     333 East 49th Street  \n",
       "100013    500 West 143rd Street  "
      ]
     },
     "execution_count": 6,
     "metadata": {},
     "output_type": "execute_result"
    }
   ],
   "source": [
    "train_df = pd.read_json('train.json')\n",
    "train_df.head()"
   ]
  },
  {
   "cell_type": "code",
   "execution_count": 16,
   "metadata": {
    "collapsed": true
   },
   "outputs": [],
   "source": [
    "main_df = pd.read_pickle('Pickled_Files/X_num.pickle')"
   ]
  },
  {
   "cell_type": "code",
   "execution_count": 17,
   "metadata": {
    "collapsed": false
   },
   "outputs": [
    {
     "data": {
      "text/html": [
       "<div>\n",
       "<table border=\"1\" class=\"dataframe\">\n",
       "  <thead>\n",
       "    <tr style=\"text-align: right;\">\n",
       "      <th></th>\n",
       "      <th>bathrooms</th>\n",
       "      <th>bedrooms</th>\n",
       "      <th>price</th>\n",
       "      <th>num_photos</th>\n",
       "      <th>num_features</th>\n",
       "      <th>description_length</th>\n",
       "      <th>latitude</th>\n",
       "      <th>longitude</th>\n",
       "      <th>manager_bin_1</th>\n",
       "      <th>manager_bin_2</th>\n",
       "      <th>manager_bin_3</th>\n",
       "      <th>manager_bin_4</th>\n",
       "      <th>manager_bin_5</th>\n",
       "      <th>month_bin_1</th>\n",
       "      <th>month_bin_2</th>\n",
       "      <th>month_bin_3</th>\n",
       "    </tr>\n",
       "  </thead>\n",
       "  <tbody>\n",
       "    <tr>\n",
       "      <th>0</th>\n",
       "      <td>1.5</td>\n",
       "      <td>3</td>\n",
       "      <td>3000.0</td>\n",
       "      <td>5</td>\n",
       "      <td>0</td>\n",
       "      <td>95</td>\n",
       "      <td>40.7145</td>\n",
       "      <td>-73.9425</td>\n",
       "      <td>0.0</td>\n",
       "      <td>1.0</td>\n",
       "      <td>0.0</td>\n",
       "      <td>0.0</td>\n",
       "      <td>0.0</td>\n",
       "      <td>0.0</td>\n",
       "      <td>0.0</td>\n",
       "      <td>1.0</td>\n",
       "    </tr>\n",
       "    <tr>\n",
       "      <th>1</th>\n",
       "      <td>1.0</td>\n",
       "      <td>1</td>\n",
       "      <td>2250.0</td>\n",
       "      <td>5</td>\n",
       "      <td>1</td>\n",
       "      <td>63</td>\n",
       "      <td>40.7216</td>\n",
       "      <td>-73.9423</td>\n",
       "      <td>0.0</td>\n",
       "      <td>1.0</td>\n",
       "      <td>0.0</td>\n",
       "      <td>0.0</td>\n",
       "      <td>0.0</td>\n",
       "      <td>0.0</td>\n",
       "      <td>1.0</td>\n",
       "      <td>0.0</td>\n",
       "    </tr>\n",
       "    <tr>\n",
       "      <th>2</th>\n",
       "      <td>1.0</td>\n",
       "      <td>1</td>\n",
       "      <td>2200.0</td>\n",
       "      <td>5</td>\n",
       "      <td>2</td>\n",
       "      <td>105</td>\n",
       "      <td>40.6905</td>\n",
       "      <td>-73.9668</td>\n",
       "      <td>0.0</td>\n",
       "      <td>1.0</td>\n",
       "      <td>0.0</td>\n",
       "      <td>0.0</td>\n",
       "      <td>0.0</td>\n",
       "      <td>0.0</td>\n",
       "      <td>1.0</td>\n",
       "      <td>0.0</td>\n",
       "    </tr>\n",
       "    <tr>\n",
       "      <th>3</th>\n",
       "      <td>1.0</td>\n",
       "      <td>1</td>\n",
       "      <td>1950.0</td>\n",
       "      <td>4</td>\n",
       "      <td>0</td>\n",
       "      <td>29</td>\n",
       "      <td>40.6963</td>\n",
       "      <td>-73.9239</td>\n",
       "      <td>0.0</td>\n",
       "      <td>1.0</td>\n",
       "      <td>0.0</td>\n",
       "      <td>0.0</td>\n",
       "      <td>0.0</td>\n",
       "      <td>1.0</td>\n",
       "      <td>0.0</td>\n",
       "      <td>0.0</td>\n",
       "    </tr>\n",
       "    <tr>\n",
       "      <th>4</th>\n",
       "      <td>1.0</td>\n",
       "      <td>1</td>\n",
       "      <td>2000.0</td>\n",
       "      <td>4</td>\n",
       "      <td>0</td>\n",
       "      <td>27</td>\n",
       "      <td>40.7056</td>\n",
       "      <td>-73.9209</td>\n",
       "      <td>0.0</td>\n",
       "      <td>1.0</td>\n",
       "      <td>0.0</td>\n",
       "      <td>0.0</td>\n",
       "      <td>0.0</td>\n",
       "      <td>0.0</td>\n",
       "      <td>0.0</td>\n",
       "      <td>1.0</td>\n",
       "    </tr>\n",
       "  </tbody>\n",
       "</table>\n",
       "</div>"
      ],
      "text/plain": [
       "   bathrooms  bedrooms   price  num_photos  num_features  description_length  \\\n",
       "0        1.5         3  3000.0           5             0                  95   \n",
       "1        1.0         1  2250.0           5             1                  63   \n",
       "2        1.0         1  2200.0           5             2                 105   \n",
       "3        1.0         1  1950.0           4             0                  29   \n",
       "4        1.0         1  2000.0           4             0                  27   \n",
       "\n",
       "   latitude  longitude  manager_bin_1  manager_bin_2  manager_bin_3  \\\n",
       "0   40.7145   -73.9425            0.0            1.0            0.0   \n",
       "1   40.7216   -73.9423            0.0            1.0            0.0   \n",
       "2   40.6905   -73.9668            0.0            1.0            0.0   \n",
       "3   40.6963   -73.9239            0.0            1.0            0.0   \n",
       "4   40.7056   -73.9209            0.0            1.0            0.0   \n",
       "\n",
       "   manager_bin_4  manager_bin_5  month_bin_1  month_bin_2  month_bin_3  \n",
       "0            0.0            0.0          0.0          0.0          1.0  \n",
       "1            0.0            0.0          0.0          1.0          0.0  \n",
       "2            0.0            0.0          0.0          1.0          0.0  \n",
       "3            0.0            0.0          1.0          0.0          0.0  \n",
       "4            0.0            0.0          0.0          0.0          1.0  "
      ]
     },
     "execution_count": 17,
     "metadata": {},
     "output_type": "execute_result"
    }
   ],
   "source": [
    "main_df.head()"
   ]
  },
  {
   "cell_type": "code",
   "execution_count": 18,
   "metadata": {
    "collapsed": false
   },
   "outputs": [
    {
     "data": {
      "text/html": [
       "<div>\n",
       "<table border=\"1\" class=\"dataframe\">\n",
       "  <thead>\n",
       "    <tr style=\"text-align: right;\">\n",
       "      <th></th>\n",
       "      <th>features</th>\n",
       "      <th>description</th>\n",
       "      <th>listing_id</th>\n",
       "    </tr>\n",
       "  </thead>\n",
       "  <tbody>\n",
       "    <tr>\n",
       "      <th>10</th>\n",
       "      <td>[]</td>\n",
       "      <td>A Brand New 3 Bedroom 1.5 bath ApartmentEnjoy ...</td>\n",
       "      <td>7211212</td>\n",
       "    </tr>\n",
       "    <tr>\n",
       "      <th>10000</th>\n",
       "      <td>[Doorman, Elevator, Fitness Center, Cats Allow...</td>\n",
       "      <td></td>\n",
       "      <td>7150865</td>\n",
       "    </tr>\n",
       "    <tr>\n",
       "      <th>100004</th>\n",
       "      <td>[Laundry In Building, Dishwasher, Hardwood Flo...</td>\n",
       "      <td>Top Top West Village location, beautiful Pre-w...</td>\n",
       "      <td>6887163</td>\n",
       "    </tr>\n",
       "    <tr>\n",
       "      <th>100007</th>\n",
       "      <td>[Hardwood Floors, No Fee]</td>\n",
       "      <td>Building Amenities - Garage - Garden - fitness...</td>\n",
       "      <td>6888711</td>\n",
       "    </tr>\n",
       "    <tr>\n",
       "      <th>100013</th>\n",
       "      <td>[Pre-War]</td>\n",
       "      <td>Beautifully renovated 3 bedroom flex 4 bedroom...</td>\n",
       "      <td>6934781</td>\n",
       "    </tr>\n",
       "  </tbody>\n",
       "</table>\n",
       "</div>"
      ],
      "text/plain": [
       "                                                 features  \\\n",
       "10                                                     []   \n",
       "10000   [Doorman, Elevator, Fitness Center, Cats Allow...   \n",
       "100004  [Laundry In Building, Dishwasher, Hardwood Flo...   \n",
       "100007                          [Hardwood Floors, No Fee]   \n",
       "100013                                          [Pre-War]   \n",
       "\n",
       "                                              description  listing_id  \n",
       "10      A Brand New 3 Bedroom 1.5 bath ApartmentEnjoy ...     7211212  \n",
       "10000                                                         7150865  \n",
       "100004  Top Top West Village location, beautiful Pre-w...     6887163  \n",
       "100007  Building Amenities - Garage - Garden - fitness...     6888711  \n",
       "100013  Beautifully renovated 3 bedroom flex 4 bedroom...     6934781  "
      ]
     },
     "execution_count": 18,
     "metadata": {},
     "output_type": "execute_result"
    }
   ],
   "source": [
    "text_features_df = train_df[['features', 'description', 'listing_id']]\n",
    "text_features_df.head()"
   ]
  },
  {
   "cell_type": "code",
   "execution_count": 19,
   "metadata": {
    "collapsed": false
   },
   "outputs": [],
   "source": [
    "features_df = text_features_df['features'].apply(lambda x: \" \".join(x))"
   ]
  },
  {
   "cell_type": "code",
   "execution_count": 20,
   "metadata": {
    "collapsed": false
   },
   "outputs": [
    {
     "data": {
      "text/plain": [
       "10                                                         \n",
       "10000     Doorman Elevator Fitness Center Cats Allowed D...\n",
       "100004    Laundry In Building Dishwasher Hardwood Floors...\n",
       "100007                               Hardwood Floors No Fee\n",
       "100013                                              Pre-War\n",
       "Name: features, dtype: object"
      ]
     },
     "execution_count": 20,
     "metadata": {},
     "output_type": "execute_result"
    }
   ],
   "source": [
    "features_df.head()"
   ]
  },
  {
   "cell_type": "code",
   "execution_count": 21,
   "metadata": {
    "collapsed": false
   },
   "outputs": [
    {
     "data": {
      "text/plain": [
       "(49352,)"
      ]
     },
     "execution_count": 21,
     "metadata": {},
     "output_type": "execute_result"
    }
   ],
   "source": [
    "features_df.shape"
   ]
  },
  {
   "cell_type": "markdown",
   "metadata": {},
   "source": [
    "### Putting `features` through `TfidVectorizer`"
   ]
  },
  {
   "cell_type": "code",
   "execution_count": 22,
   "metadata": {
    "collapsed": false,
    "scrolled": true
   },
   "outputs": [
    {
     "data": {
      "text/plain": [
       "array([u'york', u'fees', u'entrance', u'entire', u'entertainment',\n",
       "       u'entertain', u'enormous', u'end', u'enclosed', u'en', u'elev',\n",
       "       u'elegant', u'elegance', u'electronic', u'electricity', u'electric',\n",
       "       u'ego', u'effective', u'eat', u'easy', u'east', u'e60s', u'e50s',\n",
       "       u'dyer', u'dw', u'duty', u'duplex', u'dryer', u'dry', u'drs',\n",
       "       u'dressing', u'entrances', u'entryway', u'equal', u'extravagant',\n",
       "       u'featuring', u'features', u'feature', u'fast', u'fans', u'fan',\n",
       "       u'family', u'facing', u'facility', u'facilities', u'eye',\n",
       "       u'extreme', u'extravaganza', u'extra', u'equipment', u'exquisite',\n",
       "       u'exposure', u'exposed', u'expansive', u'exercise', u'executive',\n",
       "       u'exclusive', u'excellent', u'excellence', u'events', u'european',\n",
       "       u'eraser', u'equipped', u'drenched', u'dream', u'double',\n",
       "       u'convertible', u'cpw', u'courtyard', u'courts', u'court',\n",
       "       u'countertops', u'counters', u'counter', u'cost', u'corner',\n",
       "       u'coordination', u'cooler', u'cook', u'convinient', u'convenience',\n",
       "       u'crown', u'conv', u'control', u'continental', u'construction',\n",
       "       u'conference', u'condominium', u'condo', u'conditioning',\n",
       "       u'conditioners', u'conditioned', u'condition', u'concierge',\n",
       "       u'concession', u'credit', u'custom', u'doorways', u'dining',\n",
       "       u'doors'], \n",
       "      dtype='<U18')"
      ]
     },
     "execution_count": 22,
     "metadata": {},
     "output_type": "execute_result"
    }
   ],
   "source": [
    "from sklearn.feature_extraction.text import TfidfVectorizer\n",
    "\n",
    "tfidf = TfidfVectorizer(stop_words='english', use_idf=True, max_df=0.20)\n",
    "#ngram_range=(1, 2) - do not use ngrams as get features that do not make sense\n",
    "\n",
    "listing_features_vectorizer = tfidf.fit_transform(features_df)\n",
    "\n",
    "feature_array = np.array(tfidf.get_feature_names())\n",
    "tfidf_sorting = np.argsort(listing_features_vectorizer.toarray()).flatten()[::-1]\n",
    "\n",
    "n = 100\n",
    "top_n = feature_array[tfidf_sorting][:n]\n",
    "top_n"
   ]
  },
  {
   "cell_type": "code",
   "execution_count": 23,
   "metadata": {
    "collapsed": false
   },
   "outputs": [
    {
     "data": {
      "text/plain": [
       "(49352, 1029)"
      ]
     },
     "execution_count": 23,
     "metadata": {},
     "output_type": "execute_result"
    }
   ],
   "source": [
    "listing_features_vectorizer.shape"
   ]
  },
  {
   "cell_type": "markdown",
   "metadata": {},
   "source": [
    "## Trying Feature Text without SVD"
   ]
  },
  {
   "cell_type": "code",
   "execution_count": 25,
   "metadata": {
    "collapsed": true
   },
   "outputs": [],
   "source": [
    "y = np.load('y.npy')"
   ]
  },
  {
   "cell_type": "code",
   "execution_count": 26,
   "metadata": {
    "collapsed": false
   },
   "outputs": [
    {
     "data": {
      "text/plain": [
       "(49352,)"
      ]
     },
     "execution_count": 26,
     "metadata": {},
     "output_type": "execute_result"
    }
   ],
   "source": [
    "y.shape"
   ]
  },
  {
   "cell_type": "code",
   "execution_count": 27,
   "metadata": {
    "collapsed": true
   },
   "outputs": [],
   "source": [
    "X_feature_text = listing_features_vectorizer"
   ]
  },
  {
   "cell_type": "code",
   "execution_count": 28,
   "metadata": {
    "collapsed": false
   },
   "outputs": [
    {
     "data": {
      "text/plain": [
       "(49352, 1029)"
      ]
     },
     "execution_count": 28,
     "metadata": {},
     "output_type": "execute_result"
    }
   ],
   "source": [
    "X_feature_text.shape"
   ]
  },
  {
   "cell_type": "code",
   "execution_count": 40,
   "metadata": {
    "collapsed": true
   },
   "outputs": [],
   "source": [
    "from sklearn.model_selection import train_test_split\n",
    "from sklearn.linear_model import LogisticRegression\n",
    "from sklearn.tree import DecisionTreeClassifier\n",
    "from sklearn.naive_bayes import MultinomialNB\n",
    "\n",
    "from sklearn.metrics import accuracy_score, precision_score, recall_score, confusion_matrix, classification_report\n",
    "from sklearn.metrics import log_loss"
   ]
  },
  {
   "cell_type": "code",
   "execution_count": 41,
   "metadata": {
    "collapsed": true
   },
   "outputs": [],
   "source": [
    "X_train, \\\n",
    "X_test,  \\\n",
    "y_train, \\\n",
    "y_test = train_test_split(X_feature_text, y, test_size=0.20, random_state=82)"
   ]
  },
  {
   "cell_type": "code",
   "execution_count": 42,
   "metadata": {
    "collapsed": true
   },
   "outputs": [],
   "source": [
    "def evaluate_model(model):\n",
    "    \n",
    "    model.fit(X_train, y_train)\n",
    "    \n",
    "    train_score = model.score(X_train, y_train)\n",
    "    test_score = model.score(X_test, y_test)\n",
    "    \n",
    "    y_hat = model.predict(X_train)\n",
    "    y_pred = model.predict(X_test)\n",
    "    \n",
    "    y_hat_proba = model.predict_proba(X_train)\n",
    "    y_pred_proba = model.predict_proba(X_test)\n",
    "    \n",
    "    return {'model': model,\n",
    "            'X_test': X_test,\n",
    "            'X_train': X_train,\n",
    "            'y': y,\n",
    "            'y_test': y_test,\n",
    "            'y_train': y_train,\n",
    "            'y_hat': y_hat,\n",
    "            'y_pred': y_pred,\n",
    "            'y_hat_proba': y_hat_proba,\n",
    "            'y_pred_proba': y_pred_proba,\n",
    "            'train_score': train_score,\n",
    "            'test_score': test_score\n",
    "           }"
   ]
  },
  {
   "cell_type": "code",
   "execution_count": 43,
   "metadata": {
    "collapsed": true
   },
   "outputs": [],
   "source": [
    "def model_summary(model, data_dictionary):\n",
    "    \n",
    "    class_rpt = classification_report(data_dictionary['y_test'], data_dictionary['y_pred'])\n",
    "    log_loss_score_train = log_loss(data_dictionary['y_train'], data_dictionary['y_hat_proba'])\n",
    "    log_loss_score_test = log_loss(data_dictionary['y_test'], data_dictionary['y_pred_proba'])\n",
    "    \n",
    "    print (\"Model Summary Report:\\n\")\n",
    "    print (model)\n",
    "    print (\"\\n\")\n",
    "    print (\"Classification Report:\\n\")\n",
    "    print (class_rpt)\n",
    "    print (\"Accuracy on training set: {:4f}\".format(model.score(data_dictionary['X_train'], \n",
    "                                                                data_dictionary['y_train'])))\n",
    "    \n",
    "    print (\"Accuracy on test set:     {:4f}\".format(model.score(data_dictionary['X_test'], \n",
    "                                                            data_dictionary['y_test'])))\n",
    "    print (\"\\n\")\n",
    "    print (\"Log Loss on training set: {:4f}\".format(log_loss_score_train))\n",
    "    print (\"Log Loss on test set:     {:4f}\".format(log_loss_score_test))"
   ]
  },
  {
   "cell_type": "code",
   "execution_count": 44,
   "metadata": {
    "collapsed": true
   },
   "outputs": [],
   "source": [
    "clf1 = LogisticRegression(penalty='l2',\n",
    "                          C=0.001,\n",
    "                          n_jobs=-1,\n",
    "                          random_state=82\n",
    "                         )"
   ]
  },
  {
   "cell_type": "code",
   "execution_count": 45,
   "metadata": {
    "collapsed": false
   },
   "outputs": [],
   "source": [
    "clf1_dictionary = evaluate_model(clf1)"
   ]
  },
  {
   "cell_type": "code",
   "execution_count": 46,
   "metadata": {
    "collapsed": false
   },
   "outputs": [
    {
     "name": "stdout",
     "output_type": "stream",
     "text": [
      "Model Summary Report:\n",
      "\n",
      "LogisticRegression(C=0.001, class_weight=None, dual=False, fit_intercept=True,\n",
      "          intercept_scaling=1, max_iter=100, multi_class='ovr', n_jobs=-1,\n",
      "          penalty='l2', random_state=82, solver='liblinear', tol=0.0001,\n",
      "          verbose=0, warm_start=False)\n",
      "\n",
      "\n",
      "Classification Report:\n",
      "\n",
      "             precision    recall  f1-score   support\n",
      "\n",
      "          0       0.00      0.00      0.00       765\n",
      "          1       0.69      1.00      0.82      6813\n",
      "          2       0.00      0.00      0.00      2293\n",
      "\n",
      "avg / total       0.48      0.69      0.56      9871\n",
      "\n",
      "Accuracy on training set: 0.695803\n",
      "Accuracy on test set:     0.690204\n",
      "\n",
      "\n",
      "Log Loss on training set: 0.798191\n",
      "Log Loss on test set:     0.803665\n"
     ]
    },
    {
     "name": "stderr",
     "output_type": "stream",
     "text": [
      "/Users/nate_velarde/anaconda/lib/python2.7/site-packages/sklearn/metrics/classification.py:1113: UndefinedMetricWarning: Precision and F-score are ill-defined and being set to 0.0 in labels with no predicted samples.\n",
      "  'precision', 'predicted', average, warn_for)\n"
     ]
    }
   ],
   "source": [
    "model_summary(clf1, clf1_dictionary)"
   ]
  },
  {
   "cell_type": "markdown",
   "metadata": {},
   "source": [
    "## Using Naive Bayes Classifier"
   ]
  },
  {
   "cell_type": "code",
   "execution_count": 69,
   "metadata": {
    "collapsed": true
   },
   "outputs": [],
   "source": [
    "clf2 = MultinomialNB()"
   ]
  },
  {
   "cell_type": "code",
   "execution_count": 70,
   "metadata": {
    "collapsed": true
   },
   "outputs": [],
   "source": [
    "clf2_dictionary = evaluate_model(clf2)"
   ]
  },
  {
   "cell_type": "code",
   "execution_count": 71,
   "metadata": {
    "collapsed": false
   },
   "outputs": [
    {
     "name": "stdout",
     "output_type": "stream",
     "text": [
      "Model Summary Report:\n",
      "\n",
      "MultinomialNB(alpha=1.0, class_prior=None, fit_prior=True)\n",
      "\n",
      "\n",
      "Classification Report:\n",
      "\n",
      "             precision    recall  f1-score   support\n",
      "\n",
      "          0       0.10      0.00      0.01       765\n",
      "          1       0.69      0.99      0.81      6813\n",
      "          2       0.21      0.00      0.01      2293\n",
      "\n",
      "avg / total       0.53      0.69      0.56      9871\n",
      "\n",
      "Accuracy on training set: 0.698260\n",
      "Accuracy on test set:     0.686253\n",
      "\n",
      "\n",
      "Log Loss on training set: 1.016213\n",
      "Log Loss on test set:     1.090299\n"
     ]
    }
   ],
   "source": [
    "model_summary(clf2, clf2_dictionary)"
   ]
  },
  {
   "cell_type": "markdown",
   "metadata": {},
   "source": [
    "## Preparing `description` for processing"
   ]
  },
  {
   "cell_type": "code",
   "execution_count": 50,
   "metadata": {
    "collapsed": false
   },
   "outputs": [
    {
     "data": {
      "text/plain": [
       "10        A Brand New 3 Bedroom 1.5 bath ApartmentEnjoy ...\n",
       "10000                                                      \n",
       "100004    Top Top West Village location, beautiful Pre-w...\n",
       "100007    Building Amenities - Garage - Garden - fitness...\n",
       "100013    Beautifully renovated 3 bedroom flex 4 bedroom...\n",
       "Name: description, dtype: object"
      ]
     },
     "execution_count": 50,
     "metadata": {},
     "output_type": "execute_result"
    }
   ],
   "source": [
    "description_df = text_features_df['description']\n",
    "description_df.head()"
   ]
  },
  {
   "cell_type": "code",
   "execution_count": 72,
   "metadata": {
    "collapsed": false
   },
   "outputs": [
    {
     "data": {
      "text/plain": [
       "array([ u\"a brand new 3 bedroom 1 5 bath apartmentenjoy these following apartment features as you rent here  modern designed bathroom w  a deep spa soaking tub  room to room ac heat  real oak hardwood floors  rain forest shower head  ss steel appliances w  chef gas cook oven and large fridge  washer  dryer in the apt  cable internet ready  granite counter top kitchen w  lot of cabinet storage spaceit's just a few blocks to l train  don't miss out we have several great apartments in the immediate area   for additional information   \",\n",
       "       u'AFULLEMPYSTRING',\n",
       "       u'top top west village location, beautiful pre war building with laundry in the basement and live in super   apartment features a large bedroom with closet  separate living room, kitchen features granite tops, dishwasher and microwave included, marble bathroom and hardwood flooring  building is very well maintained and conveniently located near a,c,e,l,1,2,3 trains  surrounded by many local cafe s, restaurants, available for november 1st move in   to view this apartment or any other please   me via   or   at the number listed       bond new york is a real estate broker that supports equal housing opportunity  ',\n",
       "       u'building amenities   garage   garden   fitness room   laundry room  rooftop deck    located in midtown east   high energy area   plenty of bars and restaurants to choose from   within walking distance to the transit e,m,6,7  this apartment also feature a renovated kitchen with microwave   marble bath tiles     or   and   for exclusive showing    no fee             ',\n",
       "       u'beautifully renovated 3 bedroom flex 4 bedroom apartment for rent  available immediately  elevator building  exposed brick walls  hardwood floors through the apartment  kitchen has wood kitchen cabinets and stainless steel appliances including a dishwasher and a microwave  unit has a washer and dryer  bathroom has ceramic wall and floors tiles and lots of storage  apartment is very sunny and spacious  available immediatelyplease       jessica for an appointment '], dtype=object)"
      ]
     },
     "execution_count": 72,
     "metadata": {},
     "output_type": "execute_result"
    }
   ],
   "source": [
    "description_df.values[:5]"
   ]
  },
  {
   "cell_type": "markdown",
   "metadata": {},
   "source": [
    "## Cleaning Up Text Data Somewhat Non-Pythonically"
   ]
  },
  {
   "cell_type": "code",
   "execution_count": 52,
   "metadata": {
    "collapsed": false
   },
   "outputs": [],
   "source": [
    "description_df = description_df.str.lower()\n",
    "description_df = description_df.str.replace(r'^\\s+$', 'AFULLEMPYSTRING')\n",
    "description_df = description_df.str.replace(r'<p><a  website_redacted ', ' ')\n",
    "description_df = description_df.str.replace(r'!<br /><br />', ' ')\n",
    "description_df = description_df.str.replace(r\"<br', '/><br\", ' ')\n",
    "description_df = description_df.str.replace(r\"\\b(st.)\\b\", ' street ')\n",
    "description_df = description_df.str.replace(r\"\\b(dr)\\b\", ' drive ')\n",
    "description_df = description_df.str.replace(r\"-\", ' ')\n",
    "description_df = description_df.str.replace(r\"$amp;\", '&')\n",
    "description_df = description_df.str.replace(r\"!\", ' ')\n",
    "description_df = description_df.str.replace(r\"*\", ' ')\n",
    "description_df = description_df.str.replace(r\"\\(\", ' ')\n",
    "description_df = description_df.str.replace(r\"\\)\", ' ')\n",
    "description_df = description_df.str.replace(r\"+\", ' ')\n",
    "description_df = description_df.str.replace(r\"\\t\", ' ')\n",
    "description_df = description_df.str.replace(r\"\\r\", ' ')\n",
    "description_df = description_df.str.replace(r\"\\b(hr)\\b\", ' hour')\n",
    "description_df = description_df.str.replace(r\"\\b(w/)\\b\", ' with')\n",
    "description_df = description_df.str.replace(r\"<br />\", ' ')\n",
    "description_df = description_df.str.replace(r\"<br/>\", ' ')\n",
    "description_df = description_df.str.replace(r\"<br>\", ' ') # can you do a wildcard to get rid of everything between <>\n",
    "description_df = description_df.str.replace(r\"/\", ' ')\n",
    "description_df = description_df.str.replace(r\"\\b(lg)\\b\", 'large')\n",
    "description_df = description_df.str.replace(r\"<a>\", ' ')\n",
    "description_df = description_df.str.replace(r\"<li>\", ' ')\n",
    "description_df = description_df.str.replace(r\"<ul>\", ' ')\n",
    "description_df = description_df.str.replace(r\"(<.>)\", ' ')\n",
    "\n",
    "description_df = description_df.str.replace(r\"\\b(wi fi)\\b\", 'wi-fi')\n",
    "description_df = description_df.str.replace(r\"\\b(wifi)\\b\", 'wi-fi')\n",
    "\n",
    "description_df = description_df.str.replace(r\"<[^>]*>\", ' ')\n",
    "description_df = description_df.str.replace(r\"<a target=_blank  houref= website_redacted\", ' ')\n",
    "\n",
    "description_df = description_df.str.replace(r\"\\b(24  hour)\\b\", '24-hour')\n",
    "description_df = description_df.str.replace(r\"\\b(24 hour)\\b\", '24-hour')\n",
    "description_df = description_df.str.replace(r\"\\b(24hr)\\b\", '24-hour')\n",
    "\n",
    "# regex for telephone numbers\n",
    "\n",
    "# 123 456 7890\n",
    "description_df = description_df.str.replace(r\"\\b\\d{3}[\\s]?\\d{3}[\\s]?\\d{4}\\b\", ' ')\n",
    "\n",
    "# 123 456 7890 + letters immediately after phone number\n",
    "description_df = description_df.str.replace(r\"\\b\\d{3}[\\s]?\\d{3}[\\s]?\\d{4}[a-z]+\\b\", ' ')\n",
    "\n",
    "# letters immediately before number no space [a-z]123 456 7890\n",
    "description_df = description_df.str.replace(r\"\\b[a-z]+\\d{3}[\\s]?\\d{3}[\\s]?\\d{4}\", ' ')\n",
    "\n",
    "# 123.456.7890 or 123-456-7890\n",
    "description_df = description_df.str.replace(r\"\\b\\d{3}[-.]?\\d{3}[-.]?\\d{4}\\b\", ' ')\n",
    "\n",
    "description_df = description_df.str.replace(r\"\\b(website_redacted)\\b\", ' ')\n",
    "\n",
    "# regex to get rid of e-mail addresses\n",
    "description_df = description_df.str.replace(r\"\\b(kagglemanager@renthop.com)\\b\", ' ')\n",
    "\n",
    "# regex to get rid of word.com\n",
    "description_df = description_df.str.replace(r\"\\b[a-z]+\\.(com)\\b\", ' ')\n",
    "description_df = description_df.str.replace(r\"\\b[a-z]+\\.(net)\\b\", ' ')\n",
    "\n",
    "# regex to get rid of www.\n",
    "description_df = description_df.str.replace(r\"\\b(www.)\\b\", ' ')\n",
    "\n",
    "# regex to get rid of .com\n",
    "description_df = description_df.str.replace(r\"\\b(.com)\\b\", ' ')\n",
    "\n",
    "# converting '&' to 'and' -- although this may be made moot by stop words\n",
    "description_df = description_df.str.replace(r\"&\", 'and')\n",
    "\n",
    "# removing question marks\n",
    "description_df = description_df.str.replace(r\"?\", ' ')\n",
    "\n",
    "# removing question marks\n",
    "description_df = description_df.str.replace(r\":\", ' ')\n",
    "\n",
    "# removing periods\n",
    "description_df = description_df.str.replace(r\".\", ' ')\n",
    "\n",
    "# removing 'eet'\n",
    "description_df = description_df.str.replace(r\"\\b(eet)\\b\", ' ')\n",
    "\n",
    "# removing 'pipes'\n",
    "description_df = description_df.str.replace(r\"|\", '')\n",
    "\n",
    "# removing '\\'\n",
    "description_df = description_df.str.replace(r\"\\\\\", ' ')\n",
    "\n",
    "# removing '='\n",
    "description_df = description_df.str.replace(r\"=\", ' ')\n",
    "\n",
    "# removing '247'\n",
    "description_df = description_df.str.replace(r\"\\b(247)\\b\", '24-hour 7-day')\n",
    "\n",
    "# removing '[]' \n",
    "description_df = description_df.str.replace(r\"\\[\", ' ')\n",
    "description_df = description_df.str.replace(r\"\\]\", ' ')\n",
    "\n",
    "# removing 'web id #'\n",
    "description_df = description_df.str.replace(r\"\\b(web id #)\\b\", ' ')\n",
    "\n",
    "# removing 'contact'\n",
    "description_df = description_df.str.replace(r\"\\b(contact)\\b\", ' ')\n",
    "                                            \n",
    "# removing 'e-mail'\n",
    "description_df = description_df.str.replace(r\"\\b(e-mail)\\b\", ' ')                                            \n",
    "description_df = description_df.str.replace(r\"\\b(e mail)\\b\", ' ')\n",
    "description_df = description_df.str.replace(r\"\\b(email)\\b\", ' ')\n",
    "\n",
    "# removing 'call and text'\n",
    "description_df = description_df.str.replace(r\"\\b(call)\\b\", ' ')                                            \n",
    "description_df = description_df.str.replace(r\"\\b(text)\\b\", ' ')\n",
    "description_df = description_df.str.replace(r\"\\b(phone)\\b\", ' ')\n",
    "\n",
    "# removing more tags\n",
    "description_df = description_df.str.replace(r\"<a target_blank href\", ' ')\n",
    "\n",
    "# removing more tags\n",
    "description_df = description_df.str.replace(r\";\", ' ')\n",
    "\n",
    "# removing '1000s'\n",
    "description_df = description_df.str.replace(r\"\\b(1000s)\\b\", ' ')\n",
    "\n",
    "# removing '@'at\n",
    "description_df = description_df.str.replace(r\"@\", 'at')\n",
    "\n",
    "# removing 'website'\n",
    "description_df = description_df.str.replace(r\"\\b(website)\\b\", ' ')\n",
    "\n",
    "# removing 'www'\n",
    "description_df = description_df.str.replace(r\"\\b(www)\\b\", ' ')\n",
    "\n",
    "# removing '_ and ~'\n",
    "description_df = description_df.str.replace(r\"_\", ' ')\n",
    "description_df = description_df.str.replace(r\"~\", ' ')"
   ]
  },
  {
   "cell_type": "code",
   "execution_count": 53,
   "metadata": {
    "collapsed": false
   },
   "outputs": [
    {
     "data": {
      "text/plain": [
       "array([ u'this pre war building located in the upper east side is pet friendly, has elevator and voice intercom  ',\n",
       "       u\"this spacious one bedroom apartment is located in manhattan's kips bay neighborhood  this elevator building has a 24-hour doorman, roof deck , and laundry  the 4, 5, 6, n, and r subway lines are all within walking distance  pictures are of a standard unit                \",\n",
       "       u'make this stunning true 3 bedroom 2 bathroom apartment your new home  this gut renovated apartment features a beautiful open kitchen  living room layout as you enter the apartment divided by a granite counter top island, accompanied by white cabinetry, stainless steel appliances and inclusive of a dishwasher  each of the bedrooms can at least fit a queen size bed and perhaps a king size bed in perhaps 2 of the bedrooms  one of the bedrooms has an en suite bathroom with a stand up shower  all bedrooms has full closets as well as beautiful large windows allowing for lots of natural light  the other bathroom is also a full bath with a tub with modern style fixtures  brand new hard wood flooring throughout the apartment and is about 900 sq ft  the apartment also has a washer dryer hook and the landlord may be willing to offer the actually washer dryer  the rent price is inclusive of hot water only as far utilities are concerned  tenant pays electric and the heating of      the apartment  sorry no pets  just 5 min from the 3 train at rockaway ave and supermarket close by        for an appointment today   ',\n",
       "       u'this will go fast   undermarket value legit 1 bed in downtown mitown west   2 short blocks away from the ace train   very convenient   clean, well kept, tower building on the 4th floor   , secure with full time doorman   available for immediate move in   i am ready to help find you your next great home      with several resources, connections at my fingertips, i can find you a space you love, ensure its a smooth experience, and guide you through any housing related ordeal, day or night               listing courtesy of miron properties  all material herein is intended for information purposes only and has been compiled from sources deemed reliable  though information is believed to be correct, it is presented subject to errors, omissions, changes or withdrawal without notice   miron properties is a licensed real estate broker       ',\n",
       "       u'incredibly spacious flex 2 apartment in the financial district at a price that is unmatched  it features hardwood flooring, custom countertops with backsplash, and oversized windows for natural light    this building is just steps away from battery park, the east river bike trail, and many restaurants that you can take advantage of  walking distance to subways and buses   amenities include   24-hour doorman, washer dryer in unit, pet friendly, bike room, garage parking, on site storage unit, and a sundeck     me today and let me help you find your dream apartment    ',\n",
       "       u'     listing id #6aa 6001  access   of unique listings online  apartment features  renovated, dishwasher, granite kitchen, stainless kitchen, central a c, wood floors  building amenities  rental, post war, hi rise, doorman, concierge, elevator, gym, swimming pool, laundry room, roof deck, pets allowed, bike room, lounge, garage, storage room  area neighborhood  gramercy park, limon restaurant, bao noodles, access to the m23, x14, x2, morton williams supermarket, access to the 4 5 6 l subways, gristedes supermarket    us  for more information or to schedule a viewing,   cooper andamp  cooper at   or       helpful links  find a candamp c associate     associates  search   of apartments     searchrentals  attend our next buying seminar     buyingseminar  read reviews     testimonials',\n",
       "       u\"may move in  massive corner flex 2 bed   sunny   grand living dinning   walk in closet  wonderful high floor corner one bedroom with a dining alcove convertible two bedroom facing north east for mid april   may 1st move in  terrific features include, window in every bedroom, two king size beds after conversion, ample storage including a walk in closet, sunny bedrooms, specious living room and separate dining area  perfect share  see before and after floor plans   community amenities  24-hour doorman  24-hour emergency maintenance  business center  cable ready  daytime concierge  laundry facilities  pet friendly   public transit nearby  rooftop terrace  sauna   hot tub  state of the art fitness center  verizon fios available   apartment amenities  air conditioning  generous closet space  hardwood floors  voluminous 9' high ceilings  dishwasher  microwave  oven range  refrigerator freezer   to set up a private viewing   eli at   or   \",\n",
       "       u'perfect upper east side location, 24-hour doorman and live in super corner apartment with east and south exposure, bright and sunny  excellent size bedrooms and lots of windows marble tiled bath, windowed kitchen and hardwood floors amazing closet space and high ceilings    nathalie to see         ',\n",
       "       u\"no fee and 1 month free   the doorman greets you as you walk through the furnished lobby  you've your choice of elevator, one on either side of the building   both will take you to this very unique 2br that's defined by its custom made shelving  each bedroom has a wall, both inside and out, comprised completely of shelves   no need to haul up extra drawers and dressers on move in day  the space also shows off hardwood floors, tiled kitchen floor, dishwasher  a c units are already installed for those hot summer months right around the corner  amenities  you're getting a gym, laundry, super who lives in the building, 24h doorman, and heat hot water gas are included   for more info and availability please     ken barbera        \",\n",
       "       u\"let's get you in to see this recently renovated, spacious, quiet, 4 bedroom rental in greenwich village before it's rented   the rental's highlights include large windows and hardwood floors throughout   the rental has tons of sunlight to light up the space   the kitchen was recently renovated and includes a breakfast bar and granite countertops  you'll find plenty of storage, stainless steel appliances, and a dishwasher   the bedroom has hardwood flooring  you should fit a queen sized bed in the bedroom, but i recommend you bring a tape measure during the showing   the recently renovated bathroom comes with marble finishes   it's rare in nyc, at this price range, to find a building that's well maintained  this building is exactly that   please  ,  , or   me at your earliest convenience for any additional information  i'll be more than happy to help       kevin today to view this and nyc's best apartments,        kevin has tremendous market coverage in the city and will help you find a great apartment   \",\n",
       "       u'',\n",
       "       u\"who says you can't have it all   this apartment was built to please   featuring expansive waterfront and skyline views truly enormous master br with tons of custom crafted built in closets  bathroom features beautiful italian stone tiles and pedestal sinks  open kitchen with top of the line appliances and fixtures  sun flooded apartment with multiple exposures  every convenience and amenity including a full fitness center, basketball court, shared outdoor bbq and sundeck spaces, business center, driving range putting green  i'm not kidding  , arcade room, and a billiards lounge  this building will keep you entertained, pampered, and satisfied   whether you're looking for a comfortable family home or a stylish apartment to share with a roommate  supermarkets and pharmacies within one block of your front door  net effective rent       no fee    this apartment cannot be missed    ryan umane for a private showing at      or    or       \",\n",
       "       u\"2 bedrooms   convertible 3 in a massive duplex with 2 terraces and 1 5 bath  renovated, massive living room, great sun exposure, fully equipped kitchen including dishwasher and microwave, full marble bath, great sun exposure and tons of closets luxury building  welcoming lobby, 24 7 doorman, elevator, laundry, fitness center, roof deck and more located in the heart of midtown west, baby steps from major attractions  penn station, times square, the empire state building and more please  ,   or   me at your earliest convenience for additional questions  i'll be more than happy to help  \",\n",
       "       u'the location  located at the northern point of the uws nearby the integral 110th street, cathedral parkway subway stop, and several subway lines including the #1 train and the #a train  a bustling neighborhood with numerous shops, stores, and a high energy location the building  a thick, marble clad prewar building with enormous walls  this structure is the absolute epitome of a manhattan prewar building  basically soundproof building with apartments that have high ceilings  the apartment  renovated 2 bedroom apartment with good separation between bedrooms, a good sized living room, tiled lavatory, modern kitchen, and an in unit washer and dryer in the apartment  this 3 bedroom is priced at an economical rate, which is comparable to many 1 bedroom apartments in the same location  great value for a true 3 bedroom  windows are throughout the entire layout, and the apartment has an abundance of natural light in many rooms ',\n",
       "       u'private roof top access   come and take a look at this spacious renovated 3 bedroom east village gem while it lasts  take delight in all of the culture, art and delicious restaurants this neighborhood has to offer  apartment features roof deck with private entrance perfect for entertaining friends, exposed brick, living room, tons of storage and deep closets, dishwasher, hardwood floor, and secured entry system   for an immediate viewing and additional information, please feel free to   between 6 am and 12 am and   me at any time of the day  any unanswered calls will be promptly returned  hope to hear from you soon ',\n",
       "       u\"this fantastic one bedroom with your own private entrance  apartment features a marble bathroom, washer and dryer, and granite kitchen with dishwasher  accented by exposed brick, high ceilings, and hardwood floors  available for immediate occupancy  apartment features total renovationwasher   dryerprivate entrancehigh ceilings  9'0'' exposed bricks  conveniently located just blocks from the union square and close the 14th street and 3rd avenue bus lines and just  from great downtown restaurants and nightlife   nearby schools grace church    jk 8 campusst george academyfriends seminaryharvey milk high high  for health professions and human servicesthe cooper union  i know this neighborhood and if this apartment does not suit your needs   i can help you find your dream apartment from the many listings that i have                listing courtesy of miron properties  all material herein is intended for information purposes only and has been compiled from sources deemed reliable  though information is believed to be correct, it is presented subject to errors, omissions, changes or withdrawal without notice   miron properties is a licensed real estate broker       \",\n",
       "       u'elevator doorman live in super video security high ceiling hardwood floor roof deck sun deck  os  laundry in the building near park near shops heat hot water   electric included new appliances marble bath near subway s                ',\n",
       "       u\"  no fee   1 bedroom convertible 2, modern, stylish apartment ,state of the art construction  granite kitchen   island, stainless steel appliances, dishwasher, marble bath, full with storage space and natural sun light   luxury building  24 7 doorman, garage, fully equipped health club, playroom, laundry and more   located in the heart of midtown east, steps away from grand central, bryant park, nyc library, rockefeller center and other major attractions   please  ,   or   me at your earliest convenience for additional questions  i'll be more than happy to help  \",\n",
       "       u'this is a must see apartment in a prime location in the west village true 2 br apartment features hardwood floor, high ceiling,washer dryer, dishwasher, granite counter tops,ss appliances, hotel style marble bath and many more,   to view this apartment and others in the city,  ibrahim takane at         ',\n",
       "       u'gut renovated 2 rooms studio  apartment located in pre  war building  the building is located 4 blocks away from the main  street train station and 30 minutes to manhattan  the kitchen is newly renovated with ss appliances and granite counter top and is open with the living room the bathroom is updated too and the bedroom is good enough for queen size bed  please,  ,  , to schedule an appointment, adriana  ,         ',\n",
       "       u'great studio in the west village  a sunny studio withhardwood floors located in a elevator doorman building  to viewcall or   andre,  ',\n",
       "       u\"this charming 1 bedroom apartment features an extra large living room, hardwood floors throughout, and high ceilings     this lovely apartment also boasts a separate kitchen equipped with a dishwasher and microwave   you have to see it to believe it   this apartment is located in a beautifully maintained building with laundry close to the 1 train   the upper west side is home to riverside park, central park, columbia , morningside park, 116th street shopping corridor, whole foods, michael's, tj maxx, sephora, home goods, gabriela's, elizabeth's, tom's restaurant, crepes on columbus, mornngside park farmer's market which only names a few of the sites, shops and restaurants you will be able to experience while living in this vibrant historic community   not your dream home   ,  , or   me today i grew up on the upper west side  let me help you find the home you've been dreaming about    price listed is quoted with a $150 00 month rent credit for direct payment                listing courtesy of miron properties  all material herein is intended for information purposes only and has been compiled from sources deemed reliable  though information is believed to be correct, it is presented subject to errors, omissions, changes or withdrawal without notice   miron properties is a licensed real estate broker       \",\n",
       "       u'midtown apartment now available to rent feel free to   me or give me a   when you can come in to the office and take a look at the apartment studio   $ 2,400  bond new york is a real estate broker that supports equal housing opportunity  ',\n",
       "       u'beautiful 2br in awesome area   this large 2br is located in the heart of mid town east, an area known for being trendy and upcoming  find yourself in the heart of the nyc action  conveniently located near the e,m, and 6 subway lines   renovated kitchen features new appliances and great counter  cabinet space and large pantry   queen  sized bedrooms with generous closet space    bright natural light and exposed brick with mantle give extra charm and comfort   for information on this and other, similar apartments,        ',\n",
       "       u'luxury studio with balcony open floor plan with a renovated kitchen, fully equipped with ss appliances, dishwasher and granite counter tops  ceramic tile baths with marble vanities  over sized windows and plenty storage room  24-hour attended lobby, entertainment lounge and gym pricing and availability are always subject to change depending on demand and availability  for more info about this apartment or to request more info about all other apartments you can   me daily 8am 10pm   no broker fee     ',\n",
       "       u'private outdoor space  washer dryer in unit  this is a true 3 bedroom apartment and has 2 full bathrooms all bedrooms are queen sized and have windows and closets  just renovated and kitchen features stainless steel appliances, dishwasher and above stove top microwave for more counter space  other features include   marble, windowed bathroom, hardwood floors, and 3 queen sized bedrooms   located in the heart of the east village this charming building features classic new york city style with nicely painted crown moldings and marble floors throughout the hallways  it is located close to st  marks, tompkins square park, and some of the best restaurants, bars, cafes, music venues, coffee shops, art galleries, boutiques and thrift shops in nyc  rent price is net effective rent after two months free on the lease  this apartment is under construction with a complete gut renovation with everything being brand new   pictures are a finished apartment in the similar finishes  also near the subway and several buses  pets ok  shares ok  out of state guarantors ok my name is randy smith from miron properties and my team and i are located in the east village and are experts in the area  we would be happy to assist you in finding an apartment to be your next home    or   me today with any questions and or to schedule a viewing and tour                 listing courtesy of miron properties  all material herein is intended for information purposes only and has been compiled from sources deemed reliable  though information is believed to be correct, it is presented subject to errors, omissions, changes or withdrawal without notice   miron properties is a licensed real estate broker       ',\n",
       "       u'everybody loves chelsea  2 minute walk to c,e trains    pet friendly  bright and sunny  with exposed brick  bedrooms fit queen full sized beds with ample closet space  kitchen features all white appliances with stone tile back splash separate living dining area  marble bath high ceilings with track lights  heat and hot water included in rent   or   lee at         ',\n",
       "       u'showing saturday 4 29 16  spacious 1 bedroom 1 bathroom that was recently converted and renovated with new floors  almost 700sqft with a large living area and bathroom with standing shower and lots of storage space  this apartment is on the second floor of a walk up building  includes a half kitchen with stainless steel refrigerator and good counter space   half kitchen means no oven stove top  along with being in an amazing location, the utilities are included in the rent price  this is a family owned building and a great place to live so we are looking for tenants who will be conscious and respectful of the building and other who live there   feel free to     me directly for more information and showing  luke',\n",
       "       u'this decadent doorman andamp  elevator building livens up its surroundings by exhibiting style andamp  a certain level of sophistication,  rarely if ever,  found in an affordable flat  high ceilings,  hardwood flooring, and full amenities   this apartment is located in a high quality prewar building with pro doorman                                                                                                   bond new york is a real estate broker that supports equal housing opportunity  ',\n",
       "       u'this super spacious beauty is 1 bed and 1 bath  filled with character and class  bright front facing living room with painted brick walls  separate gallery kitchen with mint condition appliances and marble bathroom   located at a verdant tree lined block in the heart of upper east side   close to grocery stores, clothing shops, nail salons, restaurants, bars, delis, gyms, pharmacies, etc  pretty much everything you need at your fingertips     syed to view this apartment today  ',\n",
       "       u\"      130753  access   of unique listings online  apartment features  washer dryer, dishwasher, granite kitchen, stainless kitchen, central a c, wood floors  building amenities  rental, post war, hi rise, doorman, concierge, elevator, gym, laundry room, roof deck, pets allowed, bike room, lounge, children's playroom, garage, storage room  area neighborhood  central park to the west, museum of the city, access to m101, m102 and m103, access to the 4,5 and 6 subways, harvest homes farmers market, east river promenade, fine fare supermarket    us  for more information or to schedule a viewing,   cooper andamp  cooper at   or       helpful links  find a candamp c associate     associates  search   of apartments     searchrentals  attend our next buying seminar     buyingseminar  read reviews     testimonials\",\n",
       "       u\"set an appointment here     can show you anything that bohemia has so there is no need to andquot agent huntandquot   condo style finishes and apartment amenities make this place a classy and comfortable place to   home  couple that with the local amenities of south harlem and it becomes the perfect spot for you and yours  take a peek  the apartment location  114th and 8th ave condo style finishes gorgeous white tiled living room open concept kitchen living room stainless steel appliances dark wood cabinetry dishwasher washer dryer queen and full sized bedrooms sun filledthe building  pets ok local amenities  great dining restaurant row of harlem , supermarkets, cafes, central park and morningside park, steps from 2,3,b,c trains actual apartment photos   or   hakim to view    an appointment here     have access to everything in the bohemia inventory  so let's find you a great apartment, and along the way i'll show you anything from the perfect boozy brunch, to finding a show, to the perfect date night spot  let's explore  \",\n",
       "       u'building characteristics twenty four hour concierge                on site lifestyle concierge by luxury attach                    12,000  sf event center with hotel quality facilities and amenities                     elegant glass enclosed private lounge with magnificent river views, billiards table and wet bar                             fully equipped fitness center              sun deck has spectacular city and river views            valet services including dry cleaning, laundry and housecleaning available        on site parking available  apartment characteristics          inspiring panoramas through oversized windows               gourmet kitchen with stainless steel appliances, maple cabinetry, granite countertops and floors                     sophisticated baths with deco tile walls and hexagonal tile floors                      soaring 10  13  ceilings                  custom built closets     ',\n",
       "       u'super sized apartment   2 large bedrooms   one bath with  separate living room   ample closet space   me now for a private viewing   bond new york is a real estate broker that supports equal housing opportunity  ',\n",
       "       u\"accepted application   upon entering the iswonderfully renovated, high floor one bedroom, one and a half bathapartment, one is greeted by two large closets in the entry foyer another step in and one is immediately struck by the massivesun filled living room  at 19 feet wide and high ceilings, it'seasy to imagine making this space your own  it's size easilyaccommodates a dining and living area  the huge renovated kitchensparkles and the huge window will make cooking an even greater joy enter the double exposure  s and e  bedroom and the notice theexpansive city views and teeming sunshine  this bedroom swallows aking size bed, with a surprising amount of room to spare  to be socentrally located on the uws and to have this quiet sunnyretreat  now that is truly a find  the quiet bedroom is a welcomerespite from a busy day  come be impressed by one of the uws's mostclassic pre war doorman rental buildings  stately perched at 83rdand broadway, come allow the friendly doormen and stately lobby towelcome to your new home \",\n",
       "       u'        stunning brand new building  amazing views from the apartments floor to ceiling windows, central air, washer dryer, custom closets  this studio feels larger than it is and has lots of light with high ceilings adding to an already well thought out layout  kitchen is open loft style with stone counter top and full sized appliances making cooking and entertaining an dream   the building has a fully kitted out gym while the roof deck has sweeping views of both manhattan and brooklyn  located round the corner from all dumbo has to offer like brooklyn roasting co  the ice cream factory and shake shack to name a few  fantastic night life and easy access to manhattan or the rest of brooklyn   please   me asap to see this building as the apartments will not last long   ',\n",
       "       u\"this is a must see breath taking  residential tower , a singular addition to the iconic manhattan skyline   undulating waves of stainless steel that reflect the changing light, transforming the appearance of the building throughout the day  gehry's distinctive aesthetic is carried across the interior residential and amenity spaces with custom furnishings and installations  everything in these apartments feels like it is custom built for you  these are must see apartments with extreme luxury details please feel free to   me for any further details                   \",\n",
       "       u'fully renovated large alcove studio  new kitchen with granite counter tops and full size stainless steel appliances including dishwasher and microhood  renovated bathroom with a tub  lots of closets all customized   building features  24-hour doorman, new renovated lobby, package room, laundry facility, live in super, and parking available  extra charge     nathan   to schedule a private showing          ',\n",
       "       u'  luxury amenities      gym  concierge service  elevator   laundry  lounge with free wi-fi   complementary bike storage   storage room  parking  garage   pets friendly     apartment features      bright rooms  living room with dining area  large convertible 2br  suitable for 2 king size beds  granite kitchen   dishwasher   air conditioning  walk in closets  included utilities  complete renovation    select vacant units with no fee     appointments     alex ',\n",
       "       u\"newly renovated 4th floor 1br in midwood ready for move in  the bedroom  11x14  is large enough to hold a king sized bed with ease while the living room  15x15  is very spacious  the eat in kitchen  10x9  can hold a table and includes a brand new stove, refrigerator and dishwasher  hardwood floors throughout the apartment and multiple windows provide plenty of sunshine  4 closets are spread throughout the unit to maximize storage space  located in a pre war elevator building with an on site super and laundry in the building  accessed through a separate entrance   heat and hot water are included  cats ok, no dogs  two blocks away from the avenue m q subway station and around the corner from the b9 bus stop  first month's rent, security deposit and broker fee due at lease signing  please note  tenant must make 40x the monthly rent  $62,000  and have great credit   don't wait     or   chris lucas at   now to schedule a viewing please note i also have listings in the following neighborhoods  dumbo, brooklyn heights, cobble hill, carroll gardens, red hook, gowanus, boerum hill, fort greene, clinton hill, park slope, crown heights, kensington, bed stuy, prospect heights and lefferts gardens  don't hesitate to   me to view an apartment in any of those brooklyn hotspots  \",\n",
       "       u'AFULLEMPYSTRING',\n",
       "       u'renovated studio conveniently located in the upper west side it features exposed brick, hardwood floor, updated bathroom, and closet space  steps to subway, shopping, and other appealing places of the city        shpetim tim  kola   weichert properties l nyc   c      e       feel free to   me anytime and i look forward to finding your new home        video clip available upon request    ',\n",
       "       u\"the building is fully staffed with doormen and a concierge who welcome you, followed by high speed, state of the art elevators that quickly whisk you to your apartment floor another amazing amenity is the spectacular two story penthouse health club  enjoy state of the art weight training, aerobics exercise areas, sauna, steam and massage rooms plus a 45  x 35  glass enclosed swimming pool and two outdoor sun decks  unwind in our spacious lounge  the perfect place to rendezvous with friends   amazing opportunity   2 bedroom    large living    luxury kitchen with stainless steel appliances and granite counter tops    many closets    high floor w great light and south views  best price in the area    won't stay long   no broker fee   if you have any questions concerning the apartment or any other and if you would also like to schedule for a viewing, please feel free to   me at anytime  i can be reached at cell    or   \",\n",
       "       u\"a stately pre war building on w 55th and 6th ave, amazing location in the heart of midtown  central park south just steps away this is home to some of manhattan's most beautifully appointed luxury apartments  the apartment features high ceilings, restored plaster moldings and beams, marble baths, entry foyer and many closets including huge walk ins  wausau thermopane windows for superior sound insulation  select units have a wood burning fireplaces with marble hearths and kitchens with granite  it also features large windows fludding the apartment with natural light  building features 24-hour doorman sky's the limit concierge services, pet friendly, new laundry room, fully equipped fitness center         for more info or to schedule an appointment to view    eli     \",\n",
       "       u'no fee studio in well maintained madison avenue elevator building  extra high ceilings, excellent storage space and fully equipped kitchen with stainless steel appliances and caesar stone counters    this apartment is amazing given the price and location  amenities at true north nomad include live in super, package room, elevator, laundry and free high speed wi-fi  lessees also receive a generously discounted membership to new york health and racquet club   ask me about this and other no fee units from soho, union square, chelsea, up to midtown and uptown  same day showings not a problem   photos are of a similar unit in the building  ',\n",
       "       u'                                                                                                   large bright 1 br  with tons of character  amazing view from private balcony  hardwood flooring throughout  fully fitted kitchen with stainless steel appliances, black granite countertops and alder wooden cabinets  modern white black tiled bathroom  fresh look and modern  must view now    1  this is a low fee unit                                                                                                      situated in prime time new york city, mins from grand central, surrounded by supermarkets, convenience stores and restaurants  live in super  elevator  laundry                                                                                                       for the fastest response,   nate     or         note  the pics and price are from the default model apartment and may differ from the actual unit available  ',\n",
       "       u'prime fort greene     elevator   laundry     x large layout ',\n",
       "       u'this spacious true two bedroom apartment with city views is available unfurnished and comes with a high performance kitchen features custom italian cabinetry, porcelain tile floor, and stainless steel appliances  the bathroom has a marble counter top, deep bathtub  individually controlled heating and cooling units, closets space, and wrapped large windows  this spectacular unit has it all  fantastic closet and storage space, hardwood flooring the building  offers a spectacular list of amenities  included in your rent  which feature  24-hour doorman and concierge  state of the art equipment in a full scale gym  lounge party room  billiard and ping pong tables  a fully landscaped rooftop with sensational views  complete with dining tables, and lounge chairs, all for relaxation and entertaining the neighborhood  this building puts the best of the city at your doorstep  supermarkets, tons of restaurants, also few blocks from east river, the new york stock exchange on wall street, the w hotel downtown  whole foods a 3 minute walk away  transportation 1 4 5 r a c j z subway station, offering a quick easy access to the rest of the city best way to reach me is probably by     or you can   me at       times are a bit limited, but feel free to   me      ',\n",
       "       u'this enormous 3 bedroom apartment features an eat in kitchen with stainless steel appliances and tons of cabinet space, a large living room, queen sized bedrooms, renovated bathroom with soaking tub, and hardwood floors throughout  price is net effective after 1 month free on a 15 month lease located in the les, close to the fm and jz trains, whole foods, essex street market, hamilton fish park, east river promenade, and area favorites like beauty and essex, katz s deli, and clinton baking street company love this apartment  great        me today for your private showing                    listing courtesy of miron properties  all material herein is intended for information purposes only and has been compiled from sources deemed reliable  though information is believed to be correct, it is presented subject to errors, omissions, changes or withdrawal without notice   miron properties is a licensed real estate broker       ',\n",
       "       u'gorgeous luxury 24-hour doorman building with indoor roof top swimming pool, fitness center, live in super, resident lounge, laundry room and storage room  steps to major transportation, fine dining and shopping   expensive flex 3 bed with 1 5 bath rooms apartment with 2 bathrooms, hard room flooring, high ceilings and over sized windows  stainless steel kitchen includes microwave and washer dryer  custom marble bathrooms with large vanities   for an immediate viewing     or     ',\n",
       "       u\"this charming 1 bed is nestled in the heart of vibrant west village  steps from amazing restaurants  the spotted pig, barbuto, etc  , cafes, and nyc s meat packing district hotspots, as well as the eclectic west 4th st  washington sq  nightlife scene  close to major transportation and citi bike stations   apartment features    true queen sized bedroom with ample closet space   new kitchen with ss appliances, dishwasher, and washer dryer  in unit    newly reno'd bath   living room with custom built ins    txt or   christopher and or adam to schedule your viewing today  c   christopher        adam    e           \",\n",
       "       u'a sunny, charming, modern 2 bedroom in the e  village  this apartment features exposed brick, french doors, full sized bedrooms, natural hardwood floors, a modern kitchen with stainless steel appliances and great natural light throughout  this gorgeous renovated building has beautifully restored pre war detail, surrounded by the hottest restaurants and bars, and is closest to the l train  ',\n",
       "       u\"stunning luxury building at prime 20 s    24 hrs doorman , roof deck with gorgeous view and laundry facilities  within close vicinity of shops, restaurant , transportation and entertainment amazing bright style 2 bedroom apt with newly renovated interior  granite kitchen with breakfast bar, marble bath , oak hard wood floor and ample storage space  huge living area and dining area    please don't hesitate to   me for any questions or schedule an appointment   levi  adir     cover all no fee  fee rentals in the area  don t break your head searching online and getting frustrated  don t hesitate to   me with any questions in regards to your apartment search    \",\n",
       "       u'unbeatable location in this murray hill flex 3 bedroom  featuring dark stained hardwood flooring, bright eastern exposure, private balcony, king sized   bedroom, brand new kitchen with a dishwasher    walls must be at least 12 inches from the ceiling   building features a 24 7 doorman, elevator, laundry, furnished roof deck and discounted gym membership  located just steps from the 33rd street 6 train   zack at anytime either by  ,   or   for more information or to schedule a viewing                    ',\n",
       "       u'rare find   large duplex   triplex 1 bdrm on e 87th street and first ',\n",
       "       u'  renovated building and apartment renovation  elevator laundry  steps to columbia  extra large one bedroom, completely gut renovated  elevator building with a laundry room and an on site super  close to major transportation, restaurants, shops and markets  the apartment features  large renovated living room, gorgeous brand new open kitchen with granite counter tops and stainless appliances including a dishwasher, brand new renovated bathroom, ample closetspace, oversized window, and polished hardwood floors  steps to broadway and w  103rd st  1 train stop to view this apartment or any other please   me anytime via cell or    i am extremely dedicated to finding you the right home  ',\n",
       "       u'no fee ultra luxury white glove building large home pool gym roof deck leed certified large one bedroom apartment with room for dinning, living and home office area in the living room  this bright, quiet and sunny home features    nine foot high ceilings   granite floors   floor to celling windows   lots of natural light   ample closet space   marble bath   modern kitchen   granite countertops   ge caf  professional series   energy star appliances   washer dryer ge   private intercom system  the spacious apartment is located in a luxury doorman building with white glove service and innumerable amount of amenities    high speed passenger elevators   state of art fitness center   50 foot lap swimming pool   circular stone whirlpool spa   sundeck   sauna   yoga studio   garden   children s playroom   lounge   screening room with theater style seating   library and conference room   attended 24-hour indoor garage   valet   maid service  your new home is at prime midtown west location within walking distance of penn station, buses and subway lines going in every direction  it s also conveniently close to the lincoln tunnel, madison square garden, the metropolitan opera, broadway theaters, bryant park, along with countless bars, restaurants and boutique stores   for viewing   mariana       net effective price, limited time offer',\n",
       "       u'spacious floor plans and sweeping waterfront views define these no fee apartments located in one of the finest locations on the hudson river  situated on jersey citys spectacular hudson river waterfront  directly across from manhattan   the luxury residences at newport offer fabulous amenities and unparalleled value ',\n",
       "       u'beautifully renovated front facing 1 bedroom apartment features southern exposure, hardwood floors, exposed brick, granite kitchen, stainless steel appliances, washer and dryer, and a dishwasher  available for june 1st occupancy    me to see the unit  ',\n",
       "       u'you can have it all with this sunny upper east side building  located at the beginning of the upper eastside the apartment is perfectly positioned for an easy commute anywhere in the city, equipped with several fantastic on site amenities including a private rooftop overlooking the city, fitness center, playroom, bicycle room, garage and full time concierge services  great studio space, amazing views, modern finishes and a washer and dryer in the unit  the apartment features floor to ceiling windows and herringbone patterned floors throughout the space, custom closets, bathroom is nicely appointed, modern kitchen with top of the line kitchen aid appliances and granite counter tops    to view feel free to     magaly         ',\n",
       "       u'        live upscale on the upper west side of manhattan located close to the great lincoln center arts complex as well as the museum of natural history, riverside park and some of the best shopping at columbus circle    2br 2 ba apartment boast modern interiors with stainless steel, energy star appliances, beautiful hardwood flooring, granite counter tops, and gorgeous custom cabinetry  bathroom are dressed in lustrous tile and features oversize tubs  huge windows that offers natural light and illuminate your home  on site laundry, bike storage playground located across the street   in unit washer and dryer, some units has a corner balcony   to schedule a tour today   asha samuels at three four seven four seven one zero seven eight seven or at  ',\n",
       "       u\"you will immediately notice the two california style closets on your left and right hand side that provide the apartment with efficient storage solutions  proceed through the lengthy hallway foyer and you will be led into the newly renovated, marble bath including a beautifully curated floating vanity  the fully equipped, pass thru, gourmet kitchen features custom cabinetry, granite counter tops, and stainless steel appliances  including a dishwasher, refrigerator, stove top, microwave, and ventilation system    the living space is an effortless flex 2 bedroom conversion   living space, perfect for couples and roommate scenarios  large windows that span the entire southern wall flood the cherry hardwood floors throughout the unit with tons of natural light, creating a serene and peaceful living environment saturated with vitamin d   a source of nourishment fairly scarce in the financial district    situated on john st, you are surrounded by an endless amount of options in terms of fine dining, shopping, culture, and activities  south  street seaport is a short walk from your doorsteps  55 fulton market is conveniently located one block to the north  nyc's financial district and all its famous attractions are a five minute walk to the south west  transit options are also in abundance in the area  the primary hub is the newly renovated fulton street station  operational 24 hours a day  where you can catch eight different train lines  including 2, 3, 4, 5, a, c, j, z  and transfers are available to eight different bus lines  including m5, x1, x3, x4, x17, x19, x2, x28    to schedule an immediate private showing for this and similar no fee units,   john vakalopoulos at    or   me at   \",\n",
       "       u\"58th  large spacious studio w  separate kitchen just listed studio filled with natural sun light,  great closet space  3 huge closets  separate kitchen with marble tile bathroom come with paperwork  won't last long   to schedule a viewing, please   sean at       \",\n",
       "       u'a comfortable studio with amazing finishes in a luxury building   a place to   home in this lovely luxury studio  this apartment is highlighted by the planked hardwood floors, stainless steel fully equipped kitchen, large windows, and so much more  the doorman building also includes fitness center, lounge, several laundry rooms, and so much more  this architecturally stunning building is located right on the boarder of battery park and fidi with easy access to both and major subway lines    today for this and other excellent apartments in your price range   derrick omane         ',\n",
       "       u\"this is the deal that so many people are hunting for  recently renovated spacious studio for 1950 dollars  yes that price is correct and it is not on ave d in alphabet city  this price is unheard of for a unit this nice on 1st ave  large enough to fit a queen size bed, full size sofa, table, and tv  new bathroom, and kitchen  5 minutes away from union sq  by foot  laundry on the block  the apartment even receives great natural light      don't miss this    derrick mealing directly to view     i have connections with the managing party                    listing courtesy of miron properties  all material herein is intended for information purposes only and has been compiled from sources deemed reliable  though information is believed to be correct, it is presented subject to errors, omissions, changes or withdrawal without notice   miron properties is a licensed real estate broker       \",\n",
       "       u'bight studio apartmentspacious all new studio with hardwood floors dishwasher bright and in a well maintained elevator building with laundry  a must see to appreciate  great location laundry in the building               ',\n",
       "       u'no fee huge two bedroom apartment  great location 3rd, close to nyu medical center  beautiful\\xa0true 2\\xa0bedroom apartment, renovated with ac, hardwood floor, new marble bathroom and great view of ny  elevator building features laundry room and on site garage \\xa0   or   to view ',\n",
       "       u\"this spectacular no fee 2 bedroom 1 bathroom apartment in a magnificent area consist of all the right features for you    updated and spacious  with ss appliances and hardwood flooring throughout    no fee no fee  won't last    now to secure a reservation to view this amazing apartment plus many other no fee deals   \",\n",
       "       u'back on the market   awesome deal in long island city, fantastic 1bd unit w  open kitchen, spacious layout, south and west manhattan views  available immediately   available immediate with new lease at $3160  bonus  gym membership and laundry card    stunning apartment with modern luxury and comfort  hardwood floors, stainless steel appliances, floor to ceiling windows and spacious layout makes your own lifestyle from this dynamic waterfront home so special    full service building with 12 acres of green parks, a beautiful esplanade, an outdoor sports park, and a brand new k 8 school around the corner   gorgeous views in long island city waterfront and just 1 stop away from grand central ',\n",
       "       u\"        l train  dekalb ave  is at the corner, with bus services along this same street   if you have a car, there's amazingly always parking available  and if desperate, there's a paid parking lot across the street  ohhh and for move in day, no worries about your moving truck   there's an unloading area next to our lot   perfect    this railroad styled apartment remains true to the 1901 design of the building  unique molding and 10 ft ceilings are wow  you'll have one huge bedroom, a smaller bedroom  or big office , full sized living room, full sized kitchen, and full bathroom  kitchen and bath are completely renovated with modern design and new appliances  all windows are new and energy efficient      close to supermarkets, shops, bars and restaurants  brooklyn bow wow dog daycare directly across the street   post office and hospital around the corner  super short walk to maria hernandez park and doggie park   so much to do in the area \",\n",
       "       u'no broker fee   beautiful newly renovated apartment featuring  bleached plank hardwood floors, recessed lighting, granite countertops, stainless steel appliances, cherry wood cabinets, crown and baseboard moldings, with marble bathroom washer and dryer in unit this building also features a common patio space      ',\n",
       "       u'studio apartmentdouble windows facing west  gets great natural light ,               ',\n",
       "       u'huge two bedroom flex apartment in murray hill  high floor extremely quite with a view of the city  high ceiling and hardwood floors with tons of light  renovated kitchen with all white updated kitchen  the building has a doorman, elevator, laundry room the works  just a short walk to gyms and mass transit  just a short walk to the local bars, clubs, restaurants, fashion stores  no need to   a cab   to view this   lamar ali at   or         ',\n",
       "       u\"newly renovated, sunlit, one bedroom apartment featuring a separate windowed kitchen equipped with stainless steel appliances, natural maple shaker cabinets along with granite counter tops and floor, a ceramic tiled, windowed bathroom, and hardwood floor  this pet friendly building has an attended lobby and is located within proximity of local eateries, cafes, the pioneer supermarket, hunter college high school, a new york sports club, central park, along with public bus transportation and the 6 train  don't hesitate in contacting me to schedule an appointment for this listing  \",\n",
       "       u'   gorgeous   2br 1ba hardwood floors high ceilings front facing two bedroom offers separate windowed kitchen, full windowed bathroom and bedrooms that will accommodate a queen     low fee     package roomlaundry roomgas includedelectric includedlive in superpets allowedheat includedvideo intercomhot water included  for a private viewing     zack ark   or        this is a must see unit        ',\n",
       "       u'  great value   studio at 78th   york   pets ok     now  mariana pasin     falo portugues',\n",
       "       u'under market price for the location  great 3 bedroom apartment in washington heights near the parks, mass transit and restaurants  laundry in the building  dishwasher  bond new york is a real estate broker that supports equal housing opportunity  ',\n",
       "       u\"this deal won't last long  fantastic corner 1 bedroom 1 bath apartment with spacious living room , granite kitchen with all new appliances, dishwasher, hardwood floors and ample closets space   this full service luxury high rise building in midtown west is complete with a 24-hour doorman, professional concierge services, elevator, parking, outdoor space, on site super, laundry room, rooftop deck, resident lounge with a sundeck and pets allowed  perfectly located steps from transportation and beautifully situated to enjoy the best the city can offer   to view     or       \",\n",
       "       u'no fee  two bedroom apartment for rent in clinton hill  this two bedroom for rent is situated in a post war elevator use building  this building features   laundry room    pet friendly    voice intercom        damien andrews for showings or questions  ',\n",
       "       u\"talk about top of the line full service luxury apartments in the prime 3rd ave  with 24-hour doorman, concierge  mail services, impeccable lounging area that you'll   second home  well equipped state of the art fitness center  modern appliances laundry room  pet friendly, allowed vast amount of entertainment at walking distance  from wine bars to steak houses all just baby steps away  5 blocks from grand central station, steps to different subway line  immense unit and lots of sunlight high floors with great view bright and shinny hardwood floors spacious living room area lots of closet space massive master bedroom tiled bathroom well priced below market value  a must see limited time offer   if you have any questions concerning the apartment or any other and if you would also like to schedule for a viewing, please feel free to   me at anytime  i can be reached at cell    or     \",\n",
       "       u'  energy saving lighting  patagonian cherry hardwood floors  solid maple shanker kitchen cabinets with espresso finish  quartz countertops  frigidaire stainless steel appliances  wicker park gerber fixtures in the kitchen and bath  large soaking bathtubs  beveled subway tiles in master baths  4000 sq  ft  rooftop garden  service entrance for moving and large packages  4 blocks to the b, c trains  116th street station   6 blocks to the a, d trains  125th street station   6 blocks to the #2, 3 trains  116th street station   about 1 block to morningside      park      minimum income  $173,250    please ask about this apartment by id number   636593  >',\n",
       "       u'spacious one bedroom located in the heart of the upper west side  this beautiful apartment is located in a pre war part time doorman building on a quiet tree lined street just off of central park west and features a large lvving area open kitchen and windowed tile bath  for immediate access   bryan   bond new york is a real estate broker that supports equal housing opportunity  ',\n",
       "       u'AFULLEMPYSTRING',\n",
       "       u'true two bedroom in nortern east village  union square  on a great block near transportation spacious living room newly renovated granite kitchen, subway tile bathroom shares ok       ',\n",
       "       u\"a stately pre war building on w 55th and 6th ave, amazing location in the heart of midtown  central park south just steps away this is home to some of manhattan's most beautifully appointed luxury apartments  the apartment features high ceilings, restored plaster moldings and beams, marble baths, entry foyer and many closets including huge walk ins  wausau thermopane windows for superior sound insulation  select units have a wood burning fireplaces with marble hearths and kitchens with granite  it also features large windows fludding the apartment with natural light  building features 24-hour doorman sky's the limit concierge services, pet friendly, new laundry room, fully equipped fitness center         for more info or to schedule an appointment to view    eli     \",\n",
       "       u'  near prospect park  4 blocks to supermarket      please ask about this apartment by id number   643551  >',\n",
       "       u'  central midtown location lots of amenities    queen sized bedroom   sliding door closets in bedroom  open plan kitchen   living room  full finished bathroom  heat, hot water, electric andamp  cooking gas included   laundry andamp  elevator in building  live in super  doorman  pet friendly please excuse photos apartment will be cleaned andamp  painted  near to n,q,r,b,d,c, e and 1 subways close to many restaurants, broadway shows, nightlife, food emporium and much more     victoria for further info andamp  to schedule a showing     ',\n",
       "       u'        brownstone lovers   hurry up     facing prospect park   new on the market this amazing and cozy 1 bedroom is located on the best park slope tree lined street facing the park    the apartment is located in a perfectly maintained brownstone  this beautiful residence combines perfectly preserved original details  large windows, high ceilings, hardwood floors and great light  your unit faces prospect park    you will live steps away from all famous restaurants in the neighborhood, all express trains and 2 blocks to the park    location  f train at prospect park do not waste your time   move to the best brooklyn s neighborhood where the desired charm and character are all ',\n",
       "       u\"large 1 bedroom at soho court  this apartment enjoys a wonderful open chef's kitchen, ample storage space,  and a marble bath  located perfectly on tree lined elizabeth street in the heart of soho  soho court, located on east houston and elizabeth streets, is a 12 story, luxury rental property set in the heart of manhattans most energetic and vital neighborhood  offering a variety of unique studio, one and two bedroom layouts, soho courts superior apartment amenities include contemporary kitchens with 9 high ceilings, ceramic tile floors, oversized dining counters, and maple wood designer cabinets, and bathrooms with tri view mirrored medicine cabinets and matching maple wood vanities  the penthouse level apartments feature terraces, skylights and fireplaces   there is also an on site garage and a peaceful, private garden courtyard minimum 1 year leasesoho court, located on east houston and elizabeth streets, is a 12 story, luxury property set in the heart of manhattan's most energetic and vital neighborhood   offering a variety of unique studio, one and two bedroom layouts, soho court's superior apartment amenities include 9' ceilings, contemporary kitchens, ceramic tile floors, oversized granite dining counters and maple wood designer cabinets and bathrooms with tri view mirrored medicine cabinets and matching maple wood vanities   the penthouse level apartments feature terraces, skylights and fireplaces the building also provides the unique feature of an in house exercise room with adjacent laundry facilities allowing tenants the convenience of completing both of those arduous tasks simultaneously   there is also an on site attended garage and a peaceful, private, landscaped and furnished courtyard soho court's ultra central downtown location presents the best of three great neighborhhods  soho, greenwich village and nolita  north of little italy    while retaining their own unique characteristics, each neighborhood offers a delightful mix of art, antiques, terrific food and a multitude of entertainers and shopping choices   the building is only two blocks from both the irt and bmt subway lines building features studios, 1 and 2 bedroom residencesgranite kitchensph apts  with wood burning fireplace, private outdoor space and skylights sky's the limit concierge servicesamenities private landscaped gardenattended garagecomplimentary fitness centeron site resident managerconvenient bike   online tenant serviceplease    ,    , or visit    today for more information \",\n",
       "       u\"modern renovations throughout, with flowing spacious layout, updated electric wiring, hardwood floors,\\xa0updated kitchen, updated bathroom, storage space  it is located in a well maintained video security elevator laundry building within a five minute walk to the subway \\xa0all buildings come with bed bug\\xa0certifications \\xa0cable and high speed internet, heat and hot water included \\xa0showing today \\xa0schedule on line at      schedule your showing today on line at  mymanhattanapt comshowing times \\xa0\\xa08 45am,\\xa010 15am,11 45am,\\xa01 15pm,\\xa02 45am,\\xa04 15pm,\\xa05 45pm,\\xa06 30pm, 7 30pmrequirements and documents  letter of employment, last year's tax return, recent bank statement  shares ok, guarantors welcome  same documents needed  no fee conditions apply      \",\n",
       "       u'great 1 1 apartment   excellent location   elevator in building     now for details  bond new york is a real estate broker that supports equal housing opportunity  ',\n",
       "       u'this midtown west one bed room apartment in a totally gut renovated intercom building  units have new appliances, modern kitchen cabinets with granite counter tops, large walk in storage closet and oak wood flooring throughout apartment  very sunny and spacious  steps from supermarket, laundry, and restaurants  for inquiries on this unit or any other unit on citi habitats   me at   or   ',\n",
       "       u'sky high views with extra high ceiling  this comfortable one bedroom can effortlessly accommodate a queen size bed  also features a pass through kitchen and impressive empire state building views closet space, and master bedrooms accommodate a queen size bed  the kitchen is a cooks dream with ample counter space and top of the line appliances  southern exposed light welcome you home   full luxury service building with unsurpassed amenities  bike roomconciergegarage parkinggymlaundry in buildingparking availablestorage availabledeckroof deck  located in the prime murray hill neighborhood by madison square park  surrounded by exquisite restaurants, bars, nightlife  also super close to the famous eataly   at 28th  street 0 1 miles6 at 28th  street 0 1 milespath at 33rd street station 0 3 milesfm at 23rd  street 0 3 miles  want to view it today    m  \"carolina\" today to book an appointment  not what you are looking for, no worries i have access to a list with thousands of other apartments and i bet you will fall in love with one of them  don\\'t miss out on this extraordinaire deal              listing courtesy of miron properties  all material herein is intended for information purposes only and has been compiled from sources deemed reliable  though information is believed to be correct, it is presented subject to errors, omissions, changes or withdrawal without notice   miron properties is a licensed real estate broker       ',\n",
       "       u'fully renovated studio offers separate windowed, eat in kitchen with shaker wood cabinets and silestone counters  great counter space and storage  strip wood floors and recessed lighting throughout  full windowed bathroom with marble flooring and classic white subway tiled walls  gas and electric included so no monthly bills  to view this apartment or to inquire on any apartments, please     amir weiner at   or   at         ',\n",
       "       u'no fee designed to feel like an oasis, a place tonestle into your dwelling, and enjoy the surrounding open sky, andlush green park environment  here are just some of the featuresthis corner unit one bedroom offers  south east exposures, whiteoak flooring, oversized windows, a large livingroom, with aseparate dining area, a queen size bedroom, an in unit maytagwasher and dryer, and in the kitchen, oyster caesarstonecountertops, and backsplash, stainless steel whirlpool and maytagappliances, and a breakfast bar open to the livingroom  in thebath, a deep soaking tub, hansgrohe shower fixtures, a wenge oak,silo stone topped vanity, with kohler under mounted sink  all thisat the kestrel, the newest, full service rental development inwindsor terrace  disclosure  listed rent is the net effective rentbased on the first month free of 13 month occupancy ',\n",
       "       u'no broker fee  1 months free rentthis is a brand new, gut renovated 3 bedroom w  2 full bathrooms w  washer and dryer featuring ebony hardwood floorsrecessed lightingcarrara marble counter topsbrand new stainless steel appliancescherrywood cabinetscrown and baseboard moldings2 full luxury bathrooms w  intricate mosaic tile workwasher dryer in unit  to view this apartment or to inquire on any apartments, please     amir weiner at   or   at       ',\n",
       "       u'        this beautiful 1 bedroom in the heart of midtown west is a must see  the stunning 1 bedroom apartment has been beautifully renovated and features kitchen and bathroom with marble and granite finishes, dishwasher and stainless steel appliances   this apartment will not last for long    or   today for your exclusive viewing  our   number is   ',\n",
       "       u' ,  ,   or smoke signal shaun to schedule an appointment shaun      145th and fredrick douglassnear abcd and 3 expressapartment    actual apartment photos   no fee  modern kitchen w  ss appliances and built in wine rack #housewarmingparty hardwood floors btwn abcd trains and 3 express #options close to jackie robinson park starbucks, super foodtown and nysc 1 block away near manhattanville coffee #caffeinefix  i work with a car so we can see several apartments in style  if this apartment is not your cup of tea, no worries  i can show you everything listed on the bohemia    lets chat and ill help you find the one #youretheonethatiwantnew to renting in nyc or need a brushup watch my ridiculous yet informative video renting in nyc 101 on youtube #nailingitclick or paste link     am showing everyday,   me today to see it for yourself before it is gone  with a 1% vacancy rate in nyc this will fly off the market fast   #runforrestruncall     shaun      get social   instagram twitter atshauncrossman   shaunmcrossman',\n",
       "       u\"  true 2 bedroom    building features doorman, elevator, laundry facilities and other great amenities   large unit with amazing living space to fit all your essentials and more   2 queen size bedrooms with wonderful closet space   granite kitchen with stainless steel appliances including dishwasher   a c in every room   1 block from b,d,f,m subway lines  2 blocks from n,q,r   don't miss out on this wonderful apartment      edan   to schedule a private viewing today \",\n",
       "       u\"location  143rd and broadwaytrains  1 at 145th and broadwaypets  okcall     me today gerald       stainless steel appliances  updated bath  pet friendly  great light  so many great local businesses in this trending area  super popping area  trains, restaurants   everything      actual photos of the apartment            me today gerald     this isn't working for you, it's cool, because bohemia has the most exclusives uptown and i can show you everything we have \"], dtype=object)"
      ]
     },
     "execution_count": 53,
     "metadata": {},
     "output_type": "execute_result"
    }
   ],
   "source": [
    "description_df.values[200:300]"
   ]
  },
  {
   "cell_type": "code",
   "execution_count": 54,
   "metadata": {
    "collapsed": false
   },
   "outputs": [
    {
     "data": {
      "text/plain": [
       "pandas.core.series.Series"
      ]
     },
     "execution_count": 54,
     "metadata": {},
     "output_type": "execute_result"
    }
   ],
   "source": [
    "type(description_df)"
   ]
  },
  {
   "cell_type": "code",
   "execution_count": 55,
   "metadata": {
    "collapsed": false
   },
   "outputs": [
    {
     "data": {
      "text/plain": [
       "(49352,)"
      ]
     },
     "execution_count": 55,
     "metadata": {},
     "output_type": "execute_result"
    }
   ],
   "source": [
    "description_df.shape"
   ]
  },
  {
   "cell_type": "markdown",
   "metadata": {},
   "source": [
    "### Putting `description` through `TfidVectorizer`"
   ]
  },
  {
   "cell_type": "code",
   "execution_count": 56,
   "metadata": {
    "collapsed": false
   },
   "outputs": [
    {
     "data": {
      "text/plain": [
       "(49352,)"
      ]
     },
     "execution_count": 56,
     "metadata": {},
     "output_type": "execute_result"
    }
   ],
   "source": [
    "tfid_description_df = description_df\n",
    "tfid_description_df.shape"
   ]
  },
  {
   "cell_type": "code",
   "execution_count": 57,
   "metadata": {
    "collapsed": true
   },
   "outputs": [],
   "source": [
    "tfidf = TfidfVectorizer(stop_words='english', use_idf=True, max_df=0.20)\n",
    "#ngram_range=(1, 2) - do not use ngrams as get features that do not make sense, try it without stopwords\n",
    "\n",
    "description_vectorizer = tfidf.fit_transform(tfid_description_df)"
   ]
  },
  {
   "cell_type": "code",
   "execution_count": 58,
   "metadata": {
    "collapsed": false
   },
   "outputs": [
    {
     "data": {
      "text/plain": [
       "[u'00',\n",
       " u'000',\n",
       " u'0000',\n",
       " u'000guarantors',\n",
       " u'000july',\n",
       " u'000large',\n",
       " u'000may',\n",
       " u'000s',\n",
       " u'000sf',\n",
       " u'000sft',\n",
       " u'000sq',\n",
       " u'000sqft',\n",
       " u'0058',\n",
       " u'0068',\n",
       " u'0079',\n",
       " u'0085',\n",
       " u'0090',\n",
       " u'00am',\n",
       " u'00apartment',\n",
       " u'00call']"
      ]
     },
     "execution_count": 58,
     "metadata": {},
     "output_type": "execute_result"
    }
   ],
   "source": [
    "tfidf.get_feature_names()[0:20]"
   ]
  },
  {
   "cell_type": "code",
   "execution_count": 59,
   "metadata": {
    "collapsed": false
   },
   "outputs": [
    {
     "data": {
      "text/plain": [
       "34784"
      ]
     },
     "execution_count": 59,
     "metadata": {},
     "output_type": "execute_result"
    }
   ],
   "source": [
    "len(tfidf.get_feature_names())"
   ]
  },
  {
   "cell_type": "markdown",
   "metadata": {},
   "source": [
    "## Description Feature Without SVD"
   ]
  },
  {
   "cell_type": "code",
   "execution_count": 61,
   "metadata": {
    "collapsed": false
   },
   "outputs": [],
   "source": [
    "X_description_text = description_vectorizer"
   ]
  },
  {
   "cell_type": "code",
   "execution_count": 62,
   "metadata": {
    "collapsed": true
   },
   "outputs": [],
   "source": [
    "X_train, \\\n",
    "X_test,  \\\n",
    "y_train, \\\n",
    "y_test = train_test_split(X_description_text, y, test_size=0.20, random_state=82)"
   ]
  },
  {
   "cell_type": "code",
   "execution_count": 63,
   "metadata": {
    "collapsed": true
   },
   "outputs": [],
   "source": [
    "clfd1 = LogisticRegression(penalty='l2',\n",
    "                          C=0.001,\n",
    "                          n_jobs=-1,\n",
    "                          random_state=82\n",
    "                         )"
   ]
  },
  {
   "cell_type": "code",
   "execution_count": 64,
   "metadata": {
    "collapsed": true
   },
   "outputs": [],
   "source": [
    "clfd1_dictionary = evaluate_model(clfd1)"
   ]
  },
  {
   "cell_type": "code",
   "execution_count": 65,
   "metadata": {
    "collapsed": false
   },
   "outputs": [
    {
     "name": "stdout",
     "output_type": "stream",
     "text": [
      "Model Summary Report:\n",
      "\n",
      "LogisticRegression(C=0.001, class_weight=None, dual=False, fit_intercept=True,\n",
      "          intercept_scaling=1, max_iter=100, multi_class='ovr', n_jobs=-1,\n",
      "          penalty='l2', random_state=82, solver='liblinear', tol=0.0001,\n",
      "          verbose=0, warm_start=False)\n",
      "\n",
      "\n",
      "Classification Report:\n",
      "\n",
      "             precision    recall  f1-score   support\n",
      "\n",
      "          0       0.00      0.00      0.00       765\n",
      "          1       0.69      1.00      0.82      6813\n",
      "          2       0.00      0.00      0.00      2293\n",
      "\n",
      "avg / total       0.48      0.69      0.56      9871\n",
      "\n",
      "Accuracy on training set: 0.695803\n",
      "Accuracy on test set:     0.690204\n",
      "\n",
      "\n",
      "Log Loss on training set: 0.797898\n",
      "Log Loss on test set:     0.803310\n"
     ]
    }
   ],
   "source": [
    "model_summary(clfd1, clfd1_dictionary)"
   ]
  },
  {
   "cell_type": "markdown",
   "metadata": {},
   "source": [
    "## Using Naive Bayes Classifier on Description Text"
   ]
  },
  {
   "cell_type": "code",
   "execution_count": 66,
   "metadata": {
    "collapsed": true
   },
   "outputs": [],
   "source": [
    "clfd2 = MultinomialNB()"
   ]
  },
  {
   "cell_type": "code",
   "execution_count": 67,
   "metadata": {
    "collapsed": true
   },
   "outputs": [],
   "source": [
    "clfd2_dictionary = evaluate_model(clfd2)"
   ]
  },
  {
   "cell_type": "code",
   "execution_count": 68,
   "metadata": {
    "collapsed": false
   },
   "outputs": [
    {
     "name": "stdout",
     "output_type": "stream",
     "text": [
      "Model Summary Report:\n",
      "\n",
      "MultinomialNB(alpha=1.0, class_prior=None, fit_prior=True)\n",
      "\n",
      "\n",
      "Classification Report:\n",
      "\n",
      "             precision    recall  f1-score   support\n",
      "\n",
      "          0       0.08      0.01      0.01       765\n",
      "          1       0.69      0.99      0.81      6813\n",
      "          2       0.38      0.00      0.01      2293\n",
      "\n",
      "avg / total       0.57      0.69      0.56      9871\n",
      "\n",
      "Accuracy on training set: 0.694435\n",
      "Accuracy on test set:     0.686962\n",
      "\n",
      "\n",
      "Log Loss on training set: 0.792392\n",
      "Log Loss on test set:     0.803180\n"
     ]
    }
   ],
   "source": [
    "model_summary(clf2, clf2_dictionary)"
   ]
  }
 ],
 "metadata": {
  "anaconda-cloud": {},
  "kernelspec": {
   "display_name": "Python [conda root]",
   "language": "python",
   "name": "conda-root-py"
  },
  "language_info": {
   "codemirror_mode": {
    "name": "ipython",
    "version": 2
   },
   "file_extension": ".py",
   "mimetype": "text/x-python",
   "name": "python",
   "nbconvert_exporter": "python",
   "pygments_lexer": "ipython2",
   "version": "2.7.12"
  }
 },
 "nbformat": 4,
 "nbformat_minor": 1
}
