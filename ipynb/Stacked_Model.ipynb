{
 "cells": [
  {
   "cell_type": "markdown",
   "metadata": {},
   "source": [
    "# Stacked Model"
   ]
  },
  {
   "cell_type": "markdown",
   "metadata": {},
   "source": [
    "### Importing Packages"
   ]
  },
  {
   "cell_type": "code",
   "execution_count": 1,
   "metadata": {
    "collapsed": true
   },
   "outputs": [],
   "source": [
    "from __future__ import print_function\n",
    "import numpy as np\n",
    "import pandas as pd\n",
    "import pickle\n",
    "\n",
    "import matplotlib.pyplot as plt\n",
    "import seaborn as sns\n",
    "\n",
    "%matplotlib inline\n",
    "\n",
    "from sklearn.externals import joblib\n",
    "from sklearn.preprocessing import label_binarize\n",
    "pd.set_option(\"display.max_columns\", 2000)\n",
    "pd.set_option(\"display.max_rows\", 2000)"
   ]
  },
  {
   "cell_type": "markdown",
   "metadata": {},
   "source": [
    "### Importing `sklearn` packages"
   ]
  },
  {
   "cell_type": "code",
   "execution_count": 2,
   "metadata": {
    "collapsed": false
   },
   "outputs": [],
   "source": [
    "from sklearn.model_selection import train_test_split\n",
    "from sklearn.linear_model import LogisticRegression\n",
    "from sklearn.tree import DecisionTreeClassifier\n",
    "from sklearn.naive_bayes import MultinomialNB\n",
    "from sklearn.naive_bayes import GaussianNB\n",
    "from sklearn.neighbors import KNeighborsClassifier\n",
    "from sklearn.ensemble import GradientBoostingClassifier\n",
    "from sklearn.ensemble import RandomForestClassifier\n",
    "from sklearn.model_selection import GridSearchCV\n",
    "from sklearn.pipeline import Pipeline\n",
    "from sklearn.model_selection import cross_val_score\n",
    "from sklearn.metrics import accuracy_score, precision_score, recall_score, confusion_matrix, classification_report\n",
    "from sklearn.metrics import log_loss"
   ]
  },
  {
   "cell_type": "markdown",
   "metadata": {},
   "source": [
    "# Loading the data"
   ]
  },
  {
   "cell_type": "markdown",
   "metadata": {},
   "source": [
    "## Loading Files\n",
    "\n",
    "- X = X_num\n",
    "- X_train = X_num_train\n",
    "- X_test = X_num_test\n",
    "- y\n",
    "- y_train\n",
    "- y_test"
   ]
  },
  {
   "cell_type": "code",
   "execution_count": 3,
   "metadata": {
    "collapsed": true
   },
   "outputs": [],
   "source": [
    "X_num = pd.read_pickle('X_num.pickle')"
   ]
  },
  {
   "cell_type": "code",
   "execution_count": 4,
   "metadata": {
    "collapsed": false
   },
   "outputs": [
    {
     "data": {
      "text/html": [
       "<div>\n",
       "<table border=\"1\" class=\"dataframe\">\n",
       "  <thead>\n",
       "    <tr style=\"text-align: right;\">\n",
       "      <th></th>\n",
       "      <th>bathrooms</th>\n",
       "      <th>bedrooms</th>\n",
       "      <th>price</th>\n",
       "      <th>num_photos</th>\n",
       "      <th>num_features</th>\n",
       "      <th>description_length</th>\n",
       "      <th>latitude</th>\n",
       "      <th>longitude</th>\n",
       "      <th>manager_bin_1</th>\n",
       "      <th>manager_bin_2</th>\n",
       "      <th>manager_bin_3</th>\n",
       "      <th>manager_bin_4</th>\n",
       "      <th>manager_bin_5</th>\n",
       "      <th>month_bin_1</th>\n",
       "      <th>month_bin_2</th>\n",
       "      <th>month_bin_3</th>\n",
       "    </tr>\n",
       "  </thead>\n",
       "  <tbody>\n",
       "    <tr>\n",
       "      <th>0</th>\n",
       "      <td>1.5</td>\n",
       "      <td>3</td>\n",
       "      <td>3000.0</td>\n",
       "      <td>5</td>\n",
       "      <td>0</td>\n",
       "      <td>95</td>\n",
       "      <td>40.7145</td>\n",
       "      <td>-73.9425</td>\n",
       "      <td>0.0</td>\n",
       "      <td>1.0</td>\n",
       "      <td>0.0</td>\n",
       "      <td>0.0</td>\n",
       "      <td>0.0</td>\n",
       "      <td>0.0</td>\n",
       "      <td>0.0</td>\n",
       "      <td>1.0</td>\n",
       "    </tr>\n",
       "    <tr>\n",
       "      <th>1</th>\n",
       "      <td>1.0</td>\n",
       "      <td>1</td>\n",
       "      <td>2250.0</td>\n",
       "      <td>5</td>\n",
       "      <td>1</td>\n",
       "      <td>63</td>\n",
       "      <td>40.7216</td>\n",
       "      <td>-73.9423</td>\n",
       "      <td>0.0</td>\n",
       "      <td>1.0</td>\n",
       "      <td>0.0</td>\n",
       "      <td>0.0</td>\n",
       "      <td>0.0</td>\n",
       "      <td>0.0</td>\n",
       "      <td>1.0</td>\n",
       "      <td>0.0</td>\n",
       "    </tr>\n",
       "  </tbody>\n",
       "</table>\n",
       "</div>"
      ],
      "text/plain": [
       "   bathrooms  bedrooms   price  num_photos  num_features  description_length  \\\n",
       "0        1.5         3  3000.0           5             0                  95   \n",
       "1        1.0         1  2250.0           5             1                  63   \n",
       "\n",
       "   latitude  longitude  manager_bin_1  manager_bin_2  manager_bin_3  \\\n",
       "0   40.7145   -73.9425            0.0            1.0            0.0   \n",
       "1   40.7216   -73.9423            0.0            1.0            0.0   \n",
       "\n",
       "   manager_bin_4  manager_bin_5  month_bin_1  month_bin_2  month_bin_3  \n",
       "0            0.0            0.0          0.0          0.0          1.0  \n",
       "1            0.0            0.0          0.0          1.0          0.0  "
      ]
     },
     "execution_count": 4,
     "metadata": {},
     "output_type": "execute_result"
    }
   ],
   "source": [
    "X_num.head(2)"
   ]
  },
  {
   "cell_type": "code",
   "execution_count": 5,
   "metadata": {
    "collapsed": false
   },
   "outputs": [
    {
     "data": {
      "text/plain": [
       "(49352, 16)"
      ]
     },
     "execution_count": 5,
     "metadata": {},
     "output_type": "execute_result"
    }
   ],
   "source": [
    "X_num.shape"
   ]
  },
  {
   "cell_type": "code",
   "execution_count": 6,
   "metadata": {
    "collapsed": true
   },
   "outputs": [],
   "source": [
    "X_st_proba = pd.read_pickle('Pickled_Files/X_st_proba.pickle')"
   ]
  },
  {
   "cell_type": "code",
   "execution_count": 7,
   "metadata": {
    "collapsed": false
   },
   "outputs": [
    {
     "data": {
      "text/html": [
       "<div>\n",
       "<table border=\"1\" class=\"dataframe\">\n",
       "  <thead>\n",
       "    <tr style=\"text-align: right;\">\n",
       "      <th></th>\n",
       "      <th>ST_High_Proba</th>\n",
       "      <th>ST_Low_Proba</th>\n",
       "      <th>ST_Medium_Proba</th>\n",
       "    </tr>\n",
       "  </thead>\n",
       "  <tbody>\n",
       "    <tr>\n",
       "      <th>0</th>\n",
       "      <td>0.142253</td>\n",
       "      <td>0.619318</td>\n",
       "      <td>0.238429</td>\n",
       "    </tr>\n",
       "    <tr>\n",
       "      <th>1</th>\n",
       "      <td>0.142253</td>\n",
       "      <td>0.619318</td>\n",
       "      <td>0.238429</td>\n",
       "    </tr>\n",
       "  </tbody>\n",
       "</table>\n",
       "</div>"
      ],
      "text/plain": [
       "   ST_High_Proba  ST_Low_Proba  ST_Medium_Proba\n",
       "0       0.142253      0.619318         0.238429\n",
       "1       0.142253      0.619318         0.238429"
      ]
     },
     "execution_count": 7,
     "metadata": {},
     "output_type": "execute_result"
    }
   ],
   "source": [
    "X_st_proba.head(2)"
   ]
  },
  {
   "cell_type": "code",
   "execution_count": 8,
   "metadata": {
    "collapsed": false
   },
   "outputs": [
    {
     "data": {
      "text/plain": [
       "(49352, 3)"
      ]
     },
     "execution_count": 8,
     "metadata": {},
     "output_type": "execute_result"
    }
   ],
   "source": [
    "X_st_proba.shape"
   ]
  },
  {
   "cell_type": "code",
   "execution_count": 9,
   "metadata": {
    "collapsed": true
   },
   "outputs": [],
   "source": [
    "X_lt_proba = pd.read_pickle('Pickled_Files/X_lt_proba.pickle')"
   ]
  },
  {
   "cell_type": "code",
   "execution_count": 10,
   "metadata": {
    "collapsed": false
   },
   "outputs": [
    {
     "data": {
      "text/html": [
       "<div>\n",
       "<table border=\"1\" class=\"dataframe\">\n",
       "  <thead>\n",
       "    <tr style=\"text-align: right;\">\n",
       "      <th></th>\n",
       "      <th>LT_High_Proba</th>\n",
       "      <th>LT_Low_Proba</th>\n",
       "      <th>LT_Medium_Proba</th>\n",
       "    </tr>\n",
       "  </thead>\n",
       "  <tbody>\n",
       "    <tr>\n",
       "      <th>0</th>\n",
       "      <td>0.142455</td>\n",
       "      <td>0.617337</td>\n",
       "      <td>0.240208</td>\n",
       "    </tr>\n",
       "    <tr>\n",
       "      <th>1</th>\n",
       "      <td>0.141663</td>\n",
       "      <td>0.621609</td>\n",
       "      <td>0.236728</td>\n",
       "    </tr>\n",
       "  </tbody>\n",
       "</table>\n",
       "</div>"
      ],
      "text/plain": [
       "   LT_High_Proba  LT_Low_Proba  LT_Medium_Proba\n",
       "0       0.142455      0.617337         0.240208\n",
       "1       0.141663      0.621609         0.236728"
      ]
     },
     "execution_count": 10,
     "metadata": {},
     "output_type": "execute_result"
    }
   ],
   "source": [
    "X_lt_proba.head(2)"
   ]
  },
  {
   "cell_type": "code",
   "execution_count": 11,
   "metadata": {
    "collapsed": false
   },
   "outputs": [
    {
     "data": {
      "text/plain": [
       "(49352, 3)"
      ]
     },
     "execution_count": 11,
     "metadata": {},
     "output_type": "execute_result"
    }
   ],
   "source": [
    "X_lt_proba.shape"
   ]
  },
  {
   "cell_type": "markdown",
   "metadata": {},
   "source": [
    "## Putting together X_num + `predicted_proba` from Short-Text and Long-Text Models"
   ]
  },
  {
   "cell_type": "code",
   "execution_count": 12,
   "metadata": {
    "collapsed": false
   },
   "outputs": [
    {
     "data": {
      "text/html": [
       "<div>\n",
       "<table border=\"1\" class=\"dataframe\">\n",
       "  <thead>\n",
       "    <tr style=\"text-align: right;\">\n",
       "      <th></th>\n",
       "      <th>bathrooms</th>\n",
       "      <th>bedrooms</th>\n",
       "      <th>price</th>\n",
       "      <th>num_photos</th>\n",
       "      <th>num_features</th>\n",
       "      <th>description_length</th>\n",
       "      <th>latitude</th>\n",
       "      <th>longitude</th>\n",
       "      <th>manager_bin_1</th>\n",
       "      <th>manager_bin_2</th>\n",
       "      <th>manager_bin_3</th>\n",
       "      <th>manager_bin_4</th>\n",
       "      <th>manager_bin_5</th>\n",
       "      <th>month_bin_1</th>\n",
       "      <th>month_bin_2</th>\n",
       "      <th>month_bin_3</th>\n",
       "      <th>ST_High_Proba</th>\n",
       "      <th>ST_Low_Proba</th>\n",
       "      <th>ST_Medium_Proba</th>\n",
       "      <th>LT_High_Proba</th>\n",
       "      <th>LT_Low_Proba</th>\n",
       "      <th>LT_Medium_Proba</th>\n",
       "    </tr>\n",
       "  </thead>\n",
       "  <tbody>\n",
       "    <tr>\n",
       "      <th>0</th>\n",
       "      <td>1.5</td>\n",
       "      <td>3</td>\n",
       "      <td>3000.0</td>\n",
       "      <td>5</td>\n",
       "      <td>0</td>\n",
       "      <td>95</td>\n",
       "      <td>40.7145</td>\n",
       "      <td>-73.9425</td>\n",
       "      <td>0.0</td>\n",
       "      <td>1.0</td>\n",
       "      <td>0.0</td>\n",
       "      <td>0.0</td>\n",
       "      <td>0.0</td>\n",
       "      <td>0.0</td>\n",
       "      <td>0.0</td>\n",
       "      <td>1.0</td>\n",
       "      <td>0.142253</td>\n",
       "      <td>0.619318</td>\n",
       "      <td>0.238429</td>\n",
       "      <td>0.142455</td>\n",
       "      <td>0.617337</td>\n",
       "      <td>0.240208</td>\n",
       "    </tr>\n",
       "    <tr>\n",
       "      <th>1</th>\n",
       "      <td>1.0</td>\n",
       "      <td>1</td>\n",
       "      <td>2250.0</td>\n",
       "      <td>5</td>\n",
       "      <td>1</td>\n",
       "      <td>63</td>\n",
       "      <td>40.7216</td>\n",
       "      <td>-73.9423</td>\n",
       "      <td>0.0</td>\n",
       "      <td>1.0</td>\n",
       "      <td>0.0</td>\n",
       "      <td>0.0</td>\n",
       "      <td>0.0</td>\n",
       "      <td>0.0</td>\n",
       "      <td>1.0</td>\n",
       "      <td>0.0</td>\n",
       "      <td>0.142253</td>\n",
       "      <td>0.619318</td>\n",
       "      <td>0.238429</td>\n",
       "      <td>0.141663</td>\n",
       "      <td>0.621609</td>\n",
       "      <td>0.236728</td>\n",
       "    </tr>\n",
       "  </tbody>\n",
       "</table>\n",
       "</div>"
      ],
      "text/plain": [
       "   bathrooms  bedrooms   price  num_photos  num_features  description_length  \\\n",
       "0        1.5         3  3000.0           5             0                  95   \n",
       "1        1.0         1  2250.0           5             1                  63   \n",
       "\n",
       "   latitude  longitude  manager_bin_1  manager_bin_2  manager_bin_3  \\\n",
       "0   40.7145   -73.9425            0.0            1.0            0.0   \n",
       "1   40.7216   -73.9423            0.0            1.0            0.0   \n",
       "\n",
       "   manager_bin_4  manager_bin_5  month_bin_1  month_bin_2  month_bin_3  \\\n",
       "0            0.0            0.0          0.0          0.0          1.0   \n",
       "1            0.0            0.0          0.0          1.0          0.0   \n",
       "\n",
       "   ST_High_Proba  ST_Low_Proba  ST_Medium_Proba  LT_High_Proba  LT_Low_Proba  \\\n",
       "0       0.142253      0.619318         0.238429       0.142455      0.617337   \n",
       "1       0.142253      0.619318         0.238429       0.141663      0.621609   \n",
       "\n",
       "   LT_Medium_Proba  \n",
       "0         0.240208  \n",
       "1         0.236728  "
      ]
     },
     "execution_count": 12,
     "metadata": {},
     "output_type": "execute_result"
    }
   ],
   "source": [
    "X = pd.concat([X_num, X_st_proba, X_lt_proba], axis=1)\n",
    "X.head(2)"
   ]
  },
  {
   "cell_type": "markdown",
   "metadata": {},
   "source": [
    "## Loading `y`"
   ]
  },
  {
   "cell_type": "code",
   "execution_count": 13,
   "metadata": {
    "collapsed": true
   },
   "outputs": [],
   "source": [
    "y = np.load('Pickled_Files/y.npy')"
   ]
  },
  {
   "cell_type": "code",
   "execution_count": 14,
   "metadata": {
    "collapsed": false
   },
   "outputs": [
    {
     "data": {
      "text/plain": [
       "(array([2, 1, 1, ..., 2, 1, 2]), (49352,))"
      ]
     },
     "execution_count": 14,
     "metadata": {},
     "output_type": "execute_result"
    }
   ],
   "source": [
    "y, y.shape"
   ]
  },
  {
   "cell_type": "markdown",
   "metadata": {},
   "source": [
    "## Test-Train-Split"
   ]
  },
  {
   "cell_type": "code",
   "execution_count": 15,
   "metadata": {
    "collapsed": false
   },
   "outputs": [],
   "source": [
    "from sklearn.model_selection import train_test_split\n",
    "\n",
    "X_train, \\\n",
    "X_test,  \\\n",
    "y_train, \\\n",
    "y_test = train_test_split(X, y, test_size=0.20, random_state=82)"
   ]
  },
  {
   "cell_type": "markdown",
   "metadata": {},
   "source": [
    "## Scaling  `X_train` Numeric Features"
   ]
  },
  {
   "cell_type": "code",
   "execution_count": 16,
   "metadata": {
    "collapsed": false
   },
   "outputs": [
    {
     "data": {
      "text/html": [
       "<div>\n",
       "<table border=\"1\" class=\"dataframe\">\n",
       "  <thead>\n",
       "    <tr style=\"text-align: right;\">\n",
       "      <th></th>\n",
       "      <th>bathrooms</th>\n",
       "      <th>bedrooms</th>\n",
       "      <th>price</th>\n",
       "      <th>num_photos</th>\n",
       "      <th>num_features</th>\n",
       "      <th>description_length</th>\n",
       "      <th>latitude</th>\n",
       "      <th>longitude</th>\n",
       "      <th>manager_bin_1</th>\n",
       "      <th>manager_bin_2</th>\n",
       "      <th>manager_bin_3</th>\n",
       "      <th>manager_bin_4</th>\n",
       "      <th>manager_bin_5</th>\n",
       "      <th>month_bin_1</th>\n",
       "      <th>month_bin_2</th>\n",
       "      <th>month_bin_3</th>\n",
       "      <th>ST_High_Proba</th>\n",
       "      <th>ST_Low_Proba</th>\n",
       "      <th>ST_Medium_Proba</th>\n",
       "      <th>LT_High_Proba</th>\n",
       "      <th>LT_Low_Proba</th>\n",
       "      <th>LT_Medium_Proba</th>\n",
       "    </tr>\n",
       "  </thead>\n",
       "  <tbody>\n",
       "    <tr>\n",
       "      <th>28154</th>\n",
       "      <td>1.0</td>\n",
       "      <td>0</td>\n",
       "      <td>2450.0</td>\n",
       "      <td>5</td>\n",
       "      <td>15</td>\n",
       "      <td>112</td>\n",
       "      <td>40.7606</td>\n",
       "      <td>-73.9994</td>\n",
       "      <td>1.0</td>\n",
       "      <td>0.0</td>\n",
       "      <td>0.0</td>\n",
       "      <td>0.0</td>\n",
       "      <td>0.0</td>\n",
       "      <td>0.0</td>\n",
       "      <td>1.0</td>\n",
       "      <td>0.0</td>\n",
       "      <td>0.141610</td>\n",
       "      <td>0.621039</td>\n",
       "      <td>0.237351</td>\n",
       "      <td>0.142523</td>\n",
       "      <td>0.618990</td>\n",
       "      <td>0.238486</td>\n",
       "    </tr>\n",
       "    <tr>\n",
       "      <th>6321</th>\n",
       "      <td>1.0</td>\n",
       "      <td>2</td>\n",
       "      <td>2700.0</td>\n",
       "      <td>4</td>\n",
       "      <td>5</td>\n",
       "      <td>96</td>\n",
       "      <td>40.7897</td>\n",
       "      <td>-73.9488</td>\n",
       "      <td>0.0</td>\n",
       "      <td>0.0</td>\n",
       "      <td>0.0</td>\n",
       "      <td>0.0</td>\n",
       "      <td>1.0</td>\n",
       "      <td>0.0</td>\n",
       "      <td>1.0</td>\n",
       "      <td>0.0</td>\n",
       "      <td>0.144948</td>\n",
       "      <td>0.638455</td>\n",
       "      <td>0.216597</td>\n",
       "      <td>0.142430</td>\n",
       "      <td>0.619559</td>\n",
       "      <td>0.238011</td>\n",
       "    </tr>\n",
       "  </tbody>\n",
       "</table>\n",
       "</div>"
      ],
      "text/plain": [
       "       bathrooms  bedrooms   price  num_photos  num_features  \\\n",
       "28154        1.0         0  2450.0           5            15   \n",
       "6321         1.0         2  2700.0           4             5   \n",
       "\n",
       "       description_length  latitude  longitude  manager_bin_1  manager_bin_2  \\\n",
       "28154                 112   40.7606   -73.9994            1.0            0.0   \n",
       "6321                   96   40.7897   -73.9488            0.0            0.0   \n",
       "\n",
       "       manager_bin_3  manager_bin_4  manager_bin_5  month_bin_1  month_bin_2  \\\n",
       "28154            0.0            0.0            0.0          0.0          1.0   \n",
       "6321             0.0            0.0            1.0          0.0          1.0   \n",
       "\n",
       "       month_bin_3  ST_High_Proba  ST_Low_Proba  ST_Medium_Proba  \\\n",
       "28154          0.0       0.141610      0.621039         0.237351   \n",
       "6321           0.0       0.144948      0.638455         0.216597   \n",
       "\n",
       "       LT_High_Proba  LT_Low_Proba  LT_Medium_Proba  \n",
       "28154       0.142523      0.618990         0.238486  \n",
       "6321        0.142430      0.619559         0.238011  "
      ]
     },
     "execution_count": 16,
     "metadata": {},
     "output_type": "execute_result"
    }
   ],
   "source": [
    "X_train.head(2)"
   ]
  },
  {
   "cell_type": "code",
   "execution_count": 17,
   "metadata": {
    "collapsed": true
   },
   "outputs": [],
   "source": [
    "scaled_features = ['bathrooms',\n",
    "                   'bedrooms',\n",
    "                   'price',\n",
    "                   'num_photos',\n",
    "                   'num_features',\n",
    "                   'description_length']"
   ]
  },
  {
   "cell_type": "code",
   "execution_count": 18,
   "metadata": {
    "collapsed": false
   },
   "outputs": [
    {
     "name": "stderr",
     "output_type": "stream",
     "text": [
      "/Users/nate_velarde/anaconda/lib/python2.7/site-packages/ipykernel/__main__.py:5: SettingWithCopyWarning: \n",
      "A value is trying to be set on a copy of a slice from a DataFrame.\n",
      "Try using .loc[row_indexer,col_indexer] = value instead\n",
      "\n",
      "See the caveats in the documentation: http://pandas.pydata.org/pandas-docs/stable/indexing.html#indexing-view-versus-copy\n"
     ]
    }
   ],
   "source": [
    "for feature in scaled_features:\n",
    "    mean = X_train[feature].mean()\n",
    "    std_dev = X_train[feature].std()\n",
    "    \n",
    "    X_train[feature] = X_train[feature].apply(lambda x: (x - mean)/std_dev)"
   ]
  },
  {
   "cell_type": "code",
   "execution_count": 19,
   "metadata": {
    "collapsed": false
   },
   "outputs": [
    {
     "data": {
      "text/html": [
       "<div>\n",
       "<table border=\"1\" class=\"dataframe\">\n",
       "  <thead>\n",
       "    <tr style=\"text-align: right;\">\n",
       "      <th></th>\n",
       "      <th>bathrooms</th>\n",
       "      <th>bedrooms</th>\n",
       "      <th>price</th>\n",
       "      <th>num_photos</th>\n",
       "      <th>num_features</th>\n",
       "      <th>description_length</th>\n",
       "      <th>latitude</th>\n",
       "      <th>longitude</th>\n",
       "      <th>manager_bin_1</th>\n",
       "      <th>manager_bin_2</th>\n",
       "      <th>manager_bin_3</th>\n",
       "      <th>manager_bin_4</th>\n",
       "      <th>manager_bin_5</th>\n",
       "      <th>month_bin_1</th>\n",
       "      <th>month_bin_2</th>\n",
       "      <th>month_bin_3</th>\n",
       "      <th>ST_High_Proba</th>\n",
       "      <th>ST_Low_Proba</th>\n",
       "      <th>ST_Medium_Proba</th>\n",
       "      <th>LT_High_Proba</th>\n",
       "      <th>LT_Low_Proba</th>\n",
       "      <th>LT_Medium_Proba</th>\n",
       "    </tr>\n",
       "  </thead>\n",
       "  <tbody>\n",
       "    <tr>\n",
       "      <th>28154</th>\n",
       "      <td>-0.423281</td>\n",
       "      <td>-1.382442</td>\n",
       "      <td>-0.628646</td>\n",
       "      <td>-0.143627</td>\n",
       "      <td>2.481556</td>\n",
       "      <td>0.468113</td>\n",
       "      <td>40.7606</td>\n",
       "      <td>-73.9994</td>\n",
       "      <td>1.0</td>\n",
       "      <td>0.0</td>\n",
       "      <td>0.0</td>\n",
       "      <td>0.0</td>\n",
       "      <td>0.0</td>\n",
       "      <td>0.0</td>\n",
       "      <td>1.0</td>\n",
       "      <td>0.0</td>\n",
       "      <td>0.141610</td>\n",
       "      <td>0.621039</td>\n",
       "      <td>0.237351</td>\n",
       "      <td>0.142523</td>\n",
       "      <td>0.618990</td>\n",
       "      <td>0.238486</td>\n",
       "    </tr>\n",
       "    <tr>\n",
       "      <th>6321</th>\n",
       "      <td>-0.423281</td>\n",
       "      <td>0.413757</td>\n",
       "      <td>-0.493207</td>\n",
       "      <td>-0.489602</td>\n",
       "      <td>-0.106092</td>\n",
       "      <td>0.161963</td>\n",
       "      <td>40.7897</td>\n",
       "      <td>-73.9488</td>\n",
       "      <td>0.0</td>\n",
       "      <td>0.0</td>\n",
       "      <td>0.0</td>\n",
       "      <td>0.0</td>\n",
       "      <td>1.0</td>\n",
       "      <td>0.0</td>\n",
       "      <td>1.0</td>\n",
       "      <td>0.0</td>\n",
       "      <td>0.144948</td>\n",
       "      <td>0.638455</td>\n",
       "      <td>0.216597</td>\n",
       "      <td>0.142430</td>\n",
       "      <td>0.619559</td>\n",
       "      <td>0.238011</td>\n",
       "    </tr>\n",
       "    <tr>\n",
       "      <th>8700</th>\n",
       "      <td>1.572964</td>\n",
       "      <td>0.413757</td>\n",
       "      <td>1.023708</td>\n",
       "      <td>-0.143627</td>\n",
       "      <td>1.187732</td>\n",
       "      <td>0.448979</td>\n",
       "      <td>40.7743</td>\n",
       "      <td>-73.9789</td>\n",
       "      <td>0.0</td>\n",
       "      <td>0.0</td>\n",
       "      <td>0.0</td>\n",
       "      <td>0.0</td>\n",
       "      <td>1.0</td>\n",
       "      <td>0.0</td>\n",
       "      <td>1.0</td>\n",
       "      <td>0.0</td>\n",
       "      <td>0.142253</td>\n",
       "      <td>0.619318</td>\n",
       "      <td>0.238429</td>\n",
       "      <td>0.137749</td>\n",
       "      <td>0.607219</td>\n",
       "      <td>0.255033</td>\n",
       "    </tr>\n",
       "    <tr>\n",
       "      <th>4914</th>\n",
       "      <td>0.574841</td>\n",
       "      <td>-0.484343</td>\n",
       "      <td>0.996621</td>\n",
       "      <td>0.548323</td>\n",
       "      <td>0.152673</td>\n",
       "      <td>0.181097</td>\n",
       "      <td>40.7052</td>\n",
       "      <td>-74.0080</td>\n",
       "      <td>0.0</td>\n",
       "      <td>0.0</td>\n",
       "      <td>0.0</td>\n",
       "      <td>0.0</td>\n",
       "      <td>1.0</td>\n",
       "      <td>0.0</td>\n",
       "      <td>0.0</td>\n",
       "      <td>1.0</td>\n",
       "      <td>0.142253</td>\n",
       "      <td>0.619318</td>\n",
       "      <td>0.238429</td>\n",
       "      <td>0.143653</td>\n",
       "      <td>0.616293</td>\n",
       "      <td>0.240054</td>\n",
       "    </tr>\n",
       "    <tr>\n",
       "      <th>5484</th>\n",
       "      <td>-0.423281</td>\n",
       "      <td>0.413757</td>\n",
       "      <td>-0.736997</td>\n",
       "      <td>0.202348</td>\n",
       "      <td>-0.882387</td>\n",
       "      <td>0.276769</td>\n",
       "      <td>40.8021</td>\n",
       "      <td>-73.9392</td>\n",
       "      <td>0.0</td>\n",
       "      <td>0.0</td>\n",
       "      <td>0.0</td>\n",
       "      <td>1.0</td>\n",
       "      <td>0.0</td>\n",
       "      <td>0.0</td>\n",
       "      <td>1.0</td>\n",
       "      <td>0.0</td>\n",
       "      <td>0.142253</td>\n",
       "      <td>0.619318</td>\n",
       "      <td>0.238429</td>\n",
       "      <td>0.142129</td>\n",
       "      <td>0.617602</td>\n",
       "      <td>0.240269</td>\n",
       "    </tr>\n",
       "  </tbody>\n",
       "</table>\n",
       "</div>"
      ],
      "text/plain": [
       "       bathrooms  bedrooms     price  num_photos  num_features  \\\n",
       "28154  -0.423281 -1.382442 -0.628646   -0.143627      2.481556   \n",
       "6321   -0.423281  0.413757 -0.493207   -0.489602     -0.106092   \n",
       "8700    1.572964  0.413757  1.023708   -0.143627      1.187732   \n",
       "4914    0.574841 -0.484343  0.996621    0.548323      0.152673   \n",
       "5484   -0.423281  0.413757 -0.736997    0.202348     -0.882387   \n",
       "\n",
       "       description_length  latitude  longitude  manager_bin_1  manager_bin_2  \\\n",
       "28154            0.468113   40.7606   -73.9994            1.0            0.0   \n",
       "6321             0.161963   40.7897   -73.9488            0.0            0.0   \n",
       "8700             0.448979   40.7743   -73.9789            0.0            0.0   \n",
       "4914             0.181097   40.7052   -74.0080            0.0            0.0   \n",
       "5484             0.276769   40.8021   -73.9392            0.0            0.0   \n",
       "\n",
       "       manager_bin_3  manager_bin_4  manager_bin_5  month_bin_1  month_bin_2  \\\n",
       "28154            0.0            0.0            0.0          0.0          1.0   \n",
       "6321             0.0            0.0            1.0          0.0          1.0   \n",
       "8700             0.0            0.0            1.0          0.0          1.0   \n",
       "4914             0.0            0.0            1.0          0.0          0.0   \n",
       "5484             0.0            1.0            0.0          0.0          1.0   \n",
       "\n",
       "       month_bin_3  ST_High_Proba  ST_Low_Proba  ST_Medium_Proba  \\\n",
       "28154          0.0       0.141610      0.621039         0.237351   \n",
       "6321           0.0       0.144948      0.638455         0.216597   \n",
       "8700           0.0       0.142253      0.619318         0.238429   \n",
       "4914           1.0       0.142253      0.619318         0.238429   \n",
       "5484           0.0       0.142253      0.619318         0.238429   \n",
       "\n",
       "       LT_High_Proba  LT_Low_Proba  LT_Medium_Proba  \n",
       "28154       0.142523      0.618990         0.238486  \n",
       "6321        0.142430      0.619559         0.238011  \n",
       "8700        0.137749      0.607219         0.255033  \n",
       "4914        0.143653      0.616293         0.240054  \n",
       "5484        0.142129      0.617602         0.240269  "
      ]
     },
     "execution_count": 19,
     "metadata": {},
     "output_type": "execute_result"
    }
   ],
   "source": [
    "X_train.head()"
   ]
  },
  {
   "cell_type": "code",
   "execution_count": 20,
   "metadata": {
    "collapsed": false
   },
   "outputs": [
    {
     "data": {
      "text/plain": [
       "(39481, 22)"
      ]
     },
     "execution_count": 20,
     "metadata": {},
     "output_type": "execute_result"
    }
   ],
   "source": [
    "X_train.shape"
   ]
  },
  {
   "cell_type": "markdown",
   "metadata": {},
   "source": [
    "## Scaling `X_test` Numeric features"
   ]
  },
  {
   "cell_type": "code",
   "execution_count": 21,
   "metadata": {
    "collapsed": false
   },
   "outputs": [
    {
     "data": {
      "text/html": [
       "<div>\n",
       "<table border=\"1\" class=\"dataframe\">\n",
       "  <thead>\n",
       "    <tr style=\"text-align: right;\">\n",
       "      <th></th>\n",
       "      <th>bathrooms</th>\n",
       "      <th>bedrooms</th>\n",
       "      <th>price</th>\n",
       "      <th>num_photos</th>\n",
       "      <th>num_features</th>\n",
       "      <th>description_length</th>\n",
       "      <th>latitude</th>\n",
       "      <th>longitude</th>\n",
       "      <th>manager_bin_1</th>\n",
       "      <th>manager_bin_2</th>\n",
       "      <th>manager_bin_3</th>\n",
       "      <th>manager_bin_4</th>\n",
       "      <th>manager_bin_5</th>\n",
       "      <th>month_bin_1</th>\n",
       "      <th>month_bin_2</th>\n",
       "      <th>month_bin_3</th>\n",
       "      <th>ST_High_Proba</th>\n",
       "      <th>ST_Low_Proba</th>\n",
       "      <th>ST_Medium_Proba</th>\n",
       "      <th>LT_High_Proba</th>\n",
       "      <th>LT_Low_Proba</th>\n",
       "      <th>LT_Medium_Proba</th>\n",
       "    </tr>\n",
       "  </thead>\n",
       "  <tbody>\n",
       "    <tr>\n",
       "      <th>25981</th>\n",
       "      <td>1.0</td>\n",
       "      <td>0</td>\n",
       "      <td>2350.0</td>\n",
       "      <td>6</td>\n",
       "      <td>8</td>\n",
       "      <td>80</td>\n",
       "      <td>40.7038</td>\n",
       "      <td>-74.0083</td>\n",
       "      <td>1.0</td>\n",
       "      <td>0.0</td>\n",
       "      <td>0.0</td>\n",
       "      <td>0.0</td>\n",
       "      <td>0.0</td>\n",
       "      <td>1.0</td>\n",
       "      <td>0.0</td>\n",
       "      <td>0.0</td>\n",
       "      <td>0.142253</td>\n",
       "      <td>0.619318</td>\n",
       "      <td>0.238429</td>\n",
       "      <td>0.142430</td>\n",
       "      <td>0.619559</td>\n",
       "      <td>0.238011</td>\n",
       "    </tr>\n",
       "    <tr>\n",
       "      <th>48891</th>\n",
       "      <td>1.0</td>\n",
       "      <td>1</td>\n",
       "      <td>3518.0</td>\n",
       "      <td>0</td>\n",
       "      <td>4</td>\n",
       "      <td>9</td>\n",
       "      <td>42.3033</td>\n",
       "      <td>-71.2133</td>\n",
       "      <td>1.0</td>\n",
       "      <td>0.0</td>\n",
       "      <td>0.0</td>\n",
       "      <td>0.0</td>\n",
       "      <td>0.0</td>\n",
       "      <td>0.0</td>\n",
       "      <td>0.0</td>\n",
       "      <td>1.0</td>\n",
       "      <td>0.142253</td>\n",
       "      <td>0.619318</td>\n",
       "      <td>0.238429</td>\n",
       "      <td>0.142477</td>\n",
       "      <td>0.619435</td>\n",
       "      <td>0.238088</td>\n",
       "    </tr>\n",
       "  </tbody>\n",
       "</table>\n",
       "</div>"
      ],
      "text/plain": [
       "       bathrooms  bedrooms   price  num_photos  num_features  \\\n",
       "25981        1.0         0  2350.0           6             8   \n",
       "48891        1.0         1  3518.0           0             4   \n",
       "\n",
       "       description_length  latitude  longitude  manager_bin_1  manager_bin_2  \\\n",
       "25981                  80   40.7038   -74.0083            1.0            0.0   \n",
       "48891                   9   42.3033   -71.2133            1.0            0.0   \n",
       "\n",
       "       manager_bin_3  manager_bin_4  manager_bin_5  month_bin_1  month_bin_2  \\\n",
       "25981            0.0            0.0            0.0          1.0          0.0   \n",
       "48891            0.0            0.0            0.0          0.0          0.0   \n",
       "\n",
       "       month_bin_3  ST_High_Proba  ST_Low_Proba  ST_Medium_Proba  \\\n",
       "25981          0.0       0.142253      0.619318         0.238429   \n",
       "48891          1.0       0.142253      0.619318         0.238429   \n",
       "\n",
       "       LT_High_Proba  LT_Low_Proba  LT_Medium_Proba  \n",
       "25981       0.142430      0.619559         0.238011  \n",
       "48891       0.142477      0.619435         0.238088  "
      ]
     },
     "execution_count": 21,
     "metadata": {},
     "output_type": "execute_result"
    }
   ],
   "source": [
    "X_test.head(2)"
   ]
  },
  {
   "cell_type": "code",
   "execution_count": 22,
   "metadata": {
    "collapsed": false
   },
   "outputs": [
    {
     "name": "stderr",
     "output_type": "stream",
     "text": [
      "/Users/nate_velarde/anaconda/lib/python2.7/site-packages/ipykernel/__main__.py:5: SettingWithCopyWarning: \n",
      "A value is trying to be set on a copy of a slice from a DataFrame.\n",
      "Try using .loc[row_indexer,col_indexer] = value instead\n",
      "\n",
      "See the caveats in the documentation: http://pandas.pydata.org/pandas-docs/stable/indexing.html#indexing-view-versus-copy\n"
     ]
    }
   ],
   "source": [
    "for feature in scaled_features:\n",
    "    mean = X_test[feature].mean()\n",
    "    std_dev = X_test[feature].std()\n",
    "    \n",
    "    X_test[feature] = X_test[feature].apply(lambda x: (x - mean)/std_dev)"
   ]
  },
  {
   "cell_type": "code",
   "execution_count": 24,
   "metadata": {
    "collapsed": false
   },
   "outputs": [
    {
     "data": {
      "text/html": [
       "<div>\n",
       "<table border=\"1\" class=\"dataframe\">\n",
       "  <thead>\n",
       "    <tr style=\"text-align: right;\">\n",
       "      <th></th>\n",
       "      <th>bathrooms</th>\n",
       "      <th>bedrooms</th>\n",
       "      <th>price</th>\n",
       "      <th>num_photos</th>\n",
       "      <th>num_features</th>\n",
       "      <th>description_length</th>\n",
       "      <th>latitude</th>\n",
       "      <th>longitude</th>\n",
       "      <th>manager_bin_1</th>\n",
       "      <th>manager_bin_2</th>\n",
       "      <th>manager_bin_3</th>\n",
       "      <th>manager_bin_4</th>\n",
       "      <th>manager_bin_5</th>\n",
       "      <th>month_bin_1</th>\n",
       "      <th>month_bin_2</th>\n",
       "      <th>month_bin_3</th>\n",
       "      <th>ST_High_Proba</th>\n",
       "      <th>ST_Low_Proba</th>\n",
       "      <th>ST_Medium_Proba</th>\n",
       "      <th>LT_High_Proba</th>\n",
       "      <th>LT_Low_Proba</th>\n",
       "      <th>LT_Medium_Proba</th>\n",
       "    </tr>\n",
       "  </thead>\n",
       "  <tbody>\n",
       "    <tr>\n",
       "      <th>25981</th>\n",
       "      <td>-0.422652</td>\n",
       "      <td>-1.383313</td>\n",
       "      <td>-0.672790</td>\n",
       "      <td>0.198010</td>\n",
       "      <td>0.656895</td>\n",
       "      <td>-0.158945</td>\n",
       "      <td>40.7038</td>\n",
       "      <td>-74.0083</td>\n",
       "      <td>1.0</td>\n",
       "      <td>0.0</td>\n",
       "      <td>0.0</td>\n",
       "      <td>0.0</td>\n",
       "      <td>0.0</td>\n",
       "      <td>1.0</td>\n",
       "      <td>0.0</td>\n",
       "      <td>0.0</td>\n",
       "      <td>0.142253</td>\n",
       "      <td>0.619318</td>\n",
       "      <td>0.238429</td>\n",
       "      <td>0.142430</td>\n",
       "      <td>0.619559</td>\n",
       "      <td>0.238011</td>\n",
       "    </tr>\n",
       "    <tr>\n",
       "      <th>48891</th>\n",
       "      <td>-0.422652</td>\n",
       "      <td>-0.491433</td>\n",
       "      <td>-0.045369</td>\n",
       "      <td>-1.880940</td>\n",
       "      <td>-0.367548</td>\n",
       "      <td>-1.509238</td>\n",
       "      <td>42.3033</td>\n",
       "      <td>-71.2133</td>\n",
       "      <td>1.0</td>\n",
       "      <td>0.0</td>\n",
       "      <td>0.0</td>\n",
       "      <td>0.0</td>\n",
       "      <td>0.0</td>\n",
       "      <td>0.0</td>\n",
       "      <td>0.0</td>\n",
       "      <td>1.0</td>\n",
       "      <td>0.142253</td>\n",
       "      <td>0.619318</td>\n",
       "      <td>0.238429</td>\n",
       "      <td>0.142477</td>\n",
       "      <td>0.619435</td>\n",
       "      <td>0.238088</td>\n",
       "    </tr>\n",
       "    <tr>\n",
       "      <th>5376</th>\n",
       "      <td>3.550678</td>\n",
       "      <td>1.292327</td>\n",
       "      <td>5.048125</td>\n",
       "      <td>1.583977</td>\n",
       "      <td>1.937448</td>\n",
       "      <td>0.982148</td>\n",
       "      <td>40.7825</td>\n",
       "      <td>-73.9805</td>\n",
       "      <td>0.0</td>\n",
       "      <td>0.0</td>\n",
       "      <td>0.0</td>\n",
       "      <td>0.0</td>\n",
       "      <td>1.0</td>\n",
       "      <td>0.0</td>\n",
       "      <td>0.0</td>\n",
       "      <td>1.0</td>\n",
       "      <td>0.142253</td>\n",
       "      <td>0.619318</td>\n",
       "      <td>0.238429</td>\n",
       "      <td>0.141618</td>\n",
       "      <td>0.621411</td>\n",
       "      <td>0.236971</td>\n",
       "    </tr>\n",
       "    <tr>\n",
       "      <th>36940</th>\n",
       "      <td>-0.422652</td>\n",
       "      <td>0.400447</td>\n",
       "      <td>-0.594899</td>\n",
       "      <td>-0.841465</td>\n",
       "      <td>-1.135879</td>\n",
       "      <td>-1.052801</td>\n",
       "      <td>40.7890</td>\n",
       "      <td>-73.9478</td>\n",
       "      <td>1.0</td>\n",
       "      <td>0.0</td>\n",
       "      <td>0.0</td>\n",
       "      <td>0.0</td>\n",
       "      <td>0.0</td>\n",
       "      <td>0.0</td>\n",
       "      <td>1.0</td>\n",
       "      <td>0.0</td>\n",
       "      <td>0.142253</td>\n",
       "      <td>0.619318</td>\n",
       "      <td>0.238429</td>\n",
       "      <td>0.140912</td>\n",
       "      <td>0.621162</td>\n",
       "      <td>0.237926</td>\n",
       "    </tr>\n",
       "    <tr>\n",
       "      <th>34221</th>\n",
       "      <td>-0.422652</td>\n",
       "      <td>-0.491433</td>\n",
       "      <td>0.200120</td>\n",
       "      <td>2.276960</td>\n",
       "      <td>-0.367548</td>\n",
       "      <td>-0.501273</td>\n",
       "      <td>40.7658</td>\n",
       "      <td>-73.9781</td>\n",
       "      <td>0.0</td>\n",
       "      <td>1.0</td>\n",
       "      <td>0.0</td>\n",
       "      <td>0.0</td>\n",
       "      <td>0.0</td>\n",
       "      <td>0.0</td>\n",
       "      <td>1.0</td>\n",
       "      <td>0.0</td>\n",
       "      <td>0.142111</td>\n",
       "      <td>0.619699</td>\n",
       "      <td>0.238190</td>\n",
       "      <td>0.142538</td>\n",
       "      <td>0.618344</td>\n",
       "      <td>0.239118</td>\n",
       "    </tr>\n",
       "  </tbody>\n",
       "</table>\n",
       "</div>"
      ],
      "text/plain": [
       "       bathrooms  bedrooms     price  num_photos  num_features  \\\n",
       "25981  -0.422652 -1.383313 -0.672790    0.198010      0.656895   \n",
       "48891  -0.422652 -0.491433 -0.045369   -1.880940     -0.367548   \n",
       "5376    3.550678  1.292327  5.048125    1.583977      1.937448   \n",
       "36940  -0.422652  0.400447 -0.594899   -0.841465     -1.135879   \n",
       "34221  -0.422652 -0.491433  0.200120    2.276960     -0.367548   \n",
       "\n",
       "       description_length  latitude  longitude  manager_bin_1  manager_bin_2  \\\n",
       "25981           -0.158945   40.7038   -74.0083            1.0            0.0   \n",
       "48891           -1.509238   42.3033   -71.2133            1.0            0.0   \n",
       "5376             0.982148   40.7825   -73.9805            0.0            0.0   \n",
       "36940           -1.052801   40.7890   -73.9478            1.0            0.0   \n",
       "34221           -0.501273   40.7658   -73.9781            0.0            1.0   \n",
       "\n",
       "       manager_bin_3  manager_bin_4  manager_bin_5  month_bin_1  month_bin_2  \\\n",
       "25981            0.0            0.0            0.0          1.0          0.0   \n",
       "48891            0.0            0.0            0.0          0.0          0.0   \n",
       "5376             0.0            0.0            1.0          0.0          0.0   \n",
       "36940            0.0            0.0            0.0          0.0          1.0   \n",
       "34221            0.0            0.0            0.0          0.0          1.0   \n",
       "\n",
       "       month_bin_3  ST_High_Proba  ST_Low_Proba  ST_Medium_Proba  \\\n",
       "25981          0.0       0.142253      0.619318         0.238429   \n",
       "48891          1.0       0.142253      0.619318         0.238429   \n",
       "5376           1.0       0.142253      0.619318         0.238429   \n",
       "36940          0.0       0.142253      0.619318         0.238429   \n",
       "34221          0.0       0.142111      0.619699         0.238190   \n",
       "\n",
       "       LT_High_Proba  LT_Low_Proba  LT_Medium_Proba  \n",
       "25981       0.142430      0.619559         0.238011  \n",
       "48891       0.142477      0.619435         0.238088  \n",
       "5376        0.141618      0.621411         0.236971  \n",
       "36940       0.140912      0.621162         0.237926  \n",
       "34221       0.142538      0.618344         0.239118  "
      ]
     },
     "execution_count": 24,
     "metadata": {},
     "output_type": "execute_result"
    }
   ],
   "source": [
    "X_test.head()"
   ]
  },
  {
   "cell_type": "code",
   "execution_count": 25,
   "metadata": {
    "collapsed": false
   },
   "outputs": [
    {
     "data": {
      "text/plain": [
       "(9871, 22)"
      ]
     },
     "execution_count": 25,
     "metadata": {},
     "output_type": "execute_result"
    }
   ],
   "source": [
    "X_test.shape"
   ]
  },
  {
   "cell_type": "markdown",
   "metadata": {
    "collapsed": true
   },
   "source": [
    "### Ensemble Helper Functions"
   ]
  },
  {
   "cell_type": "code",
   "execution_count": 26,
   "metadata": {
    "collapsed": false
   },
   "outputs": [],
   "source": [
    "def evaluate_model(model):\n",
    "    \n",
    "    model.fit(X_train, y_train)\n",
    "    \n",
    "    train_score = model.score(X_train, y_train)\n",
    "    test_score = model.score(X_test, y_test)\n",
    "    \n",
    "    y_hat = model.predict(X_train)\n",
    "    y_pred = model.predict(X_test)\n",
    "    \n",
    "    y_hat_proba = model.predict_proba(X_train)\n",
    "    y_pred_proba = model.predict_proba(X_test)\n",
    "    \n",
    "    return {'model': model,\n",
    "            'X': X,\n",
    "            'X_test': X_test,\n",
    "            'X_train': X_train,\n",
    "            'y': y,\n",
    "            'y_test': y_test,\n",
    "            'y_train': y_train,\n",
    "            'y_hat': y_hat,\n",
    "            'y_pred': y_pred,\n",
    "            'y_hat_proba': y_hat_proba,\n",
    "            'y_pred_proba': y_pred_proba,\n",
    "            'train_score': train_score,\n",
    "            'test_score': test_score\n",
    "           }"
   ]
  },
  {
   "cell_type": "code",
   "execution_count": 27,
   "metadata": {
    "collapsed": false
   },
   "outputs": [],
   "source": [
    "def model_summary(model, data_dictionary):\n",
    "    \n",
    "    class_rpt = classification_report(data_dictionary['y_test'], data_dictionary['y_pred'])\n",
    "    log_loss_score_train = log_loss(data_dictionary['y_train'], data_dictionary['y_hat_proba'])\n",
    "    log_loss_score_test = log_loss(data_dictionary['y_test'], data_dictionary['y_pred_proba'])\n",
    "    \n",
    "    print (\"Model Summary Report:\\n\")\n",
    "    print (model)\n",
    "    print (\"\\n\")\n",
    "    print (\"Classification Report:\\n\")\n",
    "    print (class_rpt)\n",
    "    print (\"Accuracy on training set: {:4f}\".format(model.score(data_dictionary['X_train'], \n",
    "                                                                data_dictionary['y_train'])))\n",
    "    \n",
    "    print (\"Accuracy on test set:     {:4f}\".format(model.score(data_dictionary['X_test'], \n",
    "                                                            data_dictionary['y_test'])))\n",
    "    print (\"\\n\")\n",
    "    print (\"Log Loss on training set: {:4f}\".format(log_loss_score_train))\n",
    "    print (\"Log Loss on test set:     {:4f}\".format(log_loss_score_test))"
   ]
  },
  {
   "cell_type": "code",
   "execution_count": 28,
   "metadata": {
    "collapsed": true
   },
   "outputs": [],
   "source": [
    "from sklearn.base import BaseEstimator\n",
    "from sklearn.base import ClassifierMixin\n",
    "from sklearn.preprocessing import LabelEncoder\n",
    "from sklearn.externals import six\n",
    "from sklearn.base import clone\n",
    "from sklearn.pipeline import _name_estimators\n",
    "import numpy as np\n",
    "import operator\n",
    "\n",
    "\n",
    "class MajorityVoteClassifier(BaseEstimator, \n",
    "                             ClassifierMixin):\n",
    "    \"\"\" A majority vote ensemble classifier\n",
    "\n",
    "    Parameters\n",
    "    ----------\n",
    "    classifiers : array-like, shape = [n_classifiers]\n",
    "      Different classifiers for the ensemble\n",
    "\n",
    "    vote : str, {'classlabel', 'probability'} (default='label')\n",
    "      If 'classlabel' the prediction is based on the argmax of\n",
    "        class labels. Else if 'probability', the argmax of\n",
    "        the sum of probabilities is used to predict the class label\n",
    "        (recommended for calibrated classifiers).\n",
    "\n",
    "    weights : array-like, shape = [n_classifiers], optional (default=None)\n",
    "      If a list of `int` or `float` values are provided, the classifiers\n",
    "      are weighted by importance; Uses uniform weights if `weights=None`.\n",
    "\n",
    "    \"\"\"\n",
    "    def __init__(self, classifiers, vote='classlabel', weights=None):\n",
    "\n",
    "        self.classifiers = classifiers\n",
    "        self.named_classifiers = {key: value for key, value\n",
    "                                  in _name_estimators(classifiers)}\n",
    "        self.vote = vote\n",
    "        self.weights = weights\n",
    "\n",
    "    def fit(self, X, y):\n",
    "        \"\"\" Fit classifiers.\n",
    "\n",
    "        Parameters\n",
    "        ----------\n",
    "        X : {array-like, sparse matrix}, shape = [n_samples, n_features]\n",
    "            Matrix of training samples.\n",
    "\n",
    "        y : array-like, shape = [n_samples]\n",
    "            Vector of target class labels.\n",
    "\n",
    "        Returns\n",
    "        -------\n",
    "        self : object\n",
    "\n",
    "        \"\"\"\n",
    "        if self.vote not in ('probability', 'classlabel'):\n",
    "            raise ValueError(\"vote must be 'probability' or 'classlabel'\"\n",
    "                             \"; got (vote=%r)\"\n",
    "                             % self.vote)\n",
    "\n",
    "        if self.weights and len(self.weights) != len(self.classifiers):\n",
    "            raise ValueError('Number of classifiers and weights must be equal'\n",
    "                             '; got %d weights, %d classifiers'\n",
    "                             % (len(self.weights), len(self.classifiers)))\n",
    "\n",
    "        # Use LabelEncoder to ensure class labels start with 0, which\n",
    "        # is important for np.argmax call in self.predict\n",
    "        self.lablenc_ = LabelEncoder()\n",
    "        self.lablenc_.fit(y)\n",
    "        self.classes_ = self.lablenc_.classes_\n",
    "        self.classifiers_ = []\n",
    "        for clf in self.classifiers:\n",
    "            fitted_clf = clone(clf).fit(X, self.lablenc_.transform(y))\n",
    "            self.classifiers_.append(fitted_clf)\n",
    "        return self\n",
    "\n",
    "    def predict(self, X):\n",
    "        \"\"\" Predict class labels for X.\n",
    "\n",
    "        Parameters\n",
    "        ----------\n",
    "        X : {array-like, sparse matrix}, shape = [n_samples, n_features]\n",
    "            Matrix of training samples.\n",
    "\n",
    "        Returns\n",
    "        ----------\n",
    "        maj_vote : array-like, shape = [n_samples]\n",
    "            Predicted class labels.\n",
    "            \n",
    "        \"\"\"\n",
    "        if self.vote == 'probability':\n",
    "            maj_vote = np.argmax(self.predict_proba(X), axis=1)\n",
    "        else:  # 'classlabel' vote\n",
    "\n",
    "            #  Collect results from clf.predict calls\n",
    "            predictions = np.asarray([clf.predict(X)\n",
    "                                      for clf in self.classifiers_]).T\n",
    "\n",
    "            maj_vote = np.apply_along_axis(\n",
    "                                      lambda x:\n",
    "                                      np.argmax(np.bincount(x,\n",
    "                                                weights=self.weights)),\n",
    "                                      axis=1,\n",
    "                                      arr=predictions)\n",
    "        maj_vote = self.lablenc_.inverse_transform(maj_vote)\n",
    "        return maj_vote\n",
    "\n",
    "    def predict_proba(self, X):\n",
    "        \"\"\" Predict class probabilities for X.\n",
    "\n",
    "        Parameters\n",
    "        ----------\n",
    "        X : {array-like, sparse matrix}, shape = [n_samples, n_features]\n",
    "            Training vectors, where n_samples is the number of samples and\n",
    "            n_features is the number of features.\n",
    "\n",
    "        Returns\n",
    "        ----------\n",
    "        avg_proba : array-like, shape = [n_samples, n_classes]\n",
    "            Weighted average probability for each class per sample.\n",
    "\n",
    "        \"\"\"\n",
    "        probas = np.asarray([clf.predict_proba(X)\n",
    "                             for clf in self.classifiers_])\n",
    "        avg_proba = np.average(probas, axis=0, weights=self.weights)\n",
    "        return avg_proba\n",
    "\n",
    "    def get_params(self, deep=True):\n",
    "        \"\"\" Get classifier parameter names for GridSearch\"\"\"\n",
    "        if not deep:\n",
    "            return super(MajorityVoteClassifier, self).get_params(deep=False)\n",
    "        else:\n",
    "            out = self.named_classifiers.copy()\n",
    "            for name, step in six.iteritems(self.named_classifiers):\n",
    "                for key, value in six.iteritems(step.get_params(deep=True)):\n",
    "                    out['%s__%s' % (name, key)] = value\n",
    "            return out"
   ]
  },
  {
   "cell_type": "markdown",
   "metadata": {},
   "source": [
    "Initializing a global dictionary to store the various models for later retrieval"
   ]
  },
  {
   "cell_type": "code",
   "execution_count": 29,
   "metadata": {
    "collapsed": true
   },
   "outputs": [],
   "source": [
    "X_num_models = {}"
   ]
  },
  {
   "cell_type": "markdown",
   "metadata": {},
   "source": [
    "## `Stacked` Models"
   ]
  },
  {
   "cell_type": "markdown",
   "metadata": {},
   "source": [
    "### Model 1 - Logistic Regression w/Lasso"
   ]
  },
  {
   "cell_type": "code",
   "execution_count": 30,
   "metadata": {
    "collapsed": true
   },
   "outputs": [],
   "source": [
    "clf1 = LogisticRegression(penalty='l2',\n",
    "                          C=0.001,\n",
    "                          n_jobs=-1,\n",
    "                          random_state=82\n",
    "                         )"
   ]
  },
  {
   "cell_type": "code",
   "execution_count": 31,
   "metadata": {
    "collapsed": false
   },
   "outputs": [],
   "source": [
    "X_num_clf1_dictionary = evaluate_model(clf1)"
   ]
  },
  {
   "cell_type": "code",
   "execution_count": 32,
   "metadata": {
    "collapsed": false
   },
   "outputs": [
    {
     "name": "stdout",
     "output_type": "stream",
     "text": [
      "Model Summary Report:\n",
      "\n",
      "LogisticRegression(C=0.001, class_weight=None, dual=False, fit_intercept=True,\n",
      "          intercept_scaling=1, max_iter=100, multi_class='ovr', n_jobs=-1,\n",
      "          penalty='l2', random_state=82, solver='liblinear', tol=0.0001,\n",
      "          verbose=0, warm_start=False)\n",
      "\n",
      "\n",
      "Classification Report:\n",
      "\n",
      "             precision    recall  f1-score   support\n",
      "\n",
      "          0       0.00      0.00      0.00       765\n",
      "          1       0.69      0.99      0.82      6813\n",
      "          2       0.41      0.02      0.04      2293\n",
      "\n",
      "avg / total       0.57      0.69      0.57      9871\n",
      "\n",
      "Accuracy on training set: 0.694385\n",
      "Accuracy on test set:     0.690001\n",
      "\n",
      "\n",
      "Log Loss on training set: 0.726145\n",
      "Log Loss on test set:     0.735031\n"
     ]
    }
   ],
   "source": [
    "model_summary(clf1, X_num_clf1_dictionary)"
   ]
  },
  {
   "cell_type": "markdown",
   "metadata": {},
   "source": [
    "### Tuning Model 1 via GridSearch"
   ]
  },
  {
   "cell_type": "code",
   "execution_count": 33,
   "metadata": {
    "collapsed": false
   },
   "outputs": [],
   "source": [
    "params = {'C': [0.0001, 0.001, 0.01, 0.1, 1.0, 10.0],\n",
    "          'penalty': ['l2']\n",
    "         }\n",
    "\n",
    "gs_clf1 = GridSearchCV(clf1,\n",
    "                       params, \n",
    "                       n_jobs=-1,\n",
    "                       cv=10,\n",
    "                       verbose=1\n",
    "                      )"
   ]
  },
  {
   "cell_type": "code",
   "execution_count": 34,
   "metadata": {
    "collapsed": false
   },
   "outputs": [
    {
     "name": "stdout",
     "output_type": "stream",
     "text": [
      "Fitting 10 folds for each of 6 candidates, totalling 60 fits\n"
     ]
    },
    {
     "name": "stderr",
     "output_type": "stream",
     "text": [
      "[Parallel(n_jobs=-1)]: Done  42 tasks      | elapsed:    8.0s\n",
      "[Parallel(n_jobs=-1)]: Done  60 out of  60 | elapsed:   12.6s finished\n"
     ]
    }
   ],
   "source": [
    "X_num_gs_clf1_dictionary = evaluate_model(gs_clf1)"
   ]
  },
  {
   "cell_type": "code",
   "execution_count": 35,
   "metadata": {
    "collapsed": false
   },
   "outputs": [
    {
     "name": "stdout",
     "output_type": "stream",
     "text": [
      "Model Summary Report:\n",
      "\n",
      "GridSearchCV(cv=10, error_score='raise',\n",
      "       estimator=LogisticRegression(C=0.001, class_weight=None, dual=False, fit_intercept=True,\n",
      "          intercept_scaling=1, max_iter=100, multi_class='ovr', n_jobs=-1,\n",
      "          penalty='l2', random_state=82, solver='liblinear', tol=0.0001,\n",
      "          verbose=0, warm_start=False),\n",
      "       fit_params={}, iid=True, n_jobs=-1,\n",
      "       param_grid={'penalty': ['l2'], 'C': [0.0001, 0.001, 0.01, 0.1, 1.0, 10.0]},\n",
      "       pre_dispatch='2*n_jobs', refit=True, return_train_score=True,\n",
      "       scoring=None, verbose=1)\n",
      "\n",
      "\n",
      "Classification Report:\n",
      "\n",
      "             precision    recall  f1-score   support\n",
      "\n",
      "          0       0.00      0.00      0.00       765\n",
      "          1       0.69      1.00      0.82      6813\n",
      "          2       0.00      0.00      0.00      2293\n",
      "\n",
      "avg / total       0.48      0.69      0.56      9871\n",
      "\n",
      "Accuracy on training set: 0.695702\n",
      "Accuracy on test set:     0.690001\n",
      "\n",
      "\n",
      "Log Loss on training set: 0.763379\n",
      "Log Loss on test set:     0.770461\n"
     ]
    }
   ],
   "source": [
    "model_summary(gs_clf1, X_num_gs_clf1_dictionary)"
   ]
  },
  {
   "cell_type": "code",
   "execution_count": 36,
   "metadata": {
    "collapsed": true
   },
   "outputs": [],
   "source": [
    "X_num_models['gs_clf1'] = {'model': gs_clf1.best_estimator_,\n",
    "                           'best_params': gs_clf1.best_params_,\n",
    "                           'score': gs_clf1.best_score_\n",
    "                          }"
   ]
  },
  {
   "cell_type": "code",
   "execution_count": 37,
   "metadata": {
    "collapsed": false
   },
   "outputs": [
    {
     "data": {
      "text/plain": [
       "{'best_params': {'C': 0.0001, 'penalty': 'l2'},\n",
       " 'model': LogisticRegression(C=0.0001, class_weight=None, dual=False,\n",
       "           fit_intercept=True, intercept_scaling=1, max_iter=100,\n",
       "           multi_class='ovr', n_jobs=-1, penalty='l2', random_state=82,\n",
       "           solver='liblinear', tol=0.0001, verbose=0, warm_start=False),\n",
       " 'score': 0.69570172994604995}"
      ]
     },
     "execution_count": 37,
     "metadata": {},
     "output_type": "execute_result"
    }
   ],
   "source": [
    "X_num_models['gs_clf1']"
   ]
  },
  {
   "cell_type": "markdown",
   "metadata": {},
   "source": [
    "### Extracting Important Features"
   ]
  },
  {
   "cell_type": "code",
   "execution_count": 38,
   "metadata": {
    "collapsed": false
   },
   "outputs": [
    {
     "data": {
      "text/html": [
       "<div>\n",
       "<table border=\"1\" class=\"dataframe\">\n",
       "  <thead>\n",
       "    <tr style=\"text-align: right;\">\n",
       "      <th></th>\n",
       "      <th>Feature</th>\n",
       "    </tr>\n",
       "  </thead>\n",
       "  <tbody>\n",
       "    <tr>\n",
       "      <th>0</th>\n",
       "      <td>bathrooms</td>\n",
       "    </tr>\n",
       "    <tr>\n",
       "      <th>1</th>\n",
       "      <td>bedrooms</td>\n",
       "    </tr>\n",
       "    <tr>\n",
       "      <th>2</th>\n",
       "      <td>price</td>\n",
       "    </tr>\n",
       "    <tr>\n",
       "      <th>3</th>\n",
       "      <td>num_photos</td>\n",
       "    </tr>\n",
       "    <tr>\n",
       "      <th>4</th>\n",
       "      <td>num_features</td>\n",
       "    </tr>\n",
       "    <tr>\n",
       "      <th>5</th>\n",
       "      <td>description_length</td>\n",
       "    </tr>\n",
       "    <tr>\n",
       "      <th>6</th>\n",
       "      <td>latitude</td>\n",
       "    </tr>\n",
       "    <tr>\n",
       "      <th>7</th>\n",
       "      <td>longitude</td>\n",
       "    </tr>\n",
       "    <tr>\n",
       "      <th>8</th>\n",
       "      <td>manager_bin_1</td>\n",
       "    </tr>\n",
       "    <tr>\n",
       "      <th>9</th>\n",
       "      <td>manager_bin_2</td>\n",
       "    </tr>\n",
       "    <tr>\n",
       "      <th>10</th>\n",
       "      <td>manager_bin_3</td>\n",
       "    </tr>\n",
       "    <tr>\n",
       "      <th>11</th>\n",
       "      <td>manager_bin_4</td>\n",
       "    </tr>\n",
       "    <tr>\n",
       "      <th>12</th>\n",
       "      <td>manager_bin_5</td>\n",
       "    </tr>\n",
       "    <tr>\n",
       "      <th>13</th>\n",
       "      <td>month_bin_1</td>\n",
       "    </tr>\n",
       "    <tr>\n",
       "      <th>14</th>\n",
       "      <td>month_bin_2</td>\n",
       "    </tr>\n",
       "    <tr>\n",
       "      <th>15</th>\n",
       "      <td>month_bin_3</td>\n",
       "    </tr>\n",
       "    <tr>\n",
       "      <th>16</th>\n",
       "      <td>ST_High_Proba</td>\n",
       "    </tr>\n",
       "    <tr>\n",
       "      <th>17</th>\n",
       "      <td>ST_Low_Proba</td>\n",
       "    </tr>\n",
       "    <tr>\n",
       "      <th>18</th>\n",
       "      <td>ST_Medium_Proba</td>\n",
       "    </tr>\n",
       "    <tr>\n",
       "      <th>19</th>\n",
       "      <td>LT_High_Proba</td>\n",
       "    </tr>\n",
       "    <tr>\n",
       "      <th>20</th>\n",
       "      <td>LT_Low_Proba</td>\n",
       "    </tr>\n",
       "    <tr>\n",
       "      <th>21</th>\n",
       "      <td>LT_Medium_Proba</td>\n",
       "    </tr>\n",
       "  </tbody>\n",
       "</table>\n",
       "</div>"
      ],
      "text/plain": [
       "               Feature\n",
       "0            bathrooms\n",
       "1             bedrooms\n",
       "2                price\n",
       "3           num_photos\n",
       "4         num_features\n",
       "5   description_length\n",
       "6             latitude\n",
       "7            longitude\n",
       "8        manager_bin_1\n",
       "9        manager_bin_2\n",
       "10       manager_bin_3\n",
       "11       manager_bin_4\n",
       "12       manager_bin_5\n",
       "13         month_bin_1\n",
       "14         month_bin_2\n",
       "15         month_bin_3\n",
       "16       ST_High_Proba\n",
       "17        ST_Low_Proba\n",
       "18     ST_Medium_Proba\n",
       "19       LT_High_Proba\n",
       "20        LT_Low_Proba\n",
       "21     LT_Medium_Proba"
      ]
     },
     "execution_count": 38,
     "metadata": {},
     "output_type": "execute_result"
    }
   ],
   "source": [
    "X_num_features = pd.DataFrame(X.columns.tolist(), columns=[\"Feature\"])\n",
    "X_num_features"
   ]
  },
  {
   "cell_type": "code",
   "execution_count": 39,
   "metadata": {
    "collapsed": false
   },
   "outputs": [
    {
     "data": {
      "text/plain": [
       "array([[ -3.29997343e-02,   1.79964030e-02,  -1.21728490e-01,\n",
       "          2.65079566e-02,  -1.21708141e-02,   1.25485042e-02,\n",
       "         -1.40132577e-02,   2.57817493e-02,   3.14702327e-03,\n",
       "          1.55694495e-02,  -6.83535178e-04,   3.61136373e-04,\n",
       "         -1.90554438e-02,   9.61541393e-03,   2.10403916e-03,\n",
       "         -1.23808230e-02,  -9.84090365e-05,  -3.93343132e-04,\n",
       "         -1.69617746e-04,  -8.98059081e-05,  -4.13671269e-04,\n",
       "         -1.57892738e-04],\n",
       "       [  4.77444331e-02,  -9.04312604e-02,   2.40330038e-01,\n",
       "         -6.79326382e-02,  -5.29332826e-02,  -7.38001557e-02,\n",
       "          5.36935363e-03,  -8.22620545e-03,   3.09127141e-02,\n",
       "         -4.94022673e-02,  -1.31058010e-02,  -1.01706821e-02,\n",
       "          4.20698467e-02,  -2.04884633e-02,   3.66230024e-03,\n",
       "          1.71299735e-02,   3.67095513e-05,   1.63374281e-04,\n",
       "          1.03726617e-04,   5.98911089e-05,   1.94184870e-04,\n",
       "          4.97344701e-05],\n",
       "       [ -3.83378450e-02,   6.79443701e-02,  -1.54631750e-01,\n",
       "          5.29128479e-02,   6.25885391e-02,   6.99263237e-02,\n",
       "         -7.73894375e-03,   1.22763931e-02,  -3.39684448e-02,\n",
       "          3.65708805e-02,   1.41451536e-02,   1.00544297e-02,\n",
       "         -2.71902969e-02,   1.27622032e-02,  -5.80744190e-03,\n",
       "         -7.34303926e-03,  -4.46511300e-05,  -2.31580119e-04,\n",
       "         -1.12046758e-04,  -7.63284139e-05,  -2.42619896e-04,\n",
       "         -6.93296966e-05]])"
      ]
     },
     "execution_count": 39,
     "metadata": {},
     "output_type": "execute_result"
    }
   ],
   "source": [
    "gs_clf1.best_estimator_.coef_"
   ]
  },
  {
   "cell_type": "code",
   "execution_count": 40,
   "metadata": {
    "collapsed": false
   },
   "outputs": [
    {
     "data": {
      "text/plain": [
       "(3, 22)"
      ]
     },
     "execution_count": 40,
     "metadata": {},
     "output_type": "execute_result"
    }
   ],
   "source": [
    "gs_clf1.best_estimator_.coef_.shape"
   ]
  },
  {
   "cell_type": "code",
   "execution_count": 41,
   "metadata": {
    "collapsed": false
   },
   "outputs": [
    {
     "data": {
      "text/html": [
       "<div>\n",
       "<table border=\"1\" class=\"dataframe\">\n",
       "  <thead>\n",
       "    <tr style=\"text-align: right;\">\n",
       "      <th></th>\n",
       "      <th>Feature</th>\n",
       "      <th>coef_high</th>\n",
       "      <th>coef_low</th>\n",
       "      <th>coef_medium</th>\n",
       "    </tr>\n",
       "  </thead>\n",
       "  <tbody>\n",
       "    <tr>\n",
       "      <th>0</th>\n",
       "      <td>bathrooms</td>\n",
       "      <td>-0.033000</td>\n",
       "      <td>0.047744</td>\n",
       "      <td>-0.038338</td>\n",
       "    </tr>\n",
       "    <tr>\n",
       "      <th>1</th>\n",
       "      <td>bedrooms</td>\n",
       "      <td>0.017996</td>\n",
       "      <td>-0.090431</td>\n",
       "      <td>0.067944</td>\n",
       "    </tr>\n",
       "    <tr>\n",
       "      <th>2</th>\n",
       "      <td>price</td>\n",
       "      <td>-0.121728</td>\n",
       "      <td>0.240330</td>\n",
       "      <td>-0.154632</td>\n",
       "    </tr>\n",
       "    <tr>\n",
       "      <th>3</th>\n",
       "      <td>num_photos</td>\n",
       "      <td>0.026508</td>\n",
       "      <td>-0.067933</td>\n",
       "      <td>0.052913</td>\n",
       "    </tr>\n",
       "    <tr>\n",
       "      <th>4</th>\n",
       "      <td>num_features</td>\n",
       "      <td>-0.012171</td>\n",
       "      <td>-0.052933</td>\n",
       "      <td>0.062589</td>\n",
       "    </tr>\n",
       "    <tr>\n",
       "      <th>5</th>\n",
       "      <td>description_length</td>\n",
       "      <td>0.012549</td>\n",
       "      <td>-0.073800</td>\n",
       "      <td>0.069926</td>\n",
       "    </tr>\n",
       "    <tr>\n",
       "      <th>6</th>\n",
       "      <td>latitude</td>\n",
       "      <td>-0.014013</td>\n",
       "      <td>0.005369</td>\n",
       "      <td>-0.007739</td>\n",
       "    </tr>\n",
       "    <tr>\n",
       "      <th>7</th>\n",
       "      <td>longitude</td>\n",
       "      <td>0.025782</td>\n",
       "      <td>-0.008226</td>\n",
       "      <td>0.012276</td>\n",
       "    </tr>\n",
       "    <tr>\n",
       "      <th>8</th>\n",
       "      <td>manager_bin_1</td>\n",
       "      <td>0.003147</td>\n",
       "      <td>0.030913</td>\n",
       "      <td>-0.033968</td>\n",
       "    </tr>\n",
       "    <tr>\n",
       "      <th>9</th>\n",
       "      <td>manager_bin_2</td>\n",
       "      <td>0.015569</td>\n",
       "      <td>-0.049402</td>\n",
       "      <td>0.036571</td>\n",
       "    </tr>\n",
       "    <tr>\n",
       "      <th>10</th>\n",
       "      <td>manager_bin_3</td>\n",
       "      <td>-0.000684</td>\n",
       "      <td>-0.013106</td>\n",
       "      <td>0.014145</td>\n",
       "    </tr>\n",
       "    <tr>\n",
       "      <th>11</th>\n",
       "      <td>manager_bin_4</td>\n",
       "      <td>0.000361</td>\n",
       "      <td>-0.010171</td>\n",
       "      <td>0.010054</td>\n",
       "    </tr>\n",
       "    <tr>\n",
       "      <th>12</th>\n",
       "      <td>manager_bin_5</td>\n",
       "      <td>-0.019055</td>\n",
       "      <td>0.042070</td>\n",
       "      <td>-0.027190</td>\n",
       "    </tr>\n",
       "    <tr>\n",
       "      <th>13</th>\n",
       "      <td>month_bin_1</td>\n",
       "      <td>0.009615</td>\n",
       "      <td>-0.020488</td>\n",
       "      <td>0.012762</td>\n",
       "    </tr>\n",
       "    <tr>\n",
       "      <th>14</th>\n",
       "      <td>month_bin_2</td>\n",
       "      <td>0.002104</td>\n",
       "      <td>0.003662</td>\n",
       "      <td>-0.005807</td>\n",
       "    </tr>\n",
       "    <tr>\n",
       "      <th>15</th>\n",
       "      <td>month_bin_3</td>\n",
       "      <td>-0.012381</td>\n",
       "      <td>0.017130</td>\n",
       "      <td>-0.007343</td>\n",
       "    </tr>\n",
       "    <tr>\n",
       "      <th>16</th>\n",
       "      <td>ST_High_Proba</td>\n",
       "      <td>-0.000098</td>\n",
       "      <td>0.000037</td>\n",
       "      <td>-0.000045</td>\n",
       "    </tr>\n",
       "    <tr>\n",
       "      <th>17</th>\n",
       "      <td>ST_Low_Proba</td>\n",
       "      <td>-0.000393</td>\n",
       "      <td>0.000163</td>\n",
       "      <td>-0.000232</td>\n",
       "    </tr>\n",
       "    <tr>\n",
       "      <th>18</th>\n",
       "      <td>ST_Medium_Proba</td>\n",
       "      <td>-0.000170</td>\n",
       "      <td>0.000104</td>\n",
       "      <td>-0.000112</td>\n",
       "    </tr>\n",
       "    <tr>\n",
       "      <th>19</th>\n",
       "      <td>LT_High_Proba</td>\n",
       "      <td>-0.000090</td>\n",
       "      <td>0.000060</td>\n",
       "      <td>-0.000076</td>\n",
       "    </tr>\n",
       "    <tr>\n",
       "      <th>20</th>\n",
       "      <td>LT_Low_Proba</td>\n",
       "      <td>-0.000414</td>\n",
       "      <td>0.000194</td>\n",
       "      <td>-0.000243</td>\n",
       "    </tr>\n",
       "    <tr>\n",
       "      <th>21</th>\n",
       "      <td>LT_Medium_Proba</td>\n",
       "      <td>-0.000158</td>\n",
       "      <td>0.000050</td>\n",
       "      <td>-0.000069</td>\n",
       "    </tr>\n",
       "  </tbody>\n",
       "</table>\n",
       "</div>"
      ],
      "text/plain": [
       "               Feature  coef_high  coef_low  coef_medium\n",
       "0            bathrooms  -0.033000  0.047744    -0.038338\n",
       "1             bedrooms   0.017996 -0.090431     0.067944\n",
       "2                price  -0.121728  0.240330    -0.154632\n",
       "3           num_photos   0.026508 -0.067933     0.052913\n",
       "4         num_features  -0.012171 -0.052933     0.062589\n",
       "5   description_length   0.012549 -0.073800     0.069926\n",
       "6             latitude  -0.014013  0.005369    -0.007739\n",
       "7            longitude   0.025782 -0.008226     0.012276\n",
       "8        manager_bin_1   0.003147  0.030913    -0.033968\n",
       "9        manager_bin_2   0.015569 -0.049402     0.036571\n",
       "10       manager_bin_3  -0.000684 -0.013106     0.014145\n",
       "11       manager_bin_4   0.000361 -0.010171     0.010054\n",
       "12       manager_bin_5  -0.019055  0.042070    -0.027190\n",
       "13         month_bin_1   0.009615 -0.020488     0.012762\n",
       "14         month_bin_2   0.002104  0.003662    -0.005807\n",
       "15         month_bin_3  -0.012381  0.017130    -0.007343\n",
       "16       ST_High_Proba  -0.000098  0.000037    -0.000045\n",
       "17        ST_Low_Proba  -0.000393  0.000163    -0.000232\n",
       "18     ST_Medium_Proba  -0.000170  0.000104    -0.000112\n",
       "19       LT_High_Proba  -0.000090  0.000060    -0.000076\n",
       "20        LT_Low_Proba  -0.000414  0.000194    -0.000243\n",
       "21     LT_Medium_Proba  -0.000158  0.000050    -0.000069"
      ]
     },
     "execution_count": 41,
     "metadata": {},
     "output_type": "execute_result"
    }
   ],
   "source": [
    "log_reg_gs_features = pd.DataFrame({'coef_low': gs_clf1.best_estimator_.coef_[1],\n",
    "                                    'coef_medium': gs_clf1.best_estimator_.coef_[2],\n",
    "                                    'coef_high': gs_clf1.best_estimator_.coef_[0],\n",
    "                                    'Feature': X_num_features['Feature'].values\n",
    "                                   })\n",
    "\n",
    "log_reg_gs_features"
   ]
  },
  {
   "cell_type": "code",
   "execution_count": 42,
   "metadata": {
    "collapsed": false
   },
   "outputs": [
    {
     "data": {
      "text/html": [
       "<div>\n",
       "<table border=\"1\" class=\"dataframe\">\n",
       "  <thead>\n",
       "    <tr style=\"text-align: right;\">\n",
       "      <th></th>\n",
       "      <th>Feature</th>\n",
       "      <th>coef_high</th>\n",
       "      <th>coef_low</th>\n",
       "      <th>coef_medium</th>\n",
       "      <th>high_abs_coef</th>\n",
       "      <th>low_abs_coef</th>\n",
       "      <th>med_abs_coef</th>\n",
       "    </tr>\n",
       "  </thead>\n",
       "  <tbody>\n",
       "    <tr>\n",
       "      <th>2</th>\n",
       "      <td>price</td>\n",
       "      <td>-0.121728</td>\n",
       "      <td>0.240330</td>\n",
       "      <td>-0.154632</td>\n",
       "      <td>0.121728</td>\n",
       "      <td>0.240330</td>\n",
       "      <td>0.154632</td>\n",
       "    </tr>\n",
       "    <tr>\n",
       "      <th>0</th>\n",
       "      <td>bathrooms</td>\n",
       "      <td>-0.033000</td>\n",
       "      <td>0.047744</td>\n",
       "      <td>-0.038338</td>\n",
       "      <td>0.033000</td>\n",
       "      <td>0.047744</td>\n",
       "      <td>0.038338</td>\n",
       "    </tr>\n",
       "    <tr>\n",
       "      <th>3</th>\n",
       "      <td>num_photos</td>\n",
       "      <td>0.026508</td>\n",
       "      <td>-0.067933</td>\n",
       "      <td>0.052913</td>\n",
       "      <td>0.026508</td>\n",
       "      <td>0.067933</td>\n",
       "      <td>0.052913</td>\n",
       "    </tr>\n",
       "    <tr>\n",
       "      <th>7</th>\n",
       "      <td>longitude</td>\n",
       "      <td>0.025782</td>\n",
       "      <td>-0.008226</td>\n",
       "      <td>0.012276</td>\n",
       "      <td>0.025782</td>\n",
       "      <td>0.008226</td>\n",
       "      <td>0.012276</td>\n",
       "    </tr>\n",
       "    <tr>\n",
       "      <th>12</th>\n",
       "      <td>manager_bin_5</td>\n",
       "      <td>-0.019055</td>\n",
       "      <td>0.042070</td>\n",
       "      <td>-0.027190</td>\n",
       "      <td>0.019055</td>\n",
       "      <td>0.042070</td>\n",
       "      <td>0.027190</td>\n",
       "    </tr>\n",
       "    <tr>\n",
       "      <th>1</th>\n",
       "      <td>bedrooms</td>\n",
       "      <td>0.017996</td>\n",
       "      <td>-0.090431</td>\n",
       "      <td>0.067944</td>\n",
       "      <td>0.017996</td>\n",
       "      <td>0.090431</td>\n",
       "      <td>0.067944</td>\n",
       "    </tr>\n",
       "    <tr>\n",
       "      <th>9</th>\n",
       "      <td>manager_bin_2</td>\n",
       "      <td>0.015569</td>\n",
       "      <td>-0.049402</td>\n",
       "      <td>0.036571</td>\n",
       "      <td>0.015569</td>\n",
       "      <td>0.049402</td>\n",
       "      <td>0.036571</td>\n",
       "    </tr>\n",
       "    <tr>\n",
       "      <th>6</th>\n",
       "      <td>latitude</td>\n",
       "      <td>-0.014013</td>\n",
       "      <td>0.005369</td>\n",
       "      <td>-0.007739</td>\n",
       "      <td>0.014013</td>\n",
       "      <td>0.005369</td>\n",
       "      <td>0.007739</td>\n",
       "    </tr>\n",
       "    <tr>\n",
       "      <th>5</th>\n",
       "      <td>description_length</td>\n",
       "      <td>0.012549</td>\n",
       "      <td>-0.073800</td>\n",
       "      <td>0.069926</td>\n",
       "      <td>0.012549</td>\n",
       "      <td>0.073800</td>\n",
       "      <td>0.069926</td>\n",
       "    </tr>\n",
       "    <tr>\n",
       "      <th>15</th>\n",
       "      <td>month_bin_3</td>\n",
       "      <td>-0.012381</td>\n",
       "      <td>0.017130</td>\n",
       "      <td>-0.007343</td>\n",
       "      <td>0.012381</td>\n",
       "      <td>0.017130</td>\n",
       "      <td>0.007343</td>\n",
       "    </tr>\n",
       "    <tr>\n",
       "      <th>4</th>\n",
       "      <td>num_features</td>\n",
       "      <td>-0.012171</td>\n",
       "      <td>-0.052933</td>\n",
       "      <td>0.062589</td>\n",
       "      <td>0.012171</td>\n",
       "      <td>0.052933</td>\n",
       "      <td>0.062589</td>\n",
       "    </tr>\n",
       "    <tr>\n",
       "      <th>13</th>\n",
       "      <td>month_bin_1</td>\n",
       "      <td>0.009615</td>\n",
       "      <td>-0.020488</td>\n",
       "      <td>0.012762</td>\n",
       "      <td>0.009615</td>\n",
       "      <td>0.020488</td>\n",
       "      <td>0.012762</td>\n",
       "    </tr>\n",
       "    <tr>\n",
       "      <th>8</th>\n",
       "      <td>manager_bin_1</td>\n",
       "      <td>0.003147</td>\n",
       "      <td>0.030913</td>\n",
       "      <td>-0.033968</td>\n",
       "      <td>0.003147</td>\n",
       "      <td>0.030913</td>\n",
       "      <td>0.033968</td>\n",
       "    </tr>\n",
       "    <tr>\n",
       "      <th>14</th>\n",
       "      <td>month_bin_2</td>\n",
       "      <td>0.002104</td>\n",
       "      <td>0.003662</td>\n",
       "      <td>-0.005807</td>\n",
       "      <td>0.002104</td>\n",
       "      <td>0.003662</td>\n",
       "      <td>0.005807</td>\n",
       "    </tr>\n",
       "    <tr>\n",
       "      <th>10</th>\n",
       "      <td>manager_bin_3</td>\n",
       "      <td>-0.000684</td>\n",
       "      <td>-0.013106</td>\n",
       "      <td>0.014145</td>\n",
       "      <td>0.000684</td>\n",
       "      <td>0.013106</td>\n",
       "      <td>0.014145</td>\n",
       "    </tr>\n",
       "    <tr>\n",
       "      <th>20</th>\n",
       "      <td>LT_Low_Proba</td>\n",
       "      <td>-0.000414</td>\n",
       "      <td>0.000194</td>\n",
       "      <td>-0.000243</td>\n",
       "      <td>0.000414</td>\n",
       "      <td>0.000194</td>\n",
       "      <td>0.000243</td>\n",
       "    </tr>\n",
       "    <tr>\n",
       "      <th>17</th>\n",
       "      <td>ST_Low_Proba</td>\n",
       "      <td>-0.000393</td>\n",
       "      <td>0.000163</td>\n",
       "      <td>-0.000232</td>\n",
       "      <td>0.000393</td>\n",
       "      <td>0.000163</td>\n",
       "      <td>0.000232</td>\n",
       "    </tr>\n",
       "    <tr>\n",
       "      <th>11</th>\n",
       "      <td>manager_bin_4</td>\n",
       "      <td>0.000361</td>\n",
       "      <td>-0.010171</td>\n",
       "      <td>0.010054</td>\n",
       "      <td>0.000361</td>\n",
       "      <td>0.010171</td>\n",
       "      <td>0.010054</td>\n",
       "    </tr>\n",
       "    <tr>\n",
       "      <th>18</th>\n",
       "      <td>ST_Medium_Proba</td>\n",
       "      <td>-0.000170</td>\n",
       "      <td>0.000104</td>\n",
       "      <td>-0.000112</td>\n",
       "      <td>0.000170</td>\n",
       "      <td>0.000104</td>\n",
       "      <td>0.000112</td>\n",
       "    </tr>\n",
       "    <tr>\n",
       "      <th>21</th>\n",
       "      <td>LT_Medium_Proba</td>\n",
       "      <td>-0.000158</td>\n",
       "      <td>0.000050</td>\n",
       "      <td>-0.000069</td>\n",
       "      <td>0.000158</td>\n",
       "      <td>0.000050</td>\n",
       "      <td>0.000069</td>\n",
       "    </tr>\n",
       "    <tr>\n",
       "      <th>16</th>\n",
       "      <td>ST_High_Proba</td>\n",
       "      <td>-0.000098</td>\n",
       "      <td>0.000037</td>\n",
       "      <td>-0.000045</td>\n",
       "      <td>0.000098</td>\n",
       "      <td>0.000037</td>\n",
       "      <td>0.000045</td>\n",
       "    </tr>\n",
       "    <tr>\n",
       "      <th>19</th>\n",
       "      <td>LT_High_Proba</td>\n",
       "      <td>-0.000090</td>\n",
       "      <td>0.000060</td>\n",
       "      <td>-0.000076</td>\n",
       "      <td>0.000090</td>\n",
       "      <td>0.000060</td>\n",
       "      <td>0.000076</td>\n",
       "    </tr>\n",
       "  </tbody>\n",
       "</table>\n",
       "</div>"
      ],
      "text/plain": [
       "               Feature  coef_high  coef_low  coef_medium  high_abs_coef  \\\n",
       "2                price  -0.121728  0.240330    -0.154632       0.121728   \n",
       "0            bathrooms  -0.033000  0.047744    -0.038338       0.033000   \n",
       "3           num_photos   0.026508 -0.067933     0.052913       0.026508   \n",
       "7            longitude   0.025782 -0.008226     0.012276       0.025782   \n",
       "12       manager_bin_5  -0.019055  0.042070    -0.027190       0.019055   \n",
       "1             bedrooms   0.017996 -0.090431     0.067944       0.017996   \n",
       "9        manager_bin_2   0.015569 -0.049402     0.036571       0.015569   \n",
       "6             latitude  -0.014013  0.005369    -0.007739       0.014013   \n",
       "5   description_length   0.012549 -0.073800     0.069926       0.012549   \n",
       "15         month_bin_3  -0.012381  0.017130    -0.007343       0.012381   \n",
       "4         num_features  -0.012171 -0.052933     0.062589       0.012171   \n",
       "13         month_bin_1   0.009615 -0.020488     0.012762       0.009615   \n",
       "8        manager_bin_1   0.003147  0.030913    -0.033968       0.003147   \n",
       "14         month_bin_2   0.002104  0.003662    -0.005807       0.002104   \n",
       "10       manager_bin_3  -0.000684 -0.013106     0.014145       0.000684   \n",
       "20        LT_Low_Proba  -0.000414  0.000194    -0.000243       0.000414   \n",
       "17        ST_Low_Proba  -0.000393  0.000163    -0.000232       0.000393   \n",
       "11       manager_bin_4   0.000361 -0.010171     0.010054       0.000361   \n",
       "18     ST_Medium_Proba  -0.000170  0.000104    -0.000112       0.000170   \n",
       "21     LT_Medium_Proba  -0.000158  0.000050    -0.000069       0.000158   \n",
       "16       ST_High_Proba  -0.000098  0.000037    -0.000045       0.000098   \n",
       "19       LT_High_Proba  -0.000090  0.000060    -0.000076       0.000090   \n",
       "\n",
       "    low_abs_coef  med_abs_coef  \n",
       "2       0.240330      0.154632  \n",
       "0       0.047744      0.038338  \n",
       "3       0.067933      0.052913  \n",
       "7       0.008226      0.012276  \n",
       "12      0.042070      0.027190  \n",
       "1       0.090431      0.067944  \n",
       "9       0.049402      0.036571  \n",
       "6       0.005369      0.007739  \n",
       "5       0.073800      0.069926  \n",
       "15      0.017130      0.007343  \n",
       "4       0.052933      0.062589  \n",
       "13      0.020488      0.012762  \n",
       "8       0.030913      0.033968  \n",
       "14      0.003662      0.005807  \n",
       "10      0.013106      0.014145  \n",
       "20      0.000194      0.000243  \n",
       "17      0.000163      0.000232  \n",
       "11      0.010171      0.010054  \n",
       "18      0.000104      0.000112  \n",
       "21      0.000050      0.000069  \n",
       "16      0.000037      0.000045  \n",
       "19      0.000060      0.000076  "
      ]
     },
     "execution_count": 42,
     "metadata": {},
     "output_type": "execute_result"
    }
   ],
   "source": [
    "log_reg_gs_features['high_abs_coef'] = log_reg_gs_features['coef_high'].apply(lambda x: abs(x))\n",
    "log_reg_gs_features['low_abs_coef'] = log_reg_gs_features['coef_low'].apply(lambda x: abs(x))\n",
    "log_reg_gs_features['med_abs_coef'] = log_reg_gs_features['coef_medium'].apply(lambda x: abs(x))\n",
    "\n",
    "log_reg_gs_features.sort_values(by='high_abs_coef', ascending=False)"
   ]
  },
  {
   "cell_type": "code",
   "execution_count": null,
   "metadata": {
    "collapsed": false
   },
   "outputs": [],
   "source": [
    "# joblib.dump(gs_clf1, 'Pickled_Files/X_num_Sub_Models/X_num_gs_clf1.pickle')"
   ]
  },
  {
   "cell_type": "markdown",
   "metadata": {
    "collapsed": true
   },
   "source": [
    "## Model 2 - Decision Tree Classifier"
   ]
  },
  {
   "cell_type": "code",
   "execution_count": 43,
   "metadata": {
    "collapsed": true
   },
   "outputs": [],
   "source": [
    "clf2 = DecisionTreeClassifier(max_depth=3,\n",
    "                              criterion='entropy',\n",
    "                              random_state=82\n",
    "                             )"
   ]
  },
  {
   "cell_type": "code",
   "execution_count": 44,
   "metadata": {
    "collapsed": false
   },
   "outputs": [],
   "source": [
    "X_num_clf2_dictionary = evaluate_model(clf2)"
   ]
  },
  {
   "cell_type": "code",
   "execution_count": 45,
   "metadata": {
    "collapsed": false
   },
   "outputs": [
    {
     "name": "stdout",
     "output_type": "stream",
     "text": [
      "Model Summary Report:\n",
      "\n",
      "DecisionTreeClassifier(class_weight=None, criterion='entropy', max_depth=3,\n",
      "            max_features=None, max_leaf_nodes=None,\n",
      "            min_impurity_split=1e-07, min_samples_leaf=1,\n",
      "            min_samples_split=2, min_weight_fraction_leaf=0.0,\n",
      "            presort=False, random_state=82, splitter='best')\n",
      "\n",
      "\n",
      "Classification Report:\n",
      "\n",
      "             precision    recall  f1-score   support\n",
      "\n",
      "          0       0.38      0.19      0.25       765\n",
      "          1       0.70      0.98      0.82      6813\n",
      "          2       0.00      0.00      0.00      2293\n",
      "\n",
      "avg / total       0.52      0.69      0.59      9871\n",
      "\n",
      "Accuracy on training set: 0.697931\n",
      "Accuracy on test set:     0.691622\n",
      "\n",
      "\n",
      "Log Loss on training set: 0.724542\n",
      "Log Loss on test set:     0.734891\n"
     ]
    },
    {
     "name": "stderr",
     "output_type": "stream",
     "text": [
      "/Users/nate_velarde/anaconda/lib/python2.7/site-packages/sklearn/metrics/classification.py:1113: UndefinedMetricWarning: Precision and F-score are ill-defined and being set to 0.0 in labels with no predicted samples.\n",
      "  'precision', 'predicted', average, warn_for)\n"
     ]
    }
   ],
   "source": [
    "model_summary(clf2, X_num_clf2_dictionary)"
   ]
  },
  {
   "cell_type": "markdown",
   "metadata": {},
   "source": [
    "### Tuning Model 2 via GridSearch"
   ]
  },
  {
   "cell_type": "code",
   "execution_count": 46,
   "metadata": {
    "collapsed": true
   },
   "outputs": [],
   "source": [
    "params = {'criterion': ['gini', 'entropy'],\n",
    "          'splitter': ['best', 'random'],\n",
    "          'max_depth': [1, 3, 5],\n",
    "          'min_samples_split': [2, 5],\n",
    "          'min_samples_leaf': [1, 2, 3]}\n",
    "\n",
    "gs_clf2 = GridSearchCV(clf2,\n",
    "                       params, \n",
    "                       n_jobs=-1,\n",
    "                       cv=10,\n",
    "                       verbose=1\n",
    "                      )"
   ]
  },
  {
   "cell_type": "code",
   "execution_count": 47,
   "metadata": {
    "collapsed": false
   },
   "outputs": [
    {
     "name": "stdout",
     "output_type": "stream",
     "text": [
      "Fitting 10 folds for each of 72 candidates, totalling 720 fits\n"
     ]
    },
    {
     "name": "stderr",
     "output_type": "stream",
     "text": [
      "[Parallel(n_jobs=-1)]: Done  64 tasks      | elapsed:    1.3s\n",
      "[Parallel(n_jobs=-1)]: Done 364 tasks      | elapsed:    9.1s\n",
      "[Parallel(n_jobs=-1)]: Done 720 out of 720 | elapsed:   17.9s finished\n"
     ]
    }
   ],
   "source": [
    "X_num_gs_clf2_dictionary = evaluate_model(gs_clf2)"
   ]
  },
  {
   "cell_type": "code",
   "execution_count": 48,
   "metadata": {
    "collapsed": false
   },
   "outputs": [
    {
     "name": "stdout",
     "output_type": "stream",
     "text": [
      "Model Summary Report:\n",
      "\n",
      "GridSearchCV(cv=10, error_score='raise',\n",
      "       estimator=DecisionTreeClassifier(class_weight=None, criterion='entropy', max_depth=3,\n",
      "            max_features=None, max_leaf_nodes=None,\n",
      "            min_impurity_split=1e-07, min_samples_leaf=1,\n",
      "            min_samples_split=2, min_weight_fraction_leaf=0.0,\n",
      "            presort=False, random_state=82, splitter='best'),\n",
      "       fit_params={}, iid=True, n_jobs=-1,\n",
      "       param_grid={'min_samples_split': [2, 5], 'splitter': ['best', 'random'], 'criterion': ['gini', 'entropy'], 'max_depth': [1, 3, 5], 'min_samples_leaf': [1, 2, 3]},\n",
      "       pre_dispatch='2*n_jobs', refit=True, return_train_score=True,\n",
      "       scoring=None, verbose=1)\n",
      "\n",
      "\n",
      "Classification Report:\n",
      "\n",
      "             precision    recall  f1-score   support\n",
      "\n",
      "          0       0.66      0.06      0.11       765\n",
      "          1       0.70      0.99      0.82      6813\n",
      "          2       0.40      0.02      0.03      2293\n",
      "\n",
      "avg / total       0.63      0.70      0.58      9871\n",
      "\n",
      "Accuracy on training set: 0.702920\n",
      "Accuracy on test set:     0.695573\n",
      "\n",
      "\n",
      "Log Loss on training set: 0.687858\n",
      "Log Loss on test set:     0.703443\n"
     ]
    }
   ],
   "source": [
    "model_summary(gs_clf2, X_num_gs_clf2_dictionary)"
   ]
  },
  {
   "cell_type": "code",
   "execution_count": 49,
   "metadata": {
    "collapsed": false
   },
   "outputs": [],
   "source": [
    "X_num_models['gs_clf2'] = {'model': gs_clf2.best_estimator_,\n",
    "                           'best_params': gs_clf2.best_params_,\n",
    "                           'score': gs_clf2.best_score_\n",
    "                          }"
   ]
  },
  {
   "cell_type": "code",
   "execution_count": 50,
   "metadata": {
    "collapsed": false
   },
   "outputs": [
    {
     "data": {
      "text/plain": [
       "{'best_params': {'criterion': 'gini',\n",
       "  'max_depth': 5,\n",
       "  'min_samples_leaf': 3,\n",
       "  'min_samples_split': 2,\n",
       "  'splitter': 'best'},\n",
       " 'model': DecisionTreeClassifier(class_weight=None, criterion='gini', max_depth=5,\n",
       "             max_features=None, max_leaf_nodes=None,\n",
       "             min_impurity_split=1e-07, min_samples_leaf=3,\n",
       "             min_samples_split=2, min_weight_fraction_leaf=0.0,\n",
       "             presort=False, random_state=82, splitter='best'),\n",
       " 'score': 0.70135001646361539}"
      ]
     },
     "execution_count": 50,
     "metadata": {},
     "output_type": "execute_result"
    }
   ],
   "source": [
    "X_num_models['gs_clf2']"
   ]
  },
  {
   "cell_type": "markdown",
   "metadata": {},
   "source": [
    "## Model 2: Extracting Feature Importance"
   ]
  },
  {
   "cell_type": "code",
   "execution_count": 51,
   "metadata": {
    "collapsed": false
   },
   "outputs": [
    {
     "data": {
      "text/plain": [
       "array([ 0.        ,  0.12810412,  0.53517459,  0.2066084 ,  0.0679425 ,\n",
       "        0.00421342,  0.00289627,  0.04945588,  0.        ,  0.        ,\n",
       "        0.        ,  0.00409835,  0.        ,  0.        ,  0.        ,\n",
       "        0.        ,  0.        ,  0.        ,  0.        ,  0.        ,\n",
       "        0.        ,  0.00150647])"
      ]
     },
     "execution_count": 51,
     "metadata": {},
     "output_type": "execute_result"
    }
   ],
   "source": [
    "gs_clf2.best_estimator_.feature_importances_"
   ]
  },
  {
   "cell_type": "code",
   "execution_count": 52,
   "metadata": {
    "collapsed": false
   },
   "outputs": [
    {
     "data": {
      "text/html": [
       "<div>\n",
       "<table border=\"1\" class=\"dataframe\">\n",
       "  <thead>\n",
       "    <tr style=\"text-align: right;\">\n",
       "      <th></th>\n",
       "      <th>Feature</th>\n",
       "      <th>Feature_Importance</th>\n",
       "    </tr>\n",
       "  </thead>\n",
       "  <tbody>\n",
       "    <tr>\n",
       "      <th>2</th>\n",
       "      <td>price</td>\n",
       "      <td>0.535175</td>\n",
       "    </tr>\n",
       "    <tr>\n",
       "      <th>3</th>\n",
       "      <td>num_photos</td>\n",
       "      <td>0.206608</td>\n",
       "    </tr>\n",
       "    <tr>\n",
       "      <th>1</th>\n",
       "      <td>bedrooms</td>\n",
       "      <td>0.128104</td>\n",
       "    </tr>\n",
       "    <tr>\n",
       "      <th>4</th>\n",
       "      <td>num_features</td>\n",
       "      <td>0.067942</td>\n",
       "    </tr>\n",
       "    <tr>\n",
       "      <th>7</th>\n",
       "      <td>longitude</td>\n",
       "      <td>0.049456</td>\n",
       "    </tr>\n",
       "    <tr>\n",
       "      <th>5</th>\n",
       "      <td>description_length</td>\n",
       "      <td>0.004213</td>\n",
       "    </tr>\n",
       "    <tr>\n",
       "      <th>11</th>\n",
       "      <td>manager_bin_4</td>\n",
       "      <td>0.004098</td>\n",
       "    </tr>\n",
       "    <tr>\n",
       "      <th>6</th>\n",
       "      <td>latitude</td>\n",
       "      <td>0.002896</td>\n",
       "    </tr>\n",
       "    <tr>\n",
       "      <th>21</th>\n",
       "      <td>LT_Medium_Proba</td>\n",
       "      <td>0.001506</td>\n",
       "    </tr>\n",
       "    <tr>\n",
       "      <th>9</th>\n",
       "      <td>manager_bin_2</td>\n",
       "      <td>0.000000</td>\n",
       "    </tr>\n",
       "    <tr>\n",
       "      <th>10</th>\n",
       "      <td>manager_bin_3</td>\n",
       "      <td>0.000000</td>\n",
       "    </tr>\n",
       "    <tr>\n",
       "      <th>8</th>\n",
       "      <td>manager_bin_1</td>\n",
       "      <td>0.000000</td>\n",
       "    </tr>\n",
       "    <tr>\n",
       "      <th>12</th>\n",
       "      <td>manager_bin_5</td>\n",
       "      <td>0.000000</td>\n",
       "    </tr>\n",
       "    <tr>\n",
       "      <th>13</th>\n",
       "      <td>month_bin_1</td>\n",
       "      <td>0.000000</td>\n",
       "    </tr>\n",
       "    <tr>\n",
       "      <th>14</th>\n",
       "      <td>month_bin_2</td>\n",
       "      <td>0.000000</td>\n",
       "    </tr>\n",
       "    <tr>\n",
       "      <th>15</th>\n",
       "      <td>month_bin_3</td>\n",
       "      <td>0.000000</td>\n",
       "    </tr>\n",
       "    <tr>\n",
       "      <th>16</th>\n",
       "      <td>ST_High_Proba</td>\n",
       "      <td>0.000000</td>\n",
       "    </tr>\n",
       "    <tr>\n",
       "      <th>17</th>\n",
       "      <td>ST_Low_Proba</td>\n",
       "      <td>0.000000</td>\n",
       "    </tr>\n",
       "    <tr>\n",
       "      <th>18</th>\n",
       "      <td>ST_Medium_Proba</td>\n",
       "      <td>0.000000</td>\n",
       "    </tr>\n",
       "    <tr>\n",
       "      <th>19</th>\n",
       "      <td>LT_High_Proba</td>\n",
       "      <td>0.000000</td>\n",
       "    </tr>\n",
       "    <tr>\n",
       "      <th>20</th>\n",
       "      <td>LT_Low_Proba</td>\n",
       "      <td>0.000000</td>\n",
       "    </tr>\n",
       "    <tr>\n",
       "      <th>0</th>\n",
       "      <td>bathrooms</td>\n",
       "      <td>0.000000</td>\n",
       "    </tr>\n",
       "  </tbody>\n",
       "</table>\n",
       "</div>"
      ],
      "text/plain": [
       "               Feature  Feature_Importance\n",
       "2                price            0.535175\n",
       "3           num_photos            0.206608\n",
       "1             bedrooms            0.128104\n",
       "4         num_features            0.067942\n",
       "7            longitude            0.049456\n",
       "5   description_length            0.004213\n",
       "11       manager_bin_4            0.004098\n",
       "6             latitude            0.002896\n",
       "21     LT_Medium_Proba            0.001506\n",
       "9        manager_bin_2            0.000000\n",
       "10       manager_bin_3            0.000000\n",
       "8        manager_bin_1            0.000000\n",
       "12       manager_bin_5            0.000000\n",
       "13         month_bin_1            0.000000\n",
       "14         month_bin_2            0.000000\n",
       "15         month_bin_3            0.000000\n",
       "16       ST_High_Proba            0.000000\n",
       "17        ST_Low_Proba            0.000000\n",
       "18     ST_Medium_Proba            0.000000\n",
       "19       LT_High_Proba            0.000000\n",
       "20        LT_Low_Proba            0.000000\n",
       "0            bathrooms            0.000000"
      ]
     },
     "execution_count": 52,
     "metadata": {},
     "output_type": "execute_result"
    }
   ],
   "source": [
    "model2_fi = pd.DataFrame({'Feature_Importance': gs_clf2.best_estimator_.feature_importances_,\n",
    "                          'Feature': X_num_features['Feature'].values\n",
    "                         })\n",
    "\n",
    "model2_fi.sort_values(by='Feature_Importance', ascending=False)"
   ]
  },
  {
   "cell_type": "code",
   "execution_count": 53,
   "metadata": {
    "collapsed": false
   },
   "outputs": [
    {
     "data": {
      "text/plain": [
       "<matplotlib.text.Text at 0x1163bdb90>"
      ]
     },
     "execution_count": 53,
     "metadata": {},
     "output_type": "execute_result"
    },
    {
     "data": {
      "image/png": "[encoded data removed]",
      "text/plain": [
       "<matplotlib.figure.Figure at 0x116e8a490>"
      ]
     },
     "metadata": {},
     "output_type": "display_data"
    }
   ],
   "source": [
    "feature_importance = gs_clf2.best_estimator_.feature_importances_\n",
    "\n",
    "feature_importance = 100.0 * (feature_importance / \n",
    "                              feature_importance.max())\n",
    "\n",
    "sorted_idx = np.argsort(feature_importance)\n",
    "pos = np.arange(sorted_idx.shape[0]) + .5\n",
    "pvals = feature_importance[sorted_idx]\n",
    "pcols = X.columns[sorted_idx]\n",
    "plt.figure(figsize=(8,12))\n",
    "plt.barh(pos, pvals, align='center')\n",
    "plt.yticks(pos, pcols)\n",
    "plt.xlabel('Relative Importance')\n",
    "plt.title('Feature Importance')"
   ]
  },
  {
   "cell_type": "markdown",
   "metadata": {},
   "source": [
    "**Interesting to see differences in feature selection between Logistic Regression and Decision Tree Classifier**"
   ]
  },
  {
   "cell_type": "code",
   "execution_count": null,
   "metadata": {
    "collapsed": false
   },
   "outputs": [],
   "source": [
    "# joblib.dump(gs_clf2, 'Pickled_Files/X_num_Sub_Models/X_num_gs_clf2.pickle')"
   ]
  },
  {
   "cell_type": "markdown",
   "metadata": {},
   "source": [
    "## Model 3 - Gradient Boosting Classifier"
   ]
  },
  {
   "cell_type": "code",
   "execution_count": 54,
   "metadata": {
    "collapsed": true
   },
   "outputs": [],
   "source": [
    "clf3 = GradientBoostingClassifier(max_depth=1,\n",
    "                                  learning_rate=0.01,\n",
    "                                  random_state=82\n",
    "                                 )"
   ]
  },
  {
   "cell_type": "code",
   "execution_count": 55,
   "metadata": {
    "collapsed": true
   },
   "outputs": [],
   "source": [
    "X_num_clf3_dictionary = evaluate_model(clf3)"
   ]
  },
  {
   "cell_type": "code",
   "execution_count": 56,
   "metadata": {
    "collapsed": false
   },
   "outputs": [
    {
     "name": "stdout",
     "output_type": "stream",
     "text": [
      "Model Summary Report:\n",
      "\n",
      "GradientBoostingClassifier(criterion='friedman_mse', init=None,\n",
      "              learning_rate=0.01, loss='deviance', max_depth=1,\n",
      "              max_features=None, max_leaf_nodes=None,\n",
      "              min_impurity_split=1e-07, min_samples_leaf=1,\n",
      "              min_samples_split=2, min_weight_fraction_leaf=0.0,\n",
      "              n_estimators=100, presort='auto', random_state=82,\n",
      "              subsample=1.0, verbose=0, warm_start=False)\n",
      "\n",
      "\n",
      "Classification Report:\n",
      "\n",
      "             precision    recall  f1-score   support\n",
      "\n",
      "          0       0.00      0.00      0.00       765\n",
      "          1       0.69      1.00      0.82      6813\n",
      "          2       0.00      0.00      0.00      2293\n",
      "\n",
      "avg / total       0.48      0.69      0.56      9871\n",
      "\n",
      "Accuracy on training set: 0.695803\n",
      "Accuracy on test set:     0.690204\n",
      "\n",
      "\n",
      "Log Loss on training set: 0.779264\n",
      "Log Loss on test set:     0.785398\n"
     ]
    }
   ],
   "source": [
    "model_summary(clf3, X_num_clf3_dictionary)"
   ]
  },
  {
   "cell_type": "markdown",
   "metadata": {},
   "source": [
    "### Tuning Model 3 via GridSearch"
   ]
  },
  {
   "cell_type": "code",
   "execution_count": 57,
   "metadata": {
    "collapsed": false
   },
   "outputs": [],
   "source": [
    "params = {'max_depth': [1, 3],\n",
    "          'learning_rate': [0.01, 0.10, 1.0]\n",
    "         }\n",
    "\n",
    "gs_clf3 = GridSearchCV(clf3,\n",
    "                       params, \n",
    "                       n_jobs=-1,\n",
    "                       cv=10,\n",
    "                       verbose=1\n",
    "                      )"
   ]
  },
  {
   "cell_type": "code",
   "execution_count": 58,
   "metadata": {
    "collapsed": false
   },
   "outputs": [
    {
     "name": "stdout",
     "output_type": "stream",
     "text": [
      "Fitting 10 folds for each of 6 candidates, totalling 60 fits\n"
     ]
    },
    {
     "name": "stderr",
     "output_type": "stream",
     "text": [
      "[Parallel(n_jobs=-1)]: Done  42 tasks      | elapsed:  2.2min\n",
      "[Parallel(n_jobs=-1)]: Done  60 out of  60 | elapsed:  3.1min finished\n"
     ]
    }
   ],
   "source": [
    "X_num_gs_clf3_dictionary = evaluate_model(gs_clf3)"
   ]
  },
  {
   "cell_type": "code",
   "execution_count": 59,
   "metadata": {
    "collapsed": false
   },
   "outputs": [
    {
     "name": "stdout",
     "output_type": "stream",
     "text": [
      "Model Summary Report:\n",
      "\n",
      "GridSearchCV(cv=10, error_score='raise',\n",
      "       estimator=GradientBoostingClassifier(criterion='friedman_mse', init=None,\n",
      "              learning_rate=0.01, loss='deviance', max_depth=1,\n",
      "              max_features=None, max_leaf_nodes=None,\n",
      "              min_impurity_split=1e-07, min_samples_leaf=1,\n",
      "              min_samples_split=2, min_weight_fraction_leaf=0.0,\n",
      "              n_estimators=100, presort='auto', random_state=82,\n",
      "              subsample=1.0, verbose=0, warm_start=False),\n",
      "       fit_params={}, iid=True, n_jobs=-1,\n",
      "       param_grid={'learning_rate': [0.01, 0.1, 1.0], 'max_depth': [1, 3]},\n",
      "       pre_dispatch='2*n_jobs', refit=True, return_train_score=True,\n",
      "       scoring=None, verbose=1)\n",
      "\n",
      "\n",
      "Classification Report:\n",
      "\n",
      "             precision    recall  f1-score   support\n",
      "\n",
      "          0       0.44      0.19      0.27       765\n",
      "          1       0.77      0.91      0.83      6813\n",
      "          2       0.44      0.30      0.36      2293\n",
      "\n",
      "avg / total       0.67      0.71      0.68      9871\n",
      "\n",
      "Accuracy on training set: 0.779767\n",
      "Accuracy on test set:     0.709857\n",
      "\n",
      "\n",
      "Log Loss on training set: 0.517467\n",
      "Log Loss on test set:     0.670741\n"
     ]
    }
   ],
   "source": [
    "model_summary(gs_clf3, X_num_gs_clf3_dictionary)"
   ]
  },
  {
   "cell_type": "code",
   "execution_count": 60,
   "metadata": {
    "collapsed": true
   },
   "outputs": [],
   "source": [
    "X_num_models['gs_clf3'] = {'model': gs_clf3.best_estimator_,\n",
    "                           'best_params': gs_clf3.best_params_,\n",
    "                           'score': gs_clf3.best_score_\n",
    "                          }"
   ]
  },
  {
   "cell_type": "code",
   "execution_count": 61,
   "metadata": {
    "collapsed": false
   },
   "outputs": [
    {
     "data": {
      "text/plain": [
       "{'best_params': {'learning_rate': 1.0, 'max_depth': 3},\n",
       " 'model': GradientBoostingClassifier(criterion='friedman_mse', init=None,\n",
       "               learning_rate=1.0, loss='deviance', max_depth=3,\n",
       "               max_features=None, max_leaf_nodes=None,\n",
       "               min_impurity_split=1e-07, min_samples_leaf=1,\n",
       "               min_samples_split=2, min_weight_fraction_leaf=0.0,\n",
       "               n_estimators=100, presort='auto', random_state=82,\n",
       "               subsample=1.0, verbose=0, warm_start=False),\n",
       " 'score': 0.72087839720371827}"
      ]
     },
     "execution_count": 61,
     "metadata": {},
     "output_type": "execute_result"
    }
   ],
   "source": [
    "X_num_models['gs_clf3']"
   ]
  },
  {
   "cell_type": "code",
   "execution_count": 62,
   "metadata": {
    "collapsed": false
   },
   "outputs": [],
   "source": [
    "# joblib.dump(gs_clf3, 'Pickled_Files/X_num_Sub_Models/X_num_gs_clf3.pickle')"
   ]
  },
  {
   "cell_type": "markdown",
   "metadata": {},
   "source": [
    "## Model 3: Extracting Feature Importance"
   ]
  },
  {
   "cell_type": "code",
   "execution_count": 63,
   "metadata": {
    "collapsed": false
   },
   "outputs": [
    {
     "data": {
      "text/plain": [
       "array([ 0.01673377,  0.03815517,  0.14965944,  0.03604815,  0.06710413,\n",
       "        0.0658447 ,  0.18435323,  0.15111559,  0.00612387,  0.01328568,\n",
       "        0.0140731 ,  0.00926343,  0.00666034,  0.00599515,  0.0053275 ,\n",
       "        0.00395147,  0.02584342,  0.01991927,  0.01944962,  0.06813245,\n",
       "        0.0484794 ,  0.04448112])"
      ]
     },
     "execution_count": 63,
     "metadata": {},
     "output_type": "execute_result"
    }
   ],
   "source": [
    "gs_clf3.best_estimator_.feature_importances_"
   ]
  },
  {
   "cell_type": "code",
   "execution_count": 64,
   "metadata": {
    "collapsed": false
   },
   "outputs": [
    {
     "data": {
      "text/html": [
       "<div>\n",
       "<table border=\"1\" class=\"dataframe\">\n",
       "  <thead>\n",
       "    <tr style=\"text-align: right;\">\n",
       "      <th></th>\n",
       "      <th>Feature</th>\n",
       "      <th>Feature_Importance</th>\n",
       "    </tr>\n",
       "  </thead>\n",
       "  <tbody>\n",
       "    <tr>\n",
       "      <th>6</th>\n",
       "      <td>latitude</td>\n",
       "      <td>0.184353</td>\n",
       "    </tr>\n",
       "    <tr>\n",
       "      <th>7</th>\n",
       "      <td>longitude</td>\n",
       "      <td>0.151116</td>\n",
       "    </tr>\n",
       "    <tr>\n",
       "      <th>2</th>\n",
       "      <td>price</td>\n",
       "      <td>0.149659</td>\n",
       "    </tr>\n",
       "    <tr>\n",
       "      <th>19</th>\n",
       "      <td>LT_High_Proba</td>\n",
       "      <td>0.068132</td>\n",
       "    </tr>\n",
       "    <tr>\n",
       "      <th>4</th>\n",
       "      <td>num_features</td>\n",
       "      <td>0.067104</td>\n",
       "    </tr>\n",
       "    <tr>\n",
       "      <th>5</th>\n",
       "      <td>description_length</td>\n",
       "      <td>0.065845</td>\n",
       "    </tr>\n",
       "    <tr>\n",
       "      <th>20</th>\n",
       "      <td>LT_Low_Proba</td>\n",
       "      <td>0.048479</td>\n",
       "    </tr>\n",
       "    <tr>\n",
       "      <th>21</th>\n",
       "      <td>LT_Medium_Proba</td>\n",
       "      <td>0.044481</td>\n",
       "    </tr>\n",
       "    <tr>\n",
       "      <th>1</th>\n",
       "      <td>bedrooms</td>\n",
       "      <td>0.038155</td>\n",
       "    </tr>\n",
       "    <tr>\n",
       "      <th>3</th>\n",
       "      <td>num_photos</td>\n",
       "      <td>0.036048</td>\n",
       "    </tr>\n",
       "    <tr>\n",
       "      <th>16</th>\n",
       "      <td>ST_High_Proba</td>\n",
       "      <td>0.025843</td>\n",
       "    </tr>\n",
       "    <tr>\n",
       "      <th>17</th>\n",
       "      <td>ST_Low_Proba</td>\n",
       "      <td>0.019919</td>\n",
       "    </tr>\n",
       "    <tr>\n",
       "      <th>18</th>\n",
       "      <td>ST_Medium_Proba</td>\n",
       "      <td>0.019450</td>\n",
       "    </tr>\n",
       "    <tr>\n",
       "      <th>0</th>\n",
       "      <td>bathrooms</td>\n",
       "      <td>0.016734</td>\n",
       "    </tr>\n",
       "    <tr>\n",
       "      <th>10</th>\n",
       "      <td>manager_bin_3</td>\n",
       "      <td>0.014073</td>\n",
       "    </tr>\n",
       "    <tr>\n",
       "      <th>9</th>\n",
       "      <td>manager_bin_2</td>\n",
       "      <td>0.013286</td>\n",
       "    </tr>\n",
       "    <tr>\n",
       "      <th>11</th>\n",
       "      <td>manager_bin_4</td>\n",
       "      <td>0.009263</td>\n",
       "    </tr>\n",
       "    <tr>\n",
       "      <th>12</th>\n",
       "      <td>manager_bin_5</td>\n",
       "      <td>0.006660</td>\n",
       "    </tr>\n",
       "    <tr>\n",
       "      <th>8</th>\n",
       "      <td>manager_bin_1</td>\n",
       "      <td>0.006124</td>\n",
       "    </tr>\n",
       "    <tr>\n",
       "      <th>13</th>\n",
       "      <td>month_bin_1</td>\n",
       "      <td>0.005995</td>\n",
       "    </tr>\n",
       "    <tr>\n",
       "      <th>14</th>\n",
       "      <td>month_bin_2</td>\n",
       "      <td>0.005328</td>\n",
       "    </tr>\n",
       "    <tr>\n",
       "      <th>15</th>\n",
       "      <td>month_bin_3</td>\n",
       "      <td>0.003951</td>\n",
       "    </tr>\n",
       "  </tbody>\n",
       "</table>\n",
       "</div>"
      ],
      "text/plain": [
       "               Feature  Feature_Importance\n",
       "6             latitude            0.184353\n",
       "7            longitude            0.151116\n",
       "2                price            0.149659\n",
       "19       LT_High_Proba            0.068132\n",
       "4         num_features            0.067104\n",
       "5   description_length            0.065845\n",
       "20        LT_Low_Proba            0.048479\n",
       "21     LT_Medium_Proba            0.044481\n",
       "1             bedrooms            0.038155\n",
       "3           num_photos            0.036048\n",
       "16       ST_High_Proba            0.025843\n",
       "17        ST_Low_Proba            0.019919\n",
       "18     ST_Medium_Proba            0.019450\n",
       "0            bathrooms            0.016734\n",
       "10       manager_bin_3            0.014073\n",
       "9        manager_bin_2            0.013286\n",
       "11       manager_bin_4            0.009263\n",
       "12       manager_bin_5            0.006660\n",
       "8        manager_bin_1            0.006124\n",
       "13         month_bin_1            0.005995\n",
       "14         month_bin_2            0.005328\n",
       "15         month_bin_3            0.003951"
      ]
     },
     "execution_count": 64,
     "metadata": {},
     "output_type": "execute_result"
    }
   ],
   "source": [
    "model3_fi = pd.DataFrame({'Feature_Importance': gs_clf3.best_estimator_.feature_importances_,\n",
    "                          'Feature': X_num_features['Feature'].values\n",
    "                         })\n",
    "\n",
    "model3_fi.sort_values(by='Feature_Importance', ascending=False)"
   ]
  },
  {
   "cell_type": "code",
   "execution_count": 65,
   "metadata": {
    "collapsed": false
   },
   "outputs": [
    {
     "data": {
      "text/plain": [
       "<matplotlib.text.Text at 0x11c7e7f50>"
      ]
     },
     "execution_count": 65,
     "metadata": {},
     "output_type": "execute_result"
    },
    {
     "data": {
      "image/png": "[encoded data removed]",
      "text/plain": [
       "<matplotlib.figure.Figure at 0x116e82a10>"
      ]
     },
     "metadata": {},
     "output_type": "display_data"
    }
   ],
   "source": [
    "feature_importance = gs_clf3.best_estimator_.feature_importances_\n",
    "\n",
    "feature_importance = 100.0 * (feature_importance / \n",
    "                              feature_importance.max())\n",
    "\n",
    "sorted_idx = np.argsort(feature_importance)\n",
    "pos = np.arange(sorted_idx.shape[0]) + .5\n",
    "pvals = feature_importance[sorted_idx]\n",
    "pcols = X.columns[sorted_idx]\n",
    "plt.figure(figsize=(8,12))\n",
    "plt.barh(pos, pvals, align='center')\n",
    "plt.yticks(pos, pcols)\n",
    "plt.xlabel('Relative Importance')\n",
    "plt.title('Feature Importance')"
   ]
  },
  {
   "cell_type": "markdown",
   "metadata": {},
   "source": [
    "## Majority Voting"
   ]
  },
  {
   "cell_type": "code",
   "execution_count": 66,
   "metadata": {
    "collapsed": false
   },
   "outputs": [
    {
     "name": "stdout",
     "output_type": "stream",
     "text": [
      "Accuracy: 0.6957 (+/- 0.0002) [Logistic Regression]\n",
      "Accuracy: 0.7014 (+/- 0.0017) [Decision Tree Classifier]\n",
      "Accuracy: 0.7209 (+/- 0.0048) [Gradient Boosting Classifier]\n",
      "Accuracy: 0.7030 (+/- 0.0025) [Majority Voting]\n"
     ]
    }
   ],
   "source": [
    "clf_labels = ['Logistic Regression', 'Decision Tree Classifier', 'Gradient Boosting Classifier']\n",
    "\n",
    "mv_clf = MajorityVoteClassifier(classifiers=[X_num_models['gs_clf1']['model'],\n",
    "                                             X_num_models['gs_clf2']['model'],\n",
    "                                             X_num_models['gs_clf3']['model']\n",
    "                                             ])\n",
    "\n",
    "clf_labels += ['Majority Voting']\n",
    "\n",
    "all_clf = [X_num_models['gs_clf1']['model'],\n",
    "            X_num_models['gs_clf2']['model'],\n",
    "            X_num_models['gs_clf3']['model'],\n",
    "            mv_clf\n",
    "          ]\n",
    "\n",
    "for clf, label in zip(all_clf, clf_labels):\n",
    "    scores = cross_val_score(estimator=clf,\n",
    "                             X=X_train,\n",
    "                             y=y_train,\n",
    "                             cv=10,\n",
    "                             scoring='accuracy')\n",
    "    \n",
    "    print(\"Accuracy: %0.4f (+/- %0.4f) [%s]\" % (scores.mean(), scores.std(), label))"
   ]
  },
  {
   "cell_type": "code",
   "execution_count": 67,
   "metadata": {
    "collapsed": false
   },
   "outputs": [
    {
     "name": "stdout",
     "output_type": "stream",
     "text": [
      "Negative Log Loss: -0.7650 (+/- 0.0009) [Logistic Regression]\n",
      "Negative Log Loss: -0.7008 (+/- 0.0109) [Decision Tree Classifier]\n",
      "Negative Log Loss: -0.6470 (+/- 0.0104) [Gradient Boosting Classifier]\n",
      "Negative Log Loss: -0.6600 (+/- 0.0043) [Majority Voting]\n"
     ]
    }
   ],
   "source": [
    "clf_labels = ['Logistic Regression', 'Decision Tree Classifier', 'Gradient Boosting Classifier']\n",
    "\n",
    "mv_clf = MajorityVoteClassifier(classifiers=[X_num_models['gs_clf1']['model'],\n",
    "                                             X_num_models['gs_clf2']['model'],\n",
    "                                             X_num_models['gs_clf3']['model']\n",
    "                                             ])\n",
    "\n",
    "clf_labels += ['Majority Voting']\n",
    "\n",
    "all_clf = [X_num_models['gs_clf1']['model'],\n",
    "            X_num_models['gs_clf2']['model'],\n",
    "            X_num_models['gs_clf3']['model'],\n",
    "            mv_clf\n",
    "          ]\n",
    "\n",
    "for clf, label in zip(all_clf, clf_labels):\n",
    "    scores = cross_val_score(estimator=clf,\n",
    "                             X=X_train,\n",
    "                             y=y_train,\n",
    "                             cv=10,\n",
    "                             scoring='neg_log_loss')\n",
    "    \n",
    "    print(\"Negative Log Loss: %0.4f (+/- %0.4f) [%s]\" % (scores.mean(), scores.std(), label))"
   ]
  },
  {
   "cell_type": "markdown",
   "metadata": {},
   "source": [
    "**MISC NOTES**"
   ]
  },
  {
   "cell_type": "markdown",
   "metadata": {},
   "source": [
    "**Can call the model, `X_num_models['gs_clf1']['model']` - for use in majority voting below**"
   ]
  },
  {
   "cell_type": "raw",
   "metadata": {
    "collapsed": false
   },
   "source": [
    "X_num_models['gs_clf1']['model'].predict_proba(X_test)"
   ]
  },
  {
   "cell_type": "markdown",
   "metadata": {},
   "source": [
    "**How to Load in a Pickled Model**"
   ]
  },
  {
   "cell_type": "raw",
   "metadata": {},
   "source": [
    "from_pkl_cls = joblib.load(\"tnc_model.pickle\")"
   ]
  }
 ],
 "metadata": {
  "anaconda-cloud": {},
  "kernelspec": {
   "display_name": "Python [conda root]",
   "language": "python",
   "name": "conda-root-py"
  },
  "language_info": {
   "codemirror_mode": {
    "name": "ipython",
    "version": 2
   },
   "file_extension": ".py",
   "mimetype": "text/x-python",
   "name": "python",
   "nbconvert_exporter": "python",
   "pygments_lexer": "ipython2",
   "version": "2.7.12"
  }
 },
 "nbformat": 4,
 "nbformat_minor": 1
}
