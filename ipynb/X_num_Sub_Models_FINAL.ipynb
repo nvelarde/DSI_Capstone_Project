{
 "cells": [
  {
   "cell_type": "markdown",
   "metadata": {},
   "source": [
    "# `X_num` Sub-Models"
   ]
  },
  {
   "cell_type": "markdown",
   "metadata": {},
   "source": [
    "### Importing Packages"
   ]
  },
  {
   "cell_type": "code",
   "execution_count": 1,
   "metadata": {
    "collapsed": true
   },
   "outputs": [],
   "source": [
    "from __future__ import print_function\n",
    "import numpy as np\n",
    "import pandas as pd\n",
    "import pickle\n",
    "\n",
    "import matplotlib.pyplot as plt\n",
    "import seaborn as sns\n",
    "\n",
    "%matplotlib inline\n",
    "\n",
    "from sklearn.externals import joblib\n",
    "from sklearn.preprocessing import label_binarize\n",
    "pd.set_option(\"display.max_columns\", 2000)\n",
    "pd.set_option(\"display.max_rows\", 2000)"
   ]
  },
  {
   "cell_type": "markdown",
   "metadata": {},
   "source": [
    "### Importing `sklearn` packages"
   ]
  },
  {
   "cell_type": "code",
   "execution_count": 2,
   "metadata": {
    "collapsed": false
   },
   "outputs": [],
   "source": [
    "from sklearn.model_selection import train_test_split\n",
    "from sklearn.linear_model import LogisticRegression\n",
    "from sklearn.tree import DecisionTreeClassifier\n",
    "from sklearn.naive_bayes import MultinomialNB\n",
    "from sklearn.naive_bayes import GaussianNB\n",
    "from sklearn.neighbors import KNeighborsClassifier\n",
    "from sklearn.ensemble import GradientBoostingClassifier\n",
    "from sklearn.ensemble import RandomForestClassifier\n",
    "from sklearn.model_selection import GridSearchCV\n",
    "from sklearn.pipeline import Pipeline\n",
    "from sklearn.model_selection import cross_val_score\n",
    "from sklearn.metrics import accuracy_score, precision_score, recall_score, confusion_matrix, classification_report\n",
    "from sklearn.metrics import log_loss"
   ]
  },
  {
   "cell_type": "markdown",
   "metadata": {},
   "source": [
    "# Loading the data"
   ]
  },
  {
   "cell_type": "markdown",
   "metadata": {},
   "source": [
    "## Loading Files\n",
    "\n",
    "- X = X_num\n",
    "- X_train = X_num_train\n",
    "- X_test = X_num_test\n",
    "- y\n",
    "- y_train\n",
    "- y_test"
   ]
  },
  {
   "cell_type": "code",
   "execution_count": 3,
   "metadata": {
    "collapsed": true
   },
   "outputs": [],
   "source": [
    "X = pd.read_pickle('Pickled_Files/X_num.pickle')"
   ]
  },
  {
   "cell_type": "code",
   "execution_count": 4,
   "metadata": {
    "collapsed": false
   },
   "outputs": [
    {
     "data": {
      "text/html": [
       "<div>\n",
       "<table border=\"1\" class=\"dataframe\">\n",
       "  <thead>\n",
       "    <tr style=\"text-align: right;\">\n",
       "      <th></th>\n",
       "      <th>bathrooms</th>\n",
       "      <th>bedrooms</th>\n",
       "      <th>price</th>\n",
       "      <th>num_photos</th>\n",
       "      <th>num_features</th>\n",
       "      <th>description_length</th>\n",
       "      <th>latitude</th>\n",
       "      <th>longitude</th>\n",
       "      <th>manager_bin_1</th>\n",
       "      <th>manager_bin_2</th>\n",
       "      <th>manager_bin_3</th>\n",
       "      <th>manager_bin_4</th>\n",
       "      <th>manager_bin_5</th>\n",
       "      <th>month_bin_1</th>\n",
       "      <th>month_bin_2</th>\n",
       "      <th>month_bin_3</th>\n",
       "    </tr>\n",
       "  </thead>\n",
       "  <tbody>\n",
       "    <tr>\n",
       "      <th>0</th>\n",
       "      <td>1.5</td>\n",
       "      <td>3</td>\n",
       "      <td>3000.0</td>\n",
       "      <td>5</td>\n",
       "      <td>0</td>\n",
       "      <td>95</td>\n",
       "      <td>40.7145</td>\n",
       "      <td>-73.9425</td>\n",
       "      <td>0.0</td>\n",
       "      <td>1.0</td>\n",
       "      <td>0.0</td>\n",
       "      <td>0.0</td>\n",
       "      <td>0.0</td>\n",
       "      <td>0.0</td>\n",
       "      <td>0.0</td>\n",
       "      <td>1.0</td>\n",
       "    </tr>\n",
       "    <tr>\n",
       "      <th>1</th>\n",
       "      <td>1.0</td>\n",
       "      <td>1</td>\n",
       "      <td>2250.0</td>\n",
       "      <td>5</td>\n",
       "      <td>1</td>\n",
       "      <td>63</td>\n",
       "      <td>40.7216</td>\n",
       "      <td>-73.9423</td>\n",
       "      <td>0.0</td>\n",
       "      <td>1.0</td>\n",
       "      <td>0.0</td>\n",
       "      <td>0.0</td>\n",
       "      <td>0.0</td>\n",
       "      <td>0.0</td>\n",
       "      <td>1.0</td>\n",
       "      <td>0.0</td>\n",
       "    </tr>\n",
       "  </tbody>\n",
       "</table>\n",
       "</div>"
      ],
      "text/plain": [
       "   bathrooms  bedrooms   price  num_photos  num_features  description_length  \\\n",
       "0        1.5         3  3000.0           5             0                  95   \n",
       "1        1.0         1  2250.0           5             1                  63   \n",
       "\n",
       "   latitude  longitude  manager_bin_1  manager_bin_2  manager_bin_3  \\\n",
       "0   40.7145   -73.9425            0.0            1.0            0.0   \n",
       "1   40.7216   -73.9423            0.0            1.0            0.0   \n",
       "\n",
       "   manager_bin_4  manager_bin_5  month_bin_1  month_bin_2  month_bin_3  \n",
       "0            0.0            0.0          0.0          0.0          1.0  \n",
       "1            0.0            0.0          0.0          1.0          0.0  "
      ]
     },
     "execution_count": 4,
     "metadata": {},
     "output_type": "execute_result"
    }
   ],
   "source": [
    "X.head(2)"
   ]
  },
  {
   "cell_type": "code",
   "execution_count": 5,
   "metadata": {
    "collapsed": false
   },
   "outputs": [
    {
     "data": {
      "text/plain": [
       "(49352, 16)"
      ]
     },
     "execution_count": 5,
     "metadata": {},
     "output_type": "execute_result"
    }
   ],
   "source": [
    "X.shape"
   ]
  },
  {
   "cell_type": "code",
   "execution_count": 6,
   "metadata": {
    "collapsed": true
   },
   "outputs": [],
   "source": [
    "X_train = pd.read_pickle('Pickled_Files/X_num_train.pickle')"
   ]
  },
  {
   "cell_type": "code",
   "execution_count": 7,
   "metadata": {
    "collapsed": false
   },
   "outputs": [
    {
     "data": {
      "text/html": [
       "<div>\n",
       "<table border=\"1\" class=\"dataframe\">\n",
       "  <thead>\n",
       "    <tr style=\"text-align: right;\">\n",
       "      <th></th>\n",
       "      <th>bathrooms</th>\n",
       "      <th>bedrooms</th>\n",
       "      <th>price</th>\n",
       "      <th>num_photos</th>\n",
       "      <th>num_features</th>\n",
       "      <th>description_length</th>\n",
       "      <th>latitude</th>\n",
       "      <th>longitude</th>\n",
       "      <th>manager_bin_1</th>\n",
       "      <th>manager_bin_2</th>\n",
       "      <th>manager_bin_3</th>\n",
       "      <th>manager_bin_4</th>\n",
       "      <th>manager_bin_5</th>\n",
       "      <th>month_bin_1</th>\n",
       "      <th>month_bin_2</th>\n",
       "      <th>month_bin_3</th>\n",
       "    </tr>\n",
       "  </thead>\n",
       "  <tbody>\n",
       "    <tr>\n",
       "      <th>28154</th>\n",
       "      <td>-0.422954</td>\n",
       "      <td>-0.486604</td>\n",
       "      <td>-0.436072</td>\n",
       "      <td>1.585803</td>\n",
       "      <td>0.412179</td>\n",
       "      <td>-1.254871</td>\n",
       "      <td>40.7473</td>\n",
       "      <td>-73.9736</td>\n",
       "      <td>1.0</td>\n",
       "      <td>0.0</td>\n",
       "      <td>0.0</td>\n",
       "      <td>0.0</td>\n",
       "      <td>0.0</td>\n",
       "      <td>0.0</td>\n",
       "      <td>1.0</td>\n",
       "      <td>0.0</td>\n",
       "    </tr>\n",
       "    <tr>\n",
       "      <th>6321</th>\n",
       "      <td>-0.422954</td>\n",
       "      <td>0.409878</td>\n",
       "      <td>-0.759282</td>\n",
       "      <td>-0.144227</td>\n",
       "      <td>0.670406</td>\n",
       "      <td>1.912565</td>\n",
       "      <td>40.8376</td>\n",
       "      <td>-73.9443</td>\n",
       "      <td>1.0</td>\n",
       "      <td>0.0</td>\n",
       "      <td>0.0</td>\n",
       "      <td>0.0</td>\n",
       "      <td>0.0</td>\n",
       "      <td>1.0</td>\n",
       "      <td>0.0</td>\n",
       "      <td>0.0</td>\n",
       "    </tr>\n",
       "  </tbody>\n",
       "</table>\n",
       "</div>"
      ],
      "text/plain": [
       "       bathrooms  bedrooms     price  num_photos  num_features  \\\n",
       "28154  -0.422954 -0.486604 -0.436072    1.585803      0.412179   \n",
       "6321   -0.422954  0.409878 -0.759282   -0.144227      0.670406   \n",
       "\n",
       "       description_length  latitude  longitude  manager_bin_1  manager_bin_2  \\\n",
       "28154           -1.254871   40.7473   -73.9736            1.0            0.0   \n",
       "6321             1.912565   40.8376   -73.9443            1.0            0.0   \n",
       "\n",
       "       manager_bin_3  manager_bin_4  manager_bin_5  month_bin_1  month_bin_2  \\\n",
       "28154            0.0            0.0            0.0          0.0          1.0   \n",
       "6321             0.0            0.0            0.0          1.0          0.0   \n",
       "\n",
       "       month_bin_3  \n",
       "28154          0.0  \n",
       "6321           0.0  "
      ]
     },
     "execution_count": 7,
     "metadata": {},
     "output_type": "execute_result"
    }
   ],
   "source": [
    "X_train.head(2)"
   ]
  },
  {
   "cell_type": "code",
   "execution_count": 8,
   "metadata": {
    "collapsed": false
   },
   "outputs": [
    {
     "data": {
      "text/plain": [
       "(39481, 16)"
      ]
     },
     "execution_count": 8,
     "metadata": {},
     "output_type": "execute_result"
    }
   ],
   "source": [
    "X_train.shape"
   ]
  },
  {
   "cell_type": "code",
   "execution_count": 9,
   "metadata": {
    "collapsed": true
   },
   "outputs": [],
   "source": [
    "X_test = pd.read_pickle('Pickled_Files/X_num_test.pickle')"
   ]
  },
  {
   "cell_type": "code",
   "execution_count": 10,
   "metadata": {
    "collapsed": false
   },
   "outputs": [
    {
     "data": {
      "text/html": [
       "<div>\n",
       "<table border=\"1\" class=\"dataframe\">\n",
       "  <thead>\n",
       "    <tr style=\"text-align: right;\">\n",
       "      <th></th>\n",
       "      <th>bathrooms</th>\n",
       "      <th>bedrooms</th>\n",
       "      <th>price</th>\n",
       "      <th>num_photos</th>\n",
       "      <th>num_features</th>\n",
       "      <th>description_length</th>\n",
       "      <th>latitude</th>\n",
       "      <th>longitude</th>\n",
       "      <th>manager_bin_1</th>\n",
       "      <th>manager_bin_2</th>\n",
       "      <th>manager_bin_3</th>\n",
       "      <th>manager_bin_4</th>\n",
       "      <th>manager_bin_5</th>\n",
       "      <th>month_bin_1</th>\n",
       "      <th>month_bin_2</th>\n",
       "      <th>month_bin_3</th>\n",
       "    </tr>\n",
       "  </thead>\n",
       "  <tbody>\n",
       "    <tr>\n",
       "      <th>25981</th>\n",
       "      <td>-0.424202</td>\n",
       "      <td>0.415873</td>\n",
       "      <td>-0.360558</td>\n",
       "      <td>2.278481</td>\n",
       "      <td>-0.118749</td>\n",
       "      <td>1.549312</td>\n",
       "      <td>40.7968</td>\n",
       "      <td>-73.9486</td>\n",
       "      <td>1.0</td>\n",
       "      <td>0.0</td>\n",
       "      <td>0.0</td>\n",
       "      <td>0.0</td>\n",
       "      <td>0.0</td>\n",
       "      <td>0.0</td>\n",
       "      <td>0.0</td>\n",
       "      <td>1.0</td>\n",
       "    </tr>\n",
       "    <tr>\n",
       "      <th>48891</th>\n",
       "      <td>-0.424202</td>\n",
       "      <td>0.415873</td>\n",
       "      <td>-0.170920</td>\n",
       "      <td>0.200289</td>\n",
       "      <td>0.397740</td>\n",
       "      <td>0.799301</td>\n",
       "      <td>40.7447</td>\n",
       "      <td>-73.9741</td>\n",
       "      <td>1.0</td>\n",
       "      <td>0.0</td>\n",
       "      <td>0.0</td>\n",
       "      <td>0.0</td>\n",
       "      <td>0.0</td>\n",
       "      <td>0.0</td>\n",
       "      <td>1.0</td>\n",
       "      <td>0.0</td>\n",
       "    </tr>\n",
       "  </tbody>\n",
       "</table>\n",
       "</div>"
      ],
      "text/plain": [
       "       bathrooms  bedrooms     price  num_photos  num_features  \\\n",
       "25981  -0.424202  0.415873 -0.360558    2.278481     -0.118749   \n",
       "48891  -0.424202  0.415873 -0.170920    0.200289      0.397740   \n",
       "\n",
       "       description_length  latitude  longitude  manager_bin_1  manager_bin_2  \\\n",
       "25981            1.549312   40.7968   -73.9486            1.0            0.0   \n",
       "48891            0.799301   40.7447   -73.9741            1.0            0.0   \n",
       "\n",
       "       manager_bin_3  manager_bin_4  manager_bin_5  month_bin_1  month_bin_2  \\\n",
       "25981            0.0            0.0            0.0          0.0          0.0   \n",
       "48891            0.0            0.0            0.0          0.0          1.0   \n",
       "\n",
       "       month_bin_3  \n",
       "25981          1.0  \n",
       "48891          0.0  "
      ]
     },
     "execution_count": 10,
     "metadata": {},
     "output_type": "execute_result"
    }
   ],
   "source": [
    "X_test.head(2)"
   ]
  },
  {
   "cell_type": "code",
   "execution_count": 11,
   "metadata": {
    "collapsed": false
   },
   "outputs": [
    {
     "data": {
      "text/plain": [
       "(9871, 16)"
      ]
     },
     "execution_count": 11,
     "metadata": {},
     "output_type": "execute_result"
    }
   ],
   "source": [
    "X_test.shape"
   ]
  },
  {
   "cell_type": "code",
   "execution_count": 12,
   "metadata": {
    "collapsed": true
   },
   "outputs": [],
   "source": [
    "y = np.load('Pickled_Files/y.npy')"
   ]
  },
  {
   "cell_type": "code",
   "execution_count": 13,
   "metadata": {
    "collapsed": false
   },
   "outputs": [
    {
     "data": {
      "text/plain": [
       "(array([2, 1, 1, ..., 2, 1, 2]), (49352,))"
      ]
     },
     "execution_count": 13,
     "metadata": {},
     "output_type": "execute_result"
    }
   ],
   "source": [
    "y, y.shape"
   ]
  },
  {
   "cell_type": "code",
   "execution_count": 14,
   "metadata": {
    "collapsed": false
   },
   "outputs": [],
   "source": [
    "y_train = np.load('Pickled_Files/y_train.npy')"
   ]
  },
  {
   "cell_type": "code",
   "execution_count": 15,
   "metadata": {
    "collapsed": false
   },
   "outputs": [
    {
     "data": {
      "text/plain": [
       "(array([1, 1, 2, ..., 0, 1, 1]), (39481,))"
      ]
     },
     "execution_count": 15,
     "metadata": {},
     "output_type": "execute_result"
    }
   ],
   "source": [
    "y_train, y_train.shape"
   ]
  },
  {
   "cell_type": "code",
   "execution_count": 16,
   "metadata": {
    "collapsed": true
   },
   "outputs": [],
   "source": [
    "y_test = np.load('Pickled_Files/y_test.npy')"
   ]
  },
  {
   "cell_type": "code",
   "execution_count": 17,
   "metadata": {
    "collapsed": false
   },
   "outputs": [
    {
     "data": {
      "text/plain": [
       "(array([1, 1, 1, ..., 2, 2, 1]), (9871,))"
      ]
     },
     "execution_count": 17,
     "metadata": {},
     "output_type": "execute_result"
    }
   ],
   "source": [
    "y_test, y_test.shape"
   ]
  },
  {
   "cell_type": "markdown",
   "metadata": {
    "collapsed": true
   },
   "source": [
    "### Ensemble Helper Functions"
   ]
  },
  {
   "cell_type": "code",
   "execution_count": 18,
   "metadata": {
    "collapsed": false
   },
   "outputs": [],
   "source": [
    "def evaluate_model(model):\n",
    "    \n",
    "    model.fit(X_train, y_train)\n",
    "    \n",
    "    train_score = model.score(X_train, y_train)\n",
    "    test_score = model.score(X_test, y_test)\n",
    "    \n",
    "    y_hat = model.predict(X_train)\n",
    "    y_pred = model.predict(X_test)\n",
    "    \n",
    "    y_hat_proba = model.predict_proba(X_train)\n",
    "    y_pred_proba = model.predict_proba(X_test)\n",
    "    \n",
    "    return {'model': model,\n",
    "            'X': X,\n",
    "            'X_test': X_test,\n",
    "            'X_train': X_train,\n",
    "            'y': y,\n",
    "            'y_test': y_test,\n",
    "            'y_train': y_train,\n",
    "            'y_hat': y_hat,\n",
    "            'y_pred': y_pred,\n",
    "            'y_hat_proba': y_hat_proba,\n",
    "            'y_pred_proba': y_pred_proba,\n",
    "            'train_score': train_score,\n",
    "            'test_score': test_score\n",
    "           }"
   ]
  },
  {
   "cell_type": "code",
   "execution_count": 19,
   "metadata": {
    "collapsed": false
   },
   "outputs": [],
   "source": [
    "def model_summary(model, data_dictionary):\n",
    "    \n",
    "    class_rpt = classification_report(data_dictionary['y_test'], data_dictionary['y_pred'])\n",
    "    log_loss_score_train = log_loss(data_dictionary['y_train'], data_dictionary['y_hat_proba'])\n",
    "    log_loss_score_test = log_loss(data_dictionary['y_test'], data_dictionary['y_pred_proba'])\n",
    "    \n",
    "    print (\"Model Summary Report:\\n\")\n",
    "    print (model)\n",
    "    print (\"\\n\")\n",
    "    print (\"Classification Report:\\n\")\n",
    "    print (class_rpt)\n",
    "    print (\"Accuracy on training set: {:4f}\".format(model.score(data_dictionary['X_train'], \n",
    "                                                                data_dictionary['y_train'])))\n",
    "    \n",
    "    print (\"Accuracy on test set:     {:4f}\".format(model.score(data_dictionary['X_test'], \n",
    "                                                            data_dictionary['y_test'])))\n",
    "    print (\"\\n\")\n",
    "    print (\"Log Loss on training set: {:4f}\".format(log_loss_score_train))\n",
    "    print (\"Log Loss on test set:     {:4f}\".format(log_loss_score_test))"
   ]
  },
  {
   "cell_type": "code",
   "execution_count": 20,
   "metadata": {
    "collapsed": true
   },
   "outputs": [],
   "source": [
    "from sklearn.base import BaseEstimator\n",
    "from sklearn.base import ClassifierMixin\n",
    "from sklearn.preprocessing import LabelEncoder\n",
    "from sklearn.externals import six\n",
    "from sklearn.base import clone\n",
    "from sklearn.pipeline import _name_estimators\n",
    "import numpy as np\n",
    "import operator\n",
    "\n",
    "\n",
    "class MajorityVoteClassifier(BaseEstimator, \n",
    "                             ClassifierMixin):\n",
    "    \"\"\" A majority vote ensemble classifier\n",
    "\n",
    "    Parameters\n",
    "    ----------\n",
    "    classifiers : array-like, shape = [n_classifiers]\n",
    "      Different classifiers for the ensemble\n",
    "\n",
    "    vote : str, {'classlabel', 'probability'} (default='label')\n",
    "      If 'classlabel' the prediction is based on the argmax of\n",
    "        class labels. Else if 'probability', the argmax of\n",
    "        the sum of probabilities is used to predict the class label\n",
    "        (recommended for calibrated classifiers).\n",
    "\n",
    "    weights : array-like, shape = [n_classifiers], optional (default=None)\n",
    "      If a list of `int` or `float` values are provided, the classifiers\n",
    "      are weighted by importance; Uses uniform weights if `weights=None`.\n",
    "\n",
    "    \"\"\"\n",
    "    def __init__(self, classifiers, vote='classlabel', weights=None):\n",
    "\n",
    "        self.classifiers = classifiers\n",
    "        self.named_classifiers = {key: value for key, value\n",
    "                                  in _name_estimators(classifiers)}\n",
    "        self.vote = vote\n",
    "        self.weights = weights\n",
    "\n",
    "    def fit(self, X, y):\n",
    "        \"\"\" Fit classifiers.\n",
    "\n",
    "        Parameters\n",
    "        ----------\n",
    "        X : {array-like, sparse matrix}, shape = [n_samples, n_features]\n",
    "            Matrix of training samples.\n",
    "\n",
    "        y : array-like, shape = [n_samples]\n",
    "            Vector of target class labels.\n",
    "\n",
    "        Returns\n",
    "        -------\n",
    "        self : object\n",
    "\n",
    "        \"\"\"\n",
    "        if self.vote not in ('probability', 'classlabel'):\n",
    "            raise ValueError(\"vote must be 'probability' or 'classlabel'\"\n",
    "                             \"; got (vote=%r)\"\n",
    "                             % self.vote)\n",
    "\n",
    "        if self.weights and len(self.weights) != len(self.classifiers):\n",
    "            raise ValueError('Number of classifiers and weights must be equal'\n",
    "                             '; got %d weights, %d classifiers'\n",
    "                             % (len(self.weights), len(self.classifiers)))\n",
    "\n",
    "        # Use LabelEncoder to ensure class labels start with 0, which\n",
    "        # is important for np.argmax call in self.predict\n",
    "        self.lablenc_ = LabelEncoder()\n",
    "        self.lablenc_.fit(y)\n",
    "        self.classes_ = self.lablenc_.classes_\n",
    "        self.classifiers_ = []\n",
    "        for clf in self.classifiers:\n",
    "            fitted_clf = clone(clf).fit(X, self.lablenc_.transform(y))\n",
    "            self.classifiers_.append(fitted_clf)\n",
    "        return self\n",
    "\n",
    "    def predict(self, X):\n",
    "        \"\"\" Predict class labels for X.\n",
    "\n",
    "        Parameters\n",
    "        ----------\n",
    "        X : {array-like, sparse matrix}, shape = [n_samples, n_features]\n",
    "            Matrix of training samples.\n",
    "\n",
    "        Returns\n",
    "        ----------\n",
    "        maj_vote : array-like, shape = [n_samples]\n",
    "            Predicted class labels.\n",
    "            \n",
    "        \"\"\"\n",
    "        if self.vote == 'probability':\n",
    "            maj_vote = np.argmax(self.predict_proba(X), axis=1)\n",
    "        else:  # 'classlabel' vote\n",
    "\n",
    "            #  Collect results from clf.predict calls\n",
    "            predictions = np.asarray([clf.predict(X)\n",
    "                                      for clf in self.classifiers_]).T\n",
    "\n",
    "            maj_vote = np.apply_along_axis(\n",
    "                                      lambda x:\n",
    "                                      np.argmax(np.bincount(x,\n",
    "                                                weights=self.weights)),\n",
    "                                      axis=1,\n",
    "                                      arr=predictions)\n",
    "        maj_vote = self.lablenc_.inverse_transform(maj_vote)\n",
    "        return maj_vote\n",
    "\n",
    "    def predict_proba(self, X):\n",
    "        \"\"\" Predict class probabilities for X.\n",
    "\n",
    "        Parameters\n",
    "        ----------\n",
    "        X : {array-like, sparse matrix}, shape = [n_samples, n_features]\n",
    "            Training vectors, where n_samples is the number of samples and\n",
    "            n_features is the number of features.\n",
    "\n",
    "        Returns\n",
    "        ----------\n",
    "        avg_proba : array-like, shape = [n_samples, n_classes]\n",
    "            Weighted average probability for each class per sample.\n",
    "\n",
    "        \"\"\"\n",
    "        probas = np.asarray([clf.predict_proba(X)\n",
    "                             for clf in self.classifiers_])\n",
    "        avg_proba = np.average(probas, axis=0, weights=self.weights)\n",
    "        return avg_proba\n",
    "\n",
    "    def get_params(self, deep=True):\n",
    "        \"\"\" Get classifier parameter names for GridSearch\"\"\"\n",
    "        if not deep:\n",
    "            return super(MajorityVoteClassifier, self).get_params(deep=False)\n",
    "        else:\n",
    "            out = self.named_classifiers.copy()\n",
    "            for name, step in six.iteritems(self.named_classifiers):\n",
    "                for key, value in six.iteritems(step.get_params(deep=True)):\n",
    "                    out['%s__%s' % (name, key)] = value\n",
    "            return out"
   ]
  },
  {
   "cell_type": "markdown",
   "metadata": {},
   "source": [
    "Initializing a global dictionary to store the various models for later retrieval"
   ]
  },
  {
   "cell_type": "code",
   "execution_count": 21,
   "metadata": {
    "collapsed": true
   },
   "outputs": [],
   "source": [
    "X_num_models = {}"
   ]
  },
  {
   "cell_type": "markdown",
   "metadata": {},
   "source": [
    "## `X_num` Sub-Models"
   ]
  },
  {
   "cell_type": "markdown",
   "metadata": {},
   "source": [
    "### Model 1 - Logistic Regression w/Lasso"
   ]
  },
  {
   "cell_type": "code",
   "execution_count": 22,
   "metadata": {
    "collapsed": true
   },
   "outputs": [],
   "source": [
    "clf1 = LogisticRegression(penalty='l2',\n",
    "                          C=0.001,\n",
    "                          n_jobs=-1,\n",
    "                          random_state=82\n",
    "                         )"
   ]
  },
  {
   "cell_type": "code",
   "execution_count": 23,
   "metadata": {
    "collapsed": false
   },
   "outputs": [],
   "source": [
    "X_num_clf1_dictionary = evaluate_model(clf1)"
   ]
  },
  {
   "cell_type": "code",
   "execution_count": 24,
   "metadata": {
    "collapsed": false
   },
   "outputs": [
    {
     "name": "stdout",
     "output_type": "stream",
     "text": [
      "Model Summary Report:\n",
      "\n",
      "LogisticRegression(C=0.001, class_weight=None, dual=False, fit_intercept=True,\n",
      "          intercept_scaling=1, max_iter=100, multi_class='ovr', n_jobs=-1,\n",
      "          penalty='l2', random_state=82, solver='liblinear', tol=0.0001,\n",
      "          verbose=0, warm_start=False)\n",
      "\n",
      "\n",
      "Classification Report:\n",
      "\n",
      "             precision    recall  f1-score   support\n",
      "\n",
      "          0       0.00      0.00      0.00       775\n",
      "          1       0.70      0.99      0.82      6834\n",
      "          2       0.34      0.02      0.03      2262\n",
      "\n",
      "avg / total       0.56      0.69      0.57      9871\n",
      "\n",
      "Accuracy on training set: 0.694283\n",
      "Accuracy on test set:     0.691521\n",
      "\n",
      "\n",
      "Log Loss on training set: 0.727144\n",
      "Log Loss on test set:     0.731976\n"
     ]
    }
   ],
   "source": [
    "model_summary(clf1, X_num_clf1_dictionary)"
   ]
  },
  {
   "cell_type": "markdown",
   "metadata": {},
   "source": [
    "### Tuning Model 1 via GridSearch"
   ]
  },
  {
   "cell_type": "code",
   "execution_count": 25,
   "metadata": {
    "collapsed": false
   },
   "outputs": [],
   "source": [
    "params = {'C': [0.0001, 0.001, 0.01, 0.1, 1.0, 10.0, 100.0],\n",
    "          'penalty': ['l2']\n",
    "         }\n",
    "\n",
    "gs_clf1 = GridSearchCV(clf1,\n",
    "                       params, \n",
    "                       n_jobs=-1,\n",
    "                       cv=10,\n",
    "                       verbose=1\n",
    "                      )"
   ]
  },
  {
   "cell_type": "code",
   "execution_count": 26,
   "metadata": {
    "collapsed": false
   },
   "outputs": [
    {
     "name": "stdout",
     "output_type": "stream",
     "text": [
      "Fitting 10 folds for each of 7 candidates, totalling 70 fits\n"
     ]
    },
    {
     "name": "stderr",
     "output_type": "stream",
     "text": [
      "[Parallel(n_jobs=-1)]: Done  42 tasks      | elapsed:    6.6s\n",
      "[Parallel(n_jobs=-1)]: Done  70 out of  70 | elapsed:   14.3s finished\n"
     ]
    }
   ],
   "source": [
    "X_num_gs_clf1_dictionary = evaluate_model(gs_clf1)"
   ]
  },
  {
   "cell_type": "code",
   "execution_count": 27,
   "metadata": {
    "collapsed": false
   },
   "outputs": [
    {
     "name": "stdout",
     "output_type": "stream",
     "text": [
      "Model Summary Report:\n",
      "\n",
      "GridSearchCV(cv=10, error_score='raise',\n",
      "       estimator=LogisticRegression(C=0.001, class_weight=None, dual=False, fit_intercept=True,\n",
      "          intercept_scaling=1, max_iter=100, multi_class='ovr', n_jobs=-1,\n",
      "          penalty='l2', random_state=82, solver='liblinear', tol=0.0001,\n",
      "          verbose=0, warm_start=False),\n",
      "       fit_params={}, iid=True, n_jobs=-1,\n",
      "       param_grid={'penalty': ['l2'], 'C': [0.0001, 0.001, 0.01, 0.1, 1.0, 10.0, 100.0]},\n",
      "       pre_dispatch='2*n_jobs', refit=True, return_train_score=True,\n",
      "       scoring=None, verbose=1)\n",
      "\n",
      "\n",
      "Classification Report:\n",
      "\n",
      "             precision    recall  f1-score   support\n",
      "\n",
      "          0       0.00      0.00      0.00       775\n",
      "          1       0.69      1.00      0.82      6834\n",
      "          2       0.00      0.00      0.00      2262\n",
      "\n",
      "avg / total       0.48      0.69      0.57      9871\n",
      "\n",
      "Accuracy on training set: 0.695144\n",
      "Accuracy on test set:     0.692230\n",
      "\n",
      "\n",
      "Log Loss on training set: 0.763923\n",
      "Log Loss on test set:     0.768808\n"
     ]
    },
    {
     "name": "stderr",
     "output_type": "stream",
     "text": [
      "/Users/nate_velarde/anaconda/lib/python2.7/site-packages/sklearn/metrics/classification.py:1113: UndefinedMetricWarning: Precision and F-score are ill-defined and being set to 0.0 in labels with no predicted samples.\n",
      "  'precision', 'predicted', average, warn_for)\n"
     ]
    }
   ],
   "source": [
    "model_summary(gs_clf1, X_num_gs_clf1_dictionary)"
   ]
  },
  {
   "cell_type": "code",
   "execution_count": 28,
   "metadata": {
    "collapsed": true
   },
   "outputs": [],
   "source": [
    "X_num_models['gs_clf1'] = {'model': gs_clf1.best_estimator_,\n",
    "                           'best_params': gs_clf1.best_params_,\n",
    "                           'score': gs_clf1.best_score_\n",
    "                          }"
   ]
  },
  {
   "cell_type": "code",
   "execution_count": 29,
   "metadata": {
    "collapsed": false
   },
   "outputs": [
    {
     "data": {
      "text/plain": [
       "{'best_params': {'C': 0.0001, 'penalty': 'l2'},\n",
       " 'model': LogisticRegression(C=0.0001, class_weight=None, dual=False,\n",
       "           fit_intercept=True, intercept_scaling=1, max_iter=100,\n",
       "           multi_class='ovr', n_jobs=-1, penalty='l2', random_state=82,\n",
       "           solver='liblinear', tol=0.0001, verbose=0, warm_start=False),\n",
       " 'score': 0.69514449988602112}"
      ]
     },
     "execution_count": 29,
     "metadata": {},
     "output_type": "execute_result"
    }
   ],
   "source": [
    "X_num_models['gs_clf1']"
   ]
  },
  {
   "cell_type": "markdown",
   "metadata": {},
   "source": [
    "### Extracting Important Features"
   ]
  },
  {
   "cell_type": "code",
   "execution_count": 30,
   "metadata": {
    "collapsed": false
   },
   "outputs": [
    {
     "data": {
      "text/html": [
       "<div>\n",
       "<table border=\"1\" class=\"dataframe\">\n",
       "  <thead>\n",
       "    <tr style=\"text-align: right;\">\n",
       "      <th></th>\n",
       "      <th>Feature</th>\n",
       "    </tr>\n",
       "  </thead>\n",
       "  <tbody>\n",
       "    <tr>\n",
       "      <th>0</th>\n",
       "      <td>bathrooms</td>\n",
       "    </tr>\n",
       "    <tr>\n",
       "      <th>1</th>\n",
       "      <td>bedrooms</td>\n",
       "    </tr>\n",
       "    <tr>\n",
       "      <th>2</th>\n",
       "      <td>price</td>\n",
       "    </tr>\n",
       "    <tr>\n",
       "      <th>3</th>\n",
       "      <td>num_photos</td>\n",
       "    </tr>\n",
       "    <tr>\n",
       "      <th>4</th>\n",
       "      <td>num_features</td>\n",
       "    </tr>\n",
       "    <tr>\n",
       "      <th>5</th>\n",
       "      <td>description_length</td>\n",
       "    </tr>\n",
       "    <tr>\n",
       "      <th>6</th>\n",
       "      <td>latitude</td>\n",
       "    </tr>\n",
       "    <tr>\n",
       "      <th>7</th>\n",
       "      <td>longitude</td>\n",
       "    </tr>\n",
       "    <tr>\n",
       "      <th>8</th>\n",
       "      <td>manager_bin_1</td>\n",
       "    </tr>\n",
       "    <tr>\n",
       "      <th>9</th>\n",
       "      <td>manager_bin_2</td>\n",
       "    </tr>\n",
       "    <tr>\n",
       "      <th>10</th>\n",
       "      <td>manager_bin_3</td>\n",
       "    </tr>\n",
       "    <tr>\n",
       "      <th>11</th>\n",
       "      <td>manager_bin_4</td>\n",
       "    </tr>\n",
       "    <tr>\n",
       "      <th>12</th>\n",
       "      <td>manager_bin_5</td>\n",
       "    </tr>\n",
       "    <tr>\n",
       "      <th>13</th>\n",
       "      <td>month_bin_1</td>\n",
       "    </tr>\n",
       "    <tr>\n",
       "      <th>14</th>\n",
       "      <td>month_bin_2</td>\n",
       "    </tr>\n",
       "    <tr>\n",
       "      <th>15</th>\n",
       "      <td>month_bin_3</td>\n",
       "    </tr>\n",
       "  </tbody>\n",
       "</table>\n",
       "</div>"
      ],
      "text/plain": [
       "               Feature\n",
       "0            bathrooms\n",
       "1             bedrooms\n",
       "2                price\n",
       "3           num_photos\n",
       "4         num_features\n",
       "5   description_length\n",
       "6             latitude\n",
       "7            longitude\n",
       "8        manager_bin_1\n",
       "9        manager_bin_2\n",
       "10       manager_bin_3\n",
       "11       manager_bin_4\n",
       "12       manager_bin_5\n",
       "13         month_bin_1\n",
       "14         month_bin_2\n",
       "15         month_bin_3"
      ]
     },
     "execution_count": 30,
     "metadata": {},
     "output_type": "execute_result"
    }
   ],
   "source": [
    "X_num_features = pd.DataFrame(X.columns.tolist(), columns=[\"Feature\"])\n",
    "X_num_features"
   ]
  },
  {
   "cell_type": "code",
   "execution_count": 31,
   "metadata": {
    "collapsed": false
   },
   "outputs": [
    {
     "data": {
      "text/plain": [
       "array([[-0.03401295,  0.01305567, -0.12314121,  0.02540443, -0.01554341,\n",
       "         0.01000465, -0.01394578,  0.0258831 ,  0.00409298,  0.01372112,\n",
       "         0.00049419,  0.00034657, -0.01941762,  0.01203872,  0.00042568,\n",
       "        -0.01322716],\n",
       "       [ 0.05051203, -0.08717825,  0.23897486, -0.06492948, -0.0511896 ,\n",
       "        -0.07214659,  0.00571749, -0.00800477,  0.02993973, -0.04891621,\n",
       "        -0.0136993 , -0.01047713,  0.04355815, -0.01870796,  0.00264195,\n",
       "         0.01647125],\n",
       "       [-0.04119491,  0.06796215, -0.15279572,  0.05028571,  0.062809  ,\n",
       "         0.06986472, -0.00815486,  0.01198973, -0.03378621,  0.03776591,\n",
       "         0.01362862,  0.01038244, -0.02847825,  0.008659  , -0.00323618,\n",
       "        -0.00591031]])"
      ]
     },
     "execution_count": 31,
     "metadata": {},
     "output_type": "execute_result"
    }
   ],
   "source": [
    "gs_clf1.best_estimator_.coef_"
   ]
  },
  {
   "cell_type": "code",
   "execution_count": 32,
   "metadata": {
    "collapsed": false
   },
   "outputs": [
    {
     "data": {
      "text/plain": [
       "(3, 16)"
      ]
     },
     "execution_count": 32,
     "metadata": {},
     "output_type": "execute_result"
    }
   ],
   "source": [
    "gs_clf1.best_estimator_.coef_.shape"
   ]
  },
  {
   "cell_type": "code",
   "execution_count": 33,
   "metadata": {
    "collapsed": false
   },
   "outputs": [
    {
     "data": {
      "text/html": [
       "<div>\n",
       "<table border=\"1\" class=\"dataframe\">\n",
       "  <thead>\n",
       "    <tr style=\"text-align: right;\">\n",
       "      <th></th>\n",
       "      <th>Feature</th>\n",
       "      <th>coef_high</th>\n",
       "      <th>coef_low</th>\n",
       "      <th>coef_medium</th>\n",
       "    </tr>\n",
       "  </thead>\n",
       "  <tbody>\n",
       "    <tr>\n",
       "      <th>0</th>\n",
       "      <td>bathrooms</td>\n",
       "      <td>-0.034013</td>\n",
       "      <td>0.050512</td>\n",
       "      <td>-0.041195</td>\n",
       "    </tr>\n",
       "    <tr>\n",
       "      <th>1</th>\n",
       "      <td>bedrooms</td>\n",
       "      <td>0.013056</td>\n",
       "      <td>-0.087178</td>\n",
       "      <td>0.067962</td>\n",
       "    </tr>\n",
       "    <tr>\n",
       "      <th>2</th>\n",
       "      <td>price</td>\n",
       "      <td>-0.123141</td>\n",
       "      <td>0.238975</td>\n",
       "      <td>-0.152796</td>\n",
       "    </tr>\n",
       "    <tr>\n",
       "      <th>3</th>\n",
       "      <td>num_photos</td>\n",
       "      <td>0.025404</td>\n",
       "      <td>-0.064929</td>\n",
       "      <td>0.050286</td>\n",
       "    </tr>\n",
       "    <tr>\n",
       "      <th>4</th>\n",
       "      <td>num_features</td>\n",
       "      <td>-0.015543</td>\n",
       "      <td>-0.051190</td>\n",
       "      <td>0.062809</td>\n",
       "    </tr>\n",
       "    <tr>\n",
       "      <th>5</th>\n",
       "      <td>description_length</td>\n",
       "      <td>0.010005</td>\n",
       "      <td>-0.072147</td>\n",
       "      <td>0.069865</td>\n",
       "    </tr>\n",
       "    <tr>\n",
       "      <th>6</th>\n",
       "      <td>latitude</td>\n",
       "      <td>-0.013946</td>\n",
       "      <td>0.005717</td>\n",
       "      <td>-0.008155</td>\n",
       "    </tr>\n",
       "    <tr>\n",
       "      <th>7</th>\n",
       "      <td>longitude</td>\n",
       "      <td>0.025883</td>\n",
       "      <td>-0.008005</td>\n",
       "      <td>0.011990</td>\n",
       "    </tr>\n",
       "    <tr>\n",
       "      <th>8</th>\n",
       "      <td>manager_bin_1</td>\n",
       "      <td>0.004093</td>\n",
       "      <td>0.029940</td>\n",
       "      <td>-0.033786</td>\n",
       "    </tr>\n",
       "    <tr>\n",
       "      <th>9</th>\n",
       "      <td>manager_bin_2</td>\n",
       "      <td>0.013721</td>\n",
       "      <td>-0.048916</td>\n",
       "      <td>0.037766</td>\n",
       "    </tr>\n",
       "    <tr>\n",
       "      <th>10</th>\n",
       "      <td>manager_bin_3</td>\n",
       "      <td>0.000494</td>\n",
       "      <td>-0.013699</td>\n",
       "      <td>0.013629</td>\n",
       "    </tr>\n",
       "    <tr>\n",
       "      <th>11</th>\n",
       "      <td>manager_bin_4</td>\n",
       "      <td>0.000347</td>\n",
       "      <td>-0.010477</td>\n",
       "      <td>0.010382</td>\n",
       "    </tr>\n",
       "    <tr>\n",
       "      <th>12</th>\n",
       "      <td>manager_bin_5</td>\n",
       "      <td>-0.019418</td>\n",
       "      <td>0.043558</td>\n",
       "      <td>-0.028478</td>\n",
       "    </tr>\n",
       "    <tr>\n",
       "      <th>13</th>\n",
       "      <td>month_bin_1</td>\n",
       "      <td>0.012039</td>\n",
       "      <td>-0.018708</td>\n",
       "      <td>0.008659</td>\n",
       "    </tr>\n",
       "    <tr>\n",
       "      <th>14</th>\n",
       "      <td>month_bin_2</td>\n",
       "      <td>0.000426</td>\n",
       "      <td>0.002642</td>\n",
       "      <td>-0.003236</td>\n",
       "    </tr>\n",
       "    <tr>\n",
       "      <th>15</th>\n",
       "      <td>month_bin_3</td>\n",
       "      <td>-0.013227</td>\n",
       "      <td>0.016471</td>\n",
       "      <td>-0.005910</td>\n",
       "    </tr>\n",
       "  </tbody>\n",
       "</table>\n",
       "</div>"
      ],
      "text/plain": [
       "               Feature  coef_high  coef_low  coef_medium\n",
       "0            bathrooms  -0.034013  0.050512    -0.041195\n",
       "1             bedrooms   0.013056 -0.087178     0.067962\n",
       "2                price  -0.123141  0.238975    -0.152796\n",
       "3           num_photos   0.025404 -0.064929     0.050286\n",
       "4         num_features  -0.015543 -0.051190     0.062809\n",
       "5   description_length   0.010005 -0.072147     0.069865\n",
       "6             latitude  -0.013946  0.005717    -0.008155\n",
       "7            longitude   0.025883 -0.008005     0.011990\n",
       "8        manager_bin_1   0.004093  0.029940    -0.033786\n",
       "9        manager_bin_2   0.013721 -0.048916     0.037766\n",
       "10       manager_bin_3   0.000494 -0.013699     0.013629\n",
       "11       manager_bin_4   0.000347 -0.010477     0.010382\n",
       "12       manager_bin_5  -0.019418  0.043558    -0.028478\n",
       "13         month_bin_1   0.012039 -0.018708     0.008659\n",
       "14         month_bin_2   0.000426  0.002642    -0.003236\n",
       "15         month_bin_3  -0.013227  0.016471    -0.005910"
      ]
     },
     "execution_count": 33,
     "metadata": {},
     "output_type": "execute_result"
    }
   ],
   "source": [
    "log_reg_gs_features = pd.DataFrame({'coef_low': gs_clf1.best_estimator_.coef_[1],\n",
    "                                    'coef_medium': gs_clf1.best_estimator_.coef_[2],\n",
    "                                    'coef_high': gs_clf1.best_estimator_.coef_[0],\n",
    "                                    'Feature': X_num_features['Feature'].values\n",
    "                                   })\n",
    "\n",
    "log_reg_gs_features"
   ]
  },
  {
   "cell_type": "code",
   "execution_count": 34,
   "metadata": {
    "collapsed": false
   },
   "outputs": [
    {
     "data": {
      "text/html": [
       "<div>\n",
       "<table border=\"1\" class=\"dataframe\">\n",
       "  <thead>\n",
       "    <tr style=\"text-align: right;\">\n",
       "      <th></th>\n",
       "      <th>Feature</th>\n",
       "      <th>coef_high</th>\n",
       "      <th>coef_low</th>\n",
       "      <th>coef_medium</th>\n",
       "      <th>high_abs_coef</th>\n",
       "      <th>low_abs_coef</th>\n",
       "      <th>med_abs_coef</th>\n",
       "    </tr>\n",
       "  </thead>\n",
       "  <tbody>\n",
       "    <tr>\n",
       "      <th>2</th>\n",
       "      <td>price</td>\n",
       "      <td>-0.123141</td>\n",
       "      <td>0.238975</td>\n",
       "      <td>-0.152796</td>\n",
       "      <td>0.123141</td>\n",
       "      <td>0.238975</td>\n",
       "      <td>0.152796</td>\n",
       "    </tr>\n",
       "    <tr>\n",
       "      <th>0</th>\n",
       "      <td>bathrooms</td>\n",
       "      <td>-0.034013</td>\n",
       "      <td>0.050512</td>\n",
       "      <td>-0.041195</td>\n",
       "      <td>0.034013</td>\n",
       "      <td>0.050512</td>\n",
       "      <td>0.041195</td>\n",
       "    </tr>\n",
       "    <tr>\n",
       "      <th>7</th>\n",
       "      <td>longitude</td>\n",
       "      <td>0.025883</td>\n",
       "      <td>-0.008005</td>\n",
       "      <td>0.011990</td>\n",
       "      <td>0.025883</td>\n",
       "      <td>0.008005</td>\n",
       "      <td>0.011990</td>\n",
       "    </tr>\n",
       "    <tr>\n",
       "      <th>3</th>\n",
       "      <td>num_photos</td>\n",
       "      <td>0.025404</td>\n",
       "      <td>-0.064929</td>\n",
       "      <td>0.050286</td>\n",
       "      <td>0.025404</td>\n",
       "      <td>0.064929</td>\n",
       "      <td>0.050286</td>\n",
       "    </tr>\n",
       "    <tr>\n",
       "      <th>12</th>\n",
       "      <td>manager_bin_5</td>\n",
       "      <td>-0.019418</td>\n",
       "      <td>0.043558</td>\n",
       "      <td>-0.028478</td>\n",
       "      <td>0.019418</td>\n",
       "      <td>0.043558</td>\n",
       "      <td>0.028478</td>\n",
       "    </tr>\n",
       "    <tr>\n",
       "      <th>4</th>\n",
       "      <td>num_features</td>\n",
       "      <td>-0.015543</td>\n",
       "      <td>-0.051190</td>\n",
       "      <td>0.062809</td>\n",
       "      <td>0.015543</td>\n",
       "      <td>0.051190</td>\n",
       "      <td>0.062809</td>\n",
       "    </tr>\n",
       "    <tr>\n",
       "      <th>6</th>\n",
       "      <td>latitude</td>\n",
       "      <td>-0.013946</td>\n",
       "      <td>0.005717</td>\n",
       "      <td>-0.008155</td>\n",
       "      <td>0.013946</td>\n",
       "      <td>0.005717</td>\n",
       "      <td>0.008155</td>\n",
       "    </tr>\n",
       "    <tr>\n",
       "      <th>9</th>\n",
       "      <td>manager_bin_2</td>\n",
       "      <td>0.013721</td>\n",
       "      <td>-0.048916</td>\n",
       "      <td>0.037766</td>\n",
       "      <td>0.013721</td>\n",
       "      <td>0.048916</td>\n",
       "      <td>0.037766</td>\n",
       "    </tr>\n",
       "    <tr>\n",
       "      <th>15</th>\n",
       "      <td>month_bin_3</td>\n",
       "      <td>-0.013227</td>\n",
       "      <td>0.016471</td>\n",
       "      <td>-0.005910</td>\n",
       "      <td>0.013227</td>\n",
       "      <td>0.016471</td>\n",
       "      <td>0.005910</td>\n",
       "    </tr>\n",
       "    <tr>\n",
       "      <th>1</th>\n",
       "      <td>bedrooms</td>\n",
       "      <td>0.013056</td>\n",
       "      <td>-0.087178</td>\n",
       "      <td>0.067962</td>\n",
       "      <td>0.013056</td>\n",
       "      <td>0.087178</td>\n",
       "      <td>0.067962</td>\n",
       "    </tr>\n",
       "    <tr>\n",
       "      <th>13</th>\n",
       "      <td>month_bin_1</td>\n",
       "      <td>0.012039</td>\n",
       "      <td>-0.018708</td>\n",
       "      <td>0.008659</td>\n",
       "      <td>0.012039</td>\n",
       "      <td>0.018708</td>\n",
       "      <td>0.008659</td>\n",
       "    </tr>\n",
       "    <tr>\n",
       "      <th>5</th>\n",
       "      <td>description_length</td>\n",
       "      <td>0.010005</td>\n",
       "      <td>-0.072147</td>\n",
       "      <td>0.069865</td>\n",
       "      <td>0.010005</td>\n",
       "      <td>0.072147</td>\n",
       "      <td>0.069865</td>\n",
       "    </tr>\n",
       "    <tr>\n",
       "      <th>8</th>\n",
       "      <td>manager_bin_1</td>\n",
       "      <td>0.004093</td>\n",
       "      <td>0.029940</td>\n",
       "      <td>-0.033786</td>\n",
       "      <td>0.004093</td>\n",
       "      <td>0.029940</td>\n",
       "      <td>0.033786</td>\n",
       "    </tr>\n",
       "    <tr>\n",
       "      <th>10</th>\n",
       "      <td>manager_bin_3</td>\n",
       "      <td>0.000494</td>\n",
       "      <td>-0.013699</td>\n",
       "      <td>0.013629</td>\n",
       "      <td>0.000494</td>\n",
       "      <td>0.013699</td>\n",
       "      <td>0.013629</td>\n",
       "    </tr>\n",
       "    <tr>\n",
       "      <th>14</th>\n",
       "      <td>month_bin_2</td>\n",
       "      <td>0.000426</td>\n",
       "      <td>0.002642</td>\n",
       "      <td>-0.003236</td>\n",
       "      <td>0.000426</td>\n",
       "      <td>0.002642</td>\n",
       "      <td>0.003236</td>\n",
       "    </tr>\n",
       "    <tr>\n",
       "      <th>11</th>\n",
       "      <td>manager_bin_4</td>\n",
       "      <td>0.000347</td>\n",
       "      <td>-0.010477</td>\n",
       "      <td>0.010382</td>\n",
       "      <td>0.000347</td>\n",
       "      <td>0.010477</td>\n",
       "      <td>0.010382</td>\n",
       "    </tr>\n",
       "  </tbody>\n",
       "</table>\n",
       "</div>"
      ],
      "text/plain": [
       "               Feature  coef_high  coef_low  coef_medium  high_abs_coef  \\\n",
       "2                price  -0.123141  0.238975    -0.152796       0.123141   \n",
       "0            bathrooms  -0.034013  0.050512    -0.041195       0.034013   \n",
       "7            longitude   0.025883 -0.008005     0.011990       0.025883   \n",
       "3           num_photos   0.025404 -0.064929     0.050286       0.025404   \n",
       "12       manager_bin_5  -0.019418  0.043558    -0.028478       0.019418   \n",
       "4         num_features  -0.015543 -0.051190     0.062809       0.015543   \n",
       "6             latitude  -0.013946  0.005717    -0.008155       0.013946   \n",
       "9        manager_bin_2   0.013721 -0.048916     0.037766       0.013721   \n",
       "15         month_bin_3  -0.013227  0.016471    -0.005910       0.013227   \n",
       "1             bedrooms   0.013056 -0.087178     0.067962       0.013056   \n",
       "13         month_bin_1   0.012039 -0.018708     0.008659       0.012039   \n",
       "5   description_length   0.010005 -0.072147     0.069865       0.010005   \n",
       "8        manager_bin_1   0.004093  0.029940    -0.033786       0.004093   \n",
       "10       manager_bin_3   0.000494 -0.013699     0.013629       0.000494   \n",
       "14         month_bin_2   0.000426  0.002642    -0.003236       0.000426   \n",
       "11       manager_bin_4   0.000347 -0.010477     0.010382       0.000347   \n",
       "\n",
       "    low_abs_coef  med_abs_coef  \n",
       "2       0.238975      0.152796  \n",
       "0       0.050512      0.041195  \n",
       "7       0.008005      0.011990  \n",
       "3       0.064929      0.050286  \n",
       "12      0.043558      0.028478  \n",
       "4       0.051190      0.062809  \n",
       "6       0.005717      0.008155  \n",
       "9       0.048916      0.037766  \n",
       "15      0.016471      0.005910  \n",
       "1       0.087178      0.067962  \n",
       "13      0.018708      0.008659  \n",
       "5       0.072147      0.069865  \n",
       "8       0.029940      0.033786  \n",
       "10      0.013699      0.013629  \n",
       "14      0.002642      0.003236  \n",
       "11      0.010477      0.010382  "
      ]
     },
     "execution_count": 34,
     "metadata": {},
     "output_type": "execute_result"
    }
   ],
   "source": [
    "log_reg_gs_features['high_abs_coef'] = log_reg_gs_features['coef_high'].apply(lambda x: abs(x))\n",
    "log_reg_gs_features['low_abs_coef'] = log_reg_gs_features['coef_low'].apply(lambda x: abs(x))\n",
    "log_reg_gs_features['med_abs_coef'] = log_reg_gs_features['coef_medium'].apply(lambda x: abs(x))\n",
    "\n",
    "log_reg_gs_features.sort_values(by='high_abs_coef', ascending=False)"
   ]
  },
  {
   "cell_type": "code",
   "execution_count": 35,
   "metadata": {
    "collapsed": false
   },
   "outputs": [],
   "source": [
    "# joblib.dump(gs_clf1, 'Pickled_Files/X_num_Sub_Models/X_num_gs_clf1.pickle')"
   ]
  },
  {
   "cell_type": "markdown",
   "metadata": {
    "collapsed": true
   },
   "source": [
    "## Model 2 - Decision Tree Classifier"
   ]
  },
  {
   "cell_type": "code",
   "execution_count": 36,
   "metadata": {
    "collapsed": true
   },
   "outputs": [],
   "source": [
    "clf2 = DecisionTreeClassifier(max_depth=3,\n",
    "                              criterion='entropy',\n",
    "                              random_state=82\n",
    "                             )"
   ]
  },
  {
   "cell_type": "code",
   "execution_count": 37,
   "metadata": {
    "collapsed": false
   },
   "outputs": [],
   "source": [
    "X_num_clf2_dictionary = evaluate_model(clf2)"
   ]
  },
  {
   "cell_type": "code",
   "execution_count": 38,
   "metadata": {
    "collapsed": false
   },
   "outputs": [
    {
     "name": "stdout",
     "output_type": "stream",
     "text": [
      "Model Summary Report:\n",
      "\n",
      "DecisionTreeClassifier(class_weight=None, criterion='entropy', max_depth=3,\n",
      "            max_features=None, max_leaf_nodes=None,\n",
      "            min_impurity_split=1e-07, min_samples_leaf=1,\n",
      "            min_samples_split=2, min_weight_fraction_leaf=0.0,\n",
      "            presort=False, random_state=82, splitter='best')\n",
      "\n",
      "\n",
      "Classification Report:\n",
      "\n",
      "             precision    recall  f1-score   support\n",
      "\n",
      "          0       0.35      0.14      0.20       775\n",
      "          1       0.70      0.98      0.82      6834\n",
      "          2       0.00      0.00      0.00      2262\n",
      "\n",
      "avg / total       0.51      0.69      0.58      9871\n",
      "\n",
      "Accuracy on training set: 0.699805\n",
      "Accuracy on test set:     0.692432\n",
      "\n",
      "\n",
      "Log Loss on training set: 0.729781\n",
      "Log Loss on test set:     0.743597\n"
     ]
    }
   ],
   "source": [
    "model_summary(clf2, X_num_clf2_dictionary)"
   ]
  },
  {
   "cell_type": "markdown",
   "metadata": {},
   "source": [
    "### Tuning Model 2 via GridSearch"
   ]
  },
  {
   "cell_type": "code",
   "execution_count": 39,
   "metadata": {
    "collapsed": true
   },
   "outputs": [],
   "source": [
    "params = {'criterion': ['gini', 'entropy'],\n",
    "          'splitter': ['best', 'random'],\n",
    "          'max_depth': [None, 3, 5],\n",
    "          'min_samples_split': [2, 5],\n",
    "          'min_samples_leaf': [1, 2, 3]}\n",
    "\n",
    "gs_clf2 = GridSearchCV(clf2,\n",
    "                       params, \n",
    "                       n_jobs=-1,\n",
    "                       cv=10,\n",
    "                       verbose=1\n",
    "                      )"
   ]
  },
  {
   "cell_type": "code",
   "execution_count": 40,
   "metadata": {
    "collapsed": false
   },
   "outputs": [
    {
     "name": "stdout",
     "output_type": "stream",
     "text": [
      "Fitting 10 folds for each of 72 candidates, totalling 720 fits\n"
     ]
    },
    {
     "name": "stderr",
     "output_type": "stream",
     "text": [
      "[Parallel(n_jobs=-1)]: Done  42 tasks      | elapsed:    4.0s\n",
      "[Parallel(n_jobs=-1)]: Done 242 tasks      | elapsed:   13.5s\n",
      "[Parallel(n_jobs=-1)]: Done 720 out of 720 | elapsed:   34.0s finished\n"
     ]
    }
   ],
   "source": [
    "X_num_gs_clf2_dictionary = evaluate_model(gs_clf2)"
   ]
  },
  {
   "cell_type": "code",
   "execution_count": 41,
   "metadata": {
    "collapsed": false
   },
   "outputs": [
    {
     "name": "stdout",
     "output_type": "stream",
     "text": [
      "Model Summary Report:\n",
      "\n",
      "GridSearchCV(cv=10, error_score='raise',\n",
      "       estimator=DecisionTreeClassifier(class_weight=None, criterion='entropy', max_depth=3,\n",
      "            max_features=None, max_leaf_nodes=None,\n",
      "            min_impurity_split=1e-07, min_samples_leaf=1,\n",
      "            min_samples_split=2, min_weight_fraction_leaf=0.0,\n",
      "            presort=False, random_state=82, splitter='best'),\n",
      "       fit_params={}, iid=True, n_jobs=-1,\n",
      "       param_grid={'min_samples_split': [2, 5], 'splitter': ['best', 'random'], 'criterion': ['gini', 'entropy'], 'max_depth': [None, 3, 5], 'min_samples_leaf': [1, 2, 3]},\n",
      "       pre_dispatch='2*n_jobs', refit=True, return_train_score=True,\n",
      "       scoring=None, verbose=1)\n",
      "\n",
      "\n",
      "Classification Report:\n",
      "\n",
      "             precision    recall  f1-score   support\n",
      "\n",
      "          0       0.44      0.11      0.18       775\n",
      "          1       0.71      0.98      0.82      6834\n",
      "          2       0.41      0.04      0.08      2262\n",
      "\n",
      "avg / total       0.62      0.70      0.60      9871\n",
      "\n",
      "Accuracy on training set: 0.705504\n",
      "Accuracy on test set:     0.697599\n",
      "\n",
      "\n",
      "Log Loss on training set: 0.691737\n",
      "Log Loss on test set:     0.733696\n"
     ]
    }
   ],
   "source": [
    "model_summary(gs_clf2, X_num_gs_clf2_dictionary)"
   ]
  },
  {
   "cell_type": "code",
   "execution_count": 42,
   "metadata": {
    "collapsed": false
   },
   "outputs": [],
   "source": [
    "X_num_models['gs_clf2'] = {'model': gs_clf2.best_estimator_,\n",
    "                           'best_params': gs_clf2.best_params_,\n",
    "                           'score': gs_clf2.best_score_\n",
    "                          }"
   ]
  },
  {
   "cell_type": "code",
   "execution_count": 43,
   "metadata": {
    "collapsed": false
   },
   "outputs": [
    {
     "data": {
      "text/plain": [
       "{'best_params': {'criterion': 'entropy',\n",
       "  'max_depth': 5,\n",
       "  'min_samples_leaf': 3,\n",
       "  'min_samples_split': 2,\n",
       "  'splitter': 'best'},\n",
       " 'model': DecisionTreeClassifier(class_weight=None, criterion='entropy', max_depth=5,\n",
       "             max_features=None, max_leaf_nodes=None,\n",
       "             min_impurity_split=1e-07, min_samples_leaf=3,\n",
       "             min_samples_split=2, min_weight_fraction_leaf=0.0,\n",
       "             presort=False, random_state=82, splitter='best'),\n",
       " 'score': 0.70330032167371648}"
      ]
     },
     "execution_count": 43,
     "metadata": {},
     "output_type": "execute_result"
    }
   ],
   "source": [
    "X_num_models['gs_clf2']"
   ]
  },
  {
   "cell_type": "markdown",
   "metadata": {},
   "source": [
    "## Model 2: Extracting Feature Importance"
   ]
  },
  {
   "cell_type": "code",
   "execution_count": 44,
   "metadata": {
    "collapsed": false
   },
   "outputs": [
    {
     "data": {
      "text/plain": [
       "array([ 0.        ,  0.18061866,  0.48711475,  0.20211951,  0.05351736,\n",
       "        0.00747622,  0.01236749,  0.05313785,  0.        ,  0.        ,\n",
       "        0.        ,  0.00364816,  0.        ,  0.        ,  0.        ,  0.        ])"
      ]
     },
     "execution_count": 44,
     "metadata": {},
     "output_type": "execute_result"
    }
   ],
   "source": [
    "gs_clf2.best_estimator_.feature_importances_"
   ]
  },
  {
   "cell_type": "code",
   "execution_count": 45,
   "metadata": {
    "collapsed": false
   },
   "outputs": [
    {
     "data": {
      "text/html": [
       "<div>\n",
       "<table border=\"1\" class=\"dataframe\">\n",
       "  <thead>\n",
       "    <tr style=\"text-align: right;\">\n",
       "      <th></th>\n",
       "      <th>Feature</th>\n",
       "      <th>Feature_Importance</th>\n",
       "    </tr>\n",
       "  </thead>\n",
       "  <tbody>\n",
       "    <tr>\n",
       "      <th>2</th>\n",
       "      <td>price</td>\n",
       "      <td>0.487115</td>\n",
       "    </tr>\n",
       "    <tr>\n",
       "      <th>3</th>\n",
       "      <td>num_photos</td>\n",
       "      <td>0.202120</td>\n",
       "    </tr>\n",
       "    <tr>\n",
       "      <th>1</th>\n",
       "      <td>bedrooms</td>\n",
       "      <td>0.180619</td>\n",
       "    </tr>\n",
       "    <tr>\n",
       "      <th>4</th>\n",
       "      <td>num_features</td>\n",
       "      <td>0.053517</td>\n",
       "    </tr>\n",
       "    <tr>\n",
       "      <th>7</th>\n",
       "      <td>longitude</td>\n",
       "      <td>0.053138</td>\n",
       "    </tr>\n",
       "    <tr>\n",
       "      <th>6</th>\n",
       "      <td>latitude</td>\n",
       "      <td>0.012367</td>\n",
       "    </tr>\n",
       "    <tr>\n",
       "      <th>5</th>\n",
       "      <td>description_length</td>\n",
       "      <td>0.007476</td>\n",
       "    </tr>\n",
       "    <tr>\n",
       "      <th>11</th>\n",
       "      <td>manager_bin_4</td>\n",
       "      <td>0.003648</td>\n",
       "    </tr>\n",
       "    <tr>\n",
       "      <th>0</th>\n",
       "      <td>bathrooms</td>\n",
       "      <td>0.000000</td>\n",
       "    </tr>\n",
       "    <tr>\n",
       "      <th>8</th>\n",
       "      <td>manager_bin_1</td>\n",
       "      <td>0.000000</td>\n",
       "    </tr>\n",
       "    <tr>\n",
       "      <th>9</th>\n",
       "      <td>manager_bin_2</td>\n",
       "      <td>0.000000</td>\n",
       "    </tr>\n",
       "    <tr>\n",
       "      <th>10</th>\n",
       "      <td>manager_bin_3</td>\n",
       "      <td>0.000000</td>\n",
       "    </tr>\n",
       "    <tr>\n",
       "      <th>12</th>\n",
       "      <td>manager_bin_5</td>\n",
       "      <td>0.000000</td>\n",
       "    </tr>\n",
       "    <tr>\n",
       "      <th>13</th>\n",
       "      <td>month_bin_1</td>\n",
       "      <td>0.000000</td>\n",
       "    </tr>\n",
       "    <tr>\n",
       "      <th>14</th>\n",
       "      <td>month_bin_2</td>\n",
       "      <td>0.000000</td>\n",
       "    </tr>\n",
       "    <tr>\n",
       "      <th>15</th>\n",
       "      <td>month_bin_3</td>\n",
       "      <td>0.000000</td>\n",
       "    </tr>\n",
       "  </tbody>\n",
       "</table>\n",
       "</div>"
      ],
      "text/plain": [
       "               Feature  Feature_Importance\n",
       "2                price            0.487115\n",
       "3           num_photos            0.202120\n",
       "1             bedrooms            0.180619\n",
       "4         num_features            0.053517\n",
       "7            longitude            0.053138\n",
       "6             latitude            0.012367\n",
       "5   description_length            0.007476\n",
       "11       manager_bin_4            0.003648\n",
       "0            bathrooms            0.000000\n",
       "8        manager_bin_1            0.000000\n",
       "9        manager_bin_2            0.000000\n",
       "10       manager_bin_3            0.000000\n",
       "12       manager_bin_5            0.000000\n",
       "13         month_bin_1            0.000000\n",
       "14         month_bin_2            0.000000\n",
       "15         month_bin_3            0.000000"
      ]
     },
     "execution_count": 45,
     "metadata": {},
     "output_type": "execute_result"
    }
   ],
   "source": [
    "model2_fi = pd.DataFrame({'Feature_Importance': gs_clf2.best_estimator_.feature_importances_,\n",
    "                          'Feature': X_num_features['Feature'].values\n",
    "                         })\n",
    "\n",
    "model2_fi.sort_values(by='Feature_Importance', ascending=False)"
   ]
  },
  {
   "cell_type": "code",
   "execution_count": 46,
   "metadata": {
    "collapsed": false
   },
   "outputs": [
    {
     "data": {
      "text/plain": [
       "<matplotlib.text.Text at 0x115e68950>"
      ]
     },
     "execution_count": 46,
     "metadata": {},
     "output_type": "execute_result"
    },
    {
     "data": {
      "image/png": "[encoded data removed]",
      "text/plain": [
       "<matplotlib.figure.Figure at 0x117849950>"
      ]
     },
     "metadata": {},
     "output_type": "display_data"
    }
   ],
   "source": [
    "feature_importance = gs_clf2.best_estimator_.feature_importances_\n",
    "\n",
    "feature_importance = 100.0 * (feature_importance / \n",
    "                              feature_importance.max())\n",
    "\n",
    "sorted_idx = np.argsort(feature_importance)\n",
    "pos = np.arange(sorted_idx.shape[0]) + .5\n",
    "pvals = feature_importance[sorted_idx]\n",
    "pcols = X.columns[sorted_idx]\n",
    "plt.figure(figsize=(8,12))\n",
    "plt.barh(pos, pvals, align='center')\n",
    "plt.yticks(pos, pcols)\n",
    "plt.xlabel('Relative Importance')\n",
    "plt.title('Feature Importance')"
   ]
  },
  {
   "cell_type": "markdown",
   "metadata": {},
   "source": [
    "**Interesting to see differences in feature selection between Logistic Regression and Decision Tree Classifier**"
   ]
  },
  {
   "cell_type": "code",
   "execution_count": 47,
   "metadata": {
    "collapsed": false
   },
   "outputs": [],
   "source": [
    "# joblib.dump(gs_clf2, 'Pickled_Files/X_num_Sub_Models/X_num_gs_clf2.pickle')"
   ]
  },
  {
   "cell_type": "markdown",
   "metadata": {},
   "source": [
    "## Model 3 - Gradient Boosting Classifier"
   ]
  },
  {
   "cell_type": "code",
   "execution_count": 48,
   "metadata": {
    "collapsed": true
   },
   "outputs": [],
   "source": [
    "clf3 = GradientBoostingClassifier(max_depth=1,\n",
    "                                  learning_rate=0.01,\n",
    "                                  random_state=82\n",
    "                                 )"
   ]
  },
  {
   "cell_type": "code",
   "execution_count": 49,
   "metadata": {
    "collapsed": true
   },
   "outputs": [],
   "source": [
    "X_num_clf3_dictionary = evaluate_model(clf3)"
   ]
  },
  {
   "cell_type": "code",
   "execution_count": 50,
   "metadata": {
    "collapsed": false
   },
   "outputs": [
    {
     "name": "stdout",
     "output_type": "stream",
     "text": [
      "Model Summary Report:\n",
      "\n",
      "GradientBoostingClassifier(criterion='friedman_mse', init=None,\n",
      "              learning_rate=0.01, loss='deviance', max_depth=1,\n",
      "              max_features=None, max_leaf_nodes=None,\n",
      "              min_impurity_split=1e-07, min_samples_leaf=1,\n",
      "              min_samples_split=2, min_weight_fraction_leaf=0.0,\n",
      "              n_estimators=100, presort='auto', random_state=82,\n",
      "              subsample=1.0, verbose=0, warm_start=False)\n",
      "\n",
      "\n",
      "Classification Report:\n",
      "\n",
      "             precision    recall  f1-score   support\n",
      "\n",
      "          0       0.00      0.00      0.00       775\n",
      "          1       0.69      1.00      0.82      6834\n",
      "          2       0.00      0.00      0.00      2262\n",
      "\n",
      "avg / total       0.48      0.69      0.57      9871\n",
      "\n",
      "Accuracy on training set: 0.695271\n",
      "Accuracy on test set:     0.692331\n",
      "\n",
      "\n",
      "Log Loss on training set: 0.779040\n",
      "Log Loss on test set:     0.784553\n"
     ]
    }
   ],
   "source": [
    "model_summary(clf3, X_num_clf3_dictionary)"
   ]
  },
  {
   "cell_type": "markdown",
   "metadata": {},
   "source": [
    "### Tuning Model 3 via GridSearch"
   ]
  },
  {
   "cell_type": "code",
   "execution_count": 51,
   "metadata": {
    "collapsed": false
   },
   "outputs": [],
   "source": [
    "params = {'max_depth': [1, 3],\n",
    "          'learning_rate': [0.01, 0.10, 1.0]\n",
    "         }\n",
    "\n",
    "gs_clf3 = GridSearchCV(clf3,\n",
    "                       params, \n",
    "                       n_jobs=-1,\n",
    "                       cv=10,\n",
    "                       verbose=1\n",
    "                      )"
   ]
  },
  {
   "cell_type": "code",
   "execution_count": 52,
   "metadata": {
    "collapsed": false
   },
   "outputs": [
    {
     "name": "stdout",
     "output_type": "stream",
     "text": [
      "Fitting 10 folds for each of 6 candidates, totalling 60 fits\n"
     ]
    },
    {
     "name": "stderr",
     "output_type": "stream",
     "text": [
      "[Parallel(n_jobs=-1)]: Done  42 tasks      | elapsed:  2.3min\n",
      "[Parallel(n_jobs=-1)]: Done  60 out of  60 | elapsed:  3.2min finished\n"
     ]
    }
   ],
   "source": [
    "X_num_gs_clf3_dictionary = evaluate_model(gs_clf3)"
   ]
  },
  {
   "cell_type": "code",
   "execution_count": 53,
   "metadata": {
    "collapsed": false
   },
   "outputs": [
    {
     "name": "stdout",
     "output_type": "stream",
     "text": [
      "Model Summary Report:\n",
      "\n",
      "GridSearchCV(cv=10, error_score='raise',\n",
      "       estimator=GradientBoostingClassifier(criterion='friedman_mse', init=None,\n",
      "              learning_rate=0.01, loss='deviance', max_depth=1,\n",
      "              max_features=None, max_leaf_nodes=None,\n",
      "              min_impurity_split=1e-07, min_samples_leaf=1,\n",
      "              min_samples_split=2, min_weight_fraction_leaf=0.0,\n",
      "              n_estimators=100, presort='auto', random_state=82,\n",
      "              subsample=1.0, verbose=0, warm_start=False),\n",
      "       fit_params={}, iid=True, n_jobs=-1,\n",
      "       param_grid={'learning_rate': [0.01, 0.1, 1.0], 'max_depth': [1, 3]},\n",
      "       pre_dispatch='2*n_jobs', refit=True, return_train_score=True,\n",
      "       scoring=None, verbose=1)\n",
      "\n",
      "\n",
      "Classification Report:\n",
      "\n",
      "             precision    recall  f1-score   support\n",
      "\n",
      "          0       0.42      0.23      0.30       775\n",
      "          1       0.79      0.91      0.84      6834\n",
      "          2       0.45      0.30      0.36      2262\n",
      "\n",
      "avg / total       0.68      0.72      0.69      9871\n",
      "\n",
      "Accuracy on training set: 0.776652\n",
      "Accuracy on test set:     0.719279\n",
      "\n",
      "\n",
      "Log Loss on training set: 0.526430\n",
      "Log Loss on test set:     0.664709\n"
     ]
    }
   ],
   "source": [
    "model_summary(gs_clf3, X_num_gs_clf3_dictionary)"
   ]
  },
  {
   "cell_type": "code",
   "execution_count": 54,
   "metadata": {
    "collapsed": true
   },
   "outputs": [],
   "source": [
    "X_num_models['gs_clf3'] = {'model': gs_clf3.best_estimator_,\n",
    "                           'best_params': gs_clf3.best_params_,\n",
    "                           'score': gs_clf3.best_score_\n",
    "                          }"
   ]
  },
  {
   "cell_type": "code",
   "execution_count": 55,
   "metadata": {
    "collapsed": false
   },
   "outputs": [
    {
     "data": {
      "text/plain": [
       "{'best_params': {'learning_rate': 1.0, 'max_depth': 3},\n",
       " 'model': GradientBoostingClassifier(criterion='friedman_mse', init=None,\n",
       "               learning_rate=1.0, loss='deviance', max_depth=3,\n",
       "               max_features=None, max_leaf_nodes=None,\n",
       "               min_impurity_split=1e-07, min_samples_leaf=1,\n",
       "               min_samples_split=2, min_weight_fraction_leaf=0.0,\n",
       "               n_estimators=100, presort='auto', random_state=82,\n",
       "               subsample=1.0, verbose=0, warm_start=False),\n",
       " 'score': 0.7248803221802893}"
      ]
     },
     "execution_count": 55,
     "metadata": {},
     "output_type": "execute_result"
    }
   ],
   "source": [
    "X_num_models['gs_clf3']"
   ]
  },
  {
   "cell_type": "code",
   "execution_count": 56,
   "metadata": {
    "collapsed": false
   },
   "outputs": [],
   "source": [
    "# joblib.dump(gs_clf3, 'Pickled_Files/X_num_Sub_Models/X_num_gs_clf3.pickle')"
   ]
  },
  {
   "cell_type": "markdown",
   "metadata": {},
   "source": [
    "## Model 3: Extracting Feature Importance"
   ]
  },
  {
   "cell_type": "code",
   "execution_count": 57,
   "metadata": {
    "collapsed": false
   },
   "outputs": [
    {
     "data": {
      "text/plain": [
       "array([ 0.01712488,  0.0500237 ,  0.19289515,  0.04244995,  0.08555003,\n",
       "        0.1040972 ,  0.23409585,  0.19751947,  0.01153679,  0.01691846,\n",
       "        0.01249596,  0.00717744,  0.00845904,  0.00524095,  0.00590462,\n",
       "        0.0085105 ])"
      ]
     },
     "execution_count": 57,
     "metadata": {},
     "output_type": "execute_result"
    }
   ],
   "source": [
    "gs_clf3.best_estimator_.feature_importances_"
   ]
  },
  {
   "cell_type": "code",
   "execution_count": 58,
   "metadata": {
    "collapsed": false
   },
   "outputs": [
    {
     "data": {
      "text/html": [
       "<div>\n",
       "<table border=\"1\" class=\"dataframe\">\n",
       "  <thead>\n",
       "    <tr style=\"text-align: right;\">\n",
       "      <th></th>\n",
       "      <th>Feature</th>\n",
       "      <th>Feature_Importance</th>\n",
       "    </tr>\n",
       "  </thead>\n",
       "  <tbody>\n",
       "    <tr>\n",
       "      <th>6</th>\n",
       "      <td>latitude</td>\n",
       "      <td>0.234096</td>\n",
       "    </tr>\n",
       "    <tr>\n",
       "      <th>7</th>\n",
       "      <td>longitude</td>\n",
       "      <td>0.197519</td>\n",
       "    </tr>\n",
       "    <tr>\n",
       "      <th>2</th>\n",
       "      <td>price</td>\n",
       "      <td>0.192895</td>\n",
       "    </tr>\n",
       "    <tr>\n",
       "      <th>5</th>\n",
       "      <td>description_length</td>\n",
       "      <td>0.104097</td>\n",
       "    </tr>\n",
       "    <tr>\n",
       "      <th>4</th>\n",
       "      <td>num_features</td>\n",
       "      <td>0.085550</td>\n",
       "    </tr>\n",
       "    <tr>\n",
       "      <th>1</th>\n",
       "      <td>bedrooms</td>\n",
       "      <td>0.050024</td>\n",
       "    </tr>\n",
       "    <tr>\n",
       "      <th>3</th>\n",
       "      <td>num_photos</td>\n",
       "      <td>0.042450</td>\n",
       "    </tr>\n",
       "    <tr>\n",
       "      <th>0</th>\n",
       "      <td>bathrooms</td>\n",
       "      <td>0.017125</td>\n",
       "    </tr>\n",
       "    <tr>\n",
       "      <th>9</th>\n",
       "      <td>manager_bin_2</td>\n",
       "      <td>0.016918</td>\n",
       "    </tr>\n",
       "    <tr>\n",
       "      <th>10</th>\n",
       "      <td>manager_bin_3</td>\n",
       "      <td>0.012496</td>\n",
       "    </tr>\n",
       "    <tr>\n",
       "      <th>8</th>\n",
       "      <td>manager_bin_1</td>\n",
       "      <td>0.011537</td>\n",
       "    </tr>\n",
       "    <tr>\n",
       "      <th>15</th>\n",
       "      <td>month_bin_3</td>\n",
       "      <td>0.008511</td>\n",
       "    </tr>\n",
       "    <tr>\n",
       "      <th>12</th>\n",
       "      <td>manager_bin_5</td>\n",
       "      <td>0.008459</td>\n",
       "    </tr>\n",
       "    <tr>\n",
       "      <th>11</th>\n",
       "      <td>manager_bin_4</td>\n",
       "      <td>0.007177</td>\n",
       "    </tr>\n",
       "    <tr>\n",
       "      <th>14</th>\n",
       "      <td>month_bin_2</td>\n",
       "      <td>0.005905</td>\n",
       "    </tr>\n",
       "    <tr>\n",
       "      <th>13</th>\n",
       "      <td>month_bin_1</td>\n",
       "      <td>0.005241</td>\n",
       "    </tr>\n",
       "  </tbody>\n",
       "</table>\n",
       "</div>"
      ],
      "text/plain": [
       "               Feature  Feature_Importance\n",
       "6             latitude            0.234096\n",
       "7            longitude            0.197519\n",
       "2                price            0.192895\n",
       "5   description_length            0.104097\n",
       "4         num_features            0.085550\n",
       "1             bedrooms            0.050024\n",
       "3           num_photos            0.042450\n",
       "0            bathrooms            0.017125\n",
       "9        manager_bin_2            0.016918\n",
       "10       manager_bin_3            0.012496\n",
       "8        manager_bin_1            0.011537\n",
       "15         month_bin_3            0.008511\n",
       "12       manager_bin_5            0.008459\n",
       "11       manager_bin_4            0.007177\n",
       "14         month_bin_2            0.005905\n",
       "13         month_bin_1            0.005241"
      ]
     },
     "execution_count": 58,
     "metadata": {},
     "output_type": "execute_result"
    }
   ],
   "source": [
    "model3_fi = pd.DataFrame({'Feature_Importance': gs_clf3.best_estimator_.feature_importances_,\n",
    "                          'Feature': X_num_features['Feature'].values\n",
    "                         })\n",
    "\n",
    "model3_fi.sort_values(by='Feature_Importance', ascending=False)"
   ]
  },
  {
   "cell_type": "code",
   "execution_count": 59,
   "metadata": {
    "collapsed": false
   },
   "outputs": [
    {
     "data": {
      "text/plain": [
       "<matplotlib.text.Text at 0x118154c50>"
      ]
     },
     "execution_count": 59,
     "metadata": {},
     "output_type": "execute_result"
    },
    {
     "data": {
      "image/png": "[encoded data removed]",
      "text/plain": [
       "<matplotlib.figure.Figure at 0x117947f50>"
      ]
     },
     "metadata": {},
     "output_type": "display_data"
    }
   ],
   "source": [
    "feature_importance = gs_clf3.best_estimator_.feature_importances_\n",
    "\n",
    "feature_importance = 100.0 * (feature_importance / \n",
    "                              feature_importance.max())\n",
    "\n",
    "sorted_idx = np.argsort(feature_importance)\n",
    "pos = np.arange(sorted_idx.shape[0]) + .5\n",
    "pvals = feature_importance[sorted_idx]\n",
    "pcols = X.columns[sorted_idx]\n",
    "plt.figure(figsize=(8,12))\n",
    "plt.barh(pos, pvals, align='center')\n",
    "plt.yticks(pos, pcols)\n",
    "plt.xlabel('Relative Importance')\n",
    "plt.title('Feature Importance')"
   ]
  },
  {
   "cell_type": "markdown",
   "metadata": {},
   "source": [
    "## Majority Voting"
   ]
  },
  {
   "cell_type": "code",
   "execution_count": 60,
   "metadata": {
    "collapsed": false
   },
   "outputs": [
    {
     "name": "stdout",
     "output_type": "stream",
     "text": [
      "Accuracy: 0.6951 (+/- 0.0003) [Logistic Regression]\n",
      "Accuracy: 0.7033 (+/- 0.0029) [Decision Tree Classifier]\n",
      "Accuracy: 0.7249 (+/- 0.0066) [Gradient Boosting Classifier]\n",
      "Accuracy: 0.7088 (+/- 0.0051) [Majority Voting]\n"
     ]
    }
   ],
   "source": [
    "clf_labels = ['Logistic Regression', 'Decision Tree Classifier', 'Gradient Boosting Classifier']\n",
    "\n",
    "mv_clf = MajorityVoteClassifier(classifiers=[X_num_models['gs_clf1']['model'],\n",
    "                                             X_num_models['gs_clf2']['model'],\n",
    "                                             X_num_models['gs_clf3']['model']\n",
    "                                             ])\n",
    "\n",
    "clf_labels += ['Majority Voting']\n",
    "\n",
    "all_clf = [X_num_models['gs_clf1']['model'],\n",
    "            X_num_models['gs_clf2']['model'],\n",
    "            X_num_models['gs_clf3']['model'],\n",
    "            mv_clf\n",
    "          ]\n",
    "\n",
    "for clf, label in zip(all_clf, clf_labels):\n",
    "    scores = cross_val_score(estimator=clf,\n",
    "                             X=X_train,\n",
    "                             y=y_train,\n",
    "                             cv=10,\n",
    "                             scoring='accuracy')\n",
    "    \n",
    "    print(\"Accuracy: %0.4f (+/- %0.4f) [%s]\" % (scores.mean(), scores.std(), label))"
   ]
  },
  {
   "cell_type": "code",
   "execution_count": 61,
   "metadata": {
    "collapsed": false
   },
   "outputs": [
    {
     "name": "stdout",
     "output_type": "stream",
     "text": [
      "Negative Log Loss: -0.7655 (+/- 0.0010) [Logistic Regression]\n",
      "Negative Log Loss: -0.7070 (+/- 0.0126) [Decision Tree Classifier]\n",
      "Negative Log Loss: -0.6342 (+/- 0.0082) [Gradient Boosting Classifier]\n",
      "Negative Log Loss: -0.6577 (+/- 0.0038) [Majority Voting]\n"
     ]
    }
   ],
   "source": [
    "clf_labels = ['Logistic Regression', 'Decision Tree Classifier', 'Gradient Boosting Classifier']\n",
    "\n",
    "mv_clf = MajorityVoteClassifier(classifiers=[X_num_models['gs_clf1']['model'],\n",
    "                                             X_num_models['gs_clf2']['model'],\n",
    "                                             X_num_models['gs_clf3']['model']\n",
    "                                             ])\n",
    "\n",
    "clf_labels += ['Majority Voting']\n",
    "\n",
    "all_clf = [X_num_models['gs_clf1']['model'],\n",
    "            X_num_models['gs_clf2']['model'],\n",
    "            X_num_models['gs_clf3']['model'],\n",
    "            mv_clf\n",
    "          ]\n",
    "\n",
    "for clf, label in zip(all_clf, clf_labels):\n",
    "    scores = cross_val_score(estimator=clf,\n",
    "                             X=X_train,\n",
    "                             y=y_train,\n",
    "                             cv=10,\n",
    "                             scoring='neg_log_loss')\n",
    "    \n",
    "    print(\"Negative Log Loss: %0.4f (+/- %0.4f) [%s]\" % (scores.mean(), scores.std(), label))"
   ]
  },
  {
   "cell_type": "markdown",
   "metadata": {},
   "source": [
    "**MISC NOTES**"
   ]
  },
  {
   "cell_type": "markdown",
   "metadata": {},
   "source": [
    "**Can call the model, `X_num_models['gs_clf1']['model']` - for use in majority voting below**"
   ]
  },
  {
   "cell_type": "raw",
   "metadata": {
    "collapsed": false
   },
   "source": [
    "X_num_models['gs_clf1']['model'].predict_proba(X_test)"
   ]
  },
  {
   "cell_type": "markdown",
   "metadata": {},
   "source": [
    "**How to Load in a Pickled Model**"
   ]
  },
  {
   "cell_type": "raw",
   "metadata": {},
   "source": [
    "from_pkl_cls = joblib.load(\"tnc_model.pickle\")"
   ]
  }
 ],
 "metadata": {
  "anaconda-cloud": {},
  "kernelspec": {
   "display_name": "Python [conda root]",
   "language": "python",
   "name": "conda-root-py"
  },
  "language_info": {
   "codemirror_mode": {
    "name": "ipython",
    "version": 2
   },
   "file_extension": ".py",
   "mimetype": "text/x-python",
   "name": "python",
   "nbconvert_exporter": "python",
   "pygments_lexer": "ipython2",
   "version": "2.7.12"
  }
 },
 "nbformat": 4,
 "nbformat_minor": 1
}
